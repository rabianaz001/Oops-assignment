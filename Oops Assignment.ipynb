{
 "cells": [
  {
   "cell_type": "markdown",
   "metadata": {},
   "source": [
    "1. What is a constructor in Python? Explain its purpose and usage."
   ]
  },
  {
   "cell_type": "markdown",
   "metadata": {},
   "source": [
    "In Python, a constructor is a special method that is called when an object is created. The purpose of a python constructor is to assign values to the data members within the class when an object is initialized. The name of the constructor method is always __init__."
   ]
  },
  {
   "cell_type": "code",
   "execution_count": 4,
   "metadata": {},
   "outputs": [
    {
     "name": "stdout",
     "output_type": "stream",
     "text": [
      "RABIA\n",
      "21\n"
     ]
    }
   ],
   "source": [
    "#example of constructor in python\n",
    "class Person:\n",
    "    def __init__(self, name, age):\n",
    "        self.name = name\n",
    "        self.age = age\n",
    "\n",
    "# Create an instance of the Person class\n",
    "person = Person(\"RABIA\", 21)\n",
    "\n",
    "# Access and print the attributes\n",
    "print(person.name)\n",
    "print(person.age)"
   ]
  },
  {
   "cell_type": "markdown",
   "metadata": {},
   "source": [
    "2. Differentiate between a parameterless constructor and a parameterized constructor in Python."
   ]
  },
  {
   "cell_type": "code",
   "execution_count": 2,
   "metadata": {},
   "outputs": [
    {
     "name": "stdout",
     "output_type": "stream",
     "text": [
      "kia\n",
      "113\n",
      "Cloth = Cotton\n",
      "Type = T-Shirt\n"
     ]
    }
   ],
   "source": [
    "\"\"\" Parameterized Constructor: A parameterized constructor is a constructor that takes one or\n",
    "more arguments. It is used to create an object with custom values for its attributes.\"\"\"\n",
    "#Example of parametrized constructor:\n",
    "class parameterized:\n",
    "    def __init__ (self,car,model):\n",
    "        self.car = car\n",
    "        self.model =model\n",
    "    \n",
    "# Create an instances of parametrized class\n",
    "pc = parameterized(\"kia\",113)\n",
    "\n",
    "#Acess and print the attributes\n",
    "print(pc.car)\n",
    "print(pc.model)\n",
    "\"\"\" Non-Parameterized Constructor: A non-parameterized constructor is a constructor that \n",
    "does not take any arguments. It is a special method in Python that is called when you create an\n",
    "instance of a class. The non-parameterized constructor is used to initialize the default \n",
    "values for the instance variables of the object.\"\"\"\n",
    "\n",
    "#Example of non parametrized constructor:\n",
    "class Dress:\n",
    "    def __init__(self):\n",
    "        self.cloth = \"Cotton\"\n",
    "        self.type = \"T-Shirt\"\n",
    "    def get_details(self):\n",
    "        return f\"Cloth = {self.cloth}\\nType = {self.type}\"\n",
    "t_shirt = Dress()\n",
    "print(t_shirt.get_details())"
   ]
  },
  {
   "cell_type": "markdown",
   "metadata": {},
   "source": [
    "3. How do you define a constructor in a Python class? Provide an example."
   ]
  },
  {
   "cell_type": "code",
   "execution_count": null,
   "metadata": {},
   "outputs": [],
   "source": [
    "\"\"\"The constructor method is used to initialize data. It is run as soon as an object of a class\n",
    "is instantiated. Also known as the __init__ method, it will be the first definition of a class \n",
    "and looks like this:\"\"\"\n",
    "class python: \n",
    "    def __init__(self): #here __init__ is known as constructor\n",
    "        print(\"This is the constructor method.\")\n",
    "py = python()"
   ]
  },
  {
   "cell_type": "markdown",
   "metadata": {},
   "source": [
    "4. Explain the `__init__` method in Python and its role in constructors."
   ]
  },
  {
   "cell_type": "markdown",
   "metadata": {},
   "source": [
    "The __init__ method is commonly referred to as the “constructor” because it is responsible for constructing the object. It is called automatically when the object is created, and it is used to initialize the object’s attributes.\n",
    "\n",
    "def __init__(self):\n",
    "    # body of the constructor\n",
    "\n",
    "Types of Python Constructor\n",
    "In Python, there are two types of constructors:\n",
    "\n",
    "1.Parameterized Constructor: A parameterized constructor is a constructor that takes one or more arguments. It is used to create an object with custom values for its attributes.\n",
    "\n",
    "\n",
    "2.Non-Parameterized Constructor: A non-parameterized constructor is a constructor that does not take any arguments. It is a special method in Python that is called when you create an instance of a class. The non-parameterized constructor is used to initialize the default values for the instance variables of the object."
   ]
  },
  {
   "cell_type": "markdown",
   "metadata": {},
   "source": [
    "5. In a class named `Person`, create a constructor that initializes the `name` and `age` attributes. Provide an\n",
    "example of creating an object of this class."
   ]
  },
  {
   "cell_type": "code",
   "execution_count": 64,
   "metadata": {},
   "outputs": [
    {
     "name": "stdout",
     "output_type": "stream",
     "text": [
      "Rabia\n",
      "21\n"
     ]
    }
   ],
   "source": [
    "class Person:\n",
    "    def __init__(self,name,age):\n",
    "        self.name = name\n",
    "        self.age = age\n",
    "person = Person(\"Rabia\",21)\n",
    "print(person.name)\n",
    "print(person.age)"
   ]
  },
  {
   "cell_type": "markdown",
   "metadata": {},
   "source": [
    "6.How can you call a constructor explicitly in Python? Give an example."
   ]
  },
  {
   "cell_type": "markdown",
   "metadata": {},
   "source": [
    "Here are some rules for defining constructors in Python:\n",
    "\n",
    "1. The constructor method must be named __init__. This is a special name that is recognized by Python as the constructor method.\n",
    "\n",
    "2. The first argument of the constructor method must be self. This is a reference to the object itself, and it is used to access the object’s attributes and methods.\n",
    "\n",
    "3. The constructor method must be defined inside the class definition. It cannot be defined outside the class.\n",
    "\n",
    "4. The constructor method is called automatically when an object is created. You don’t need to call it explicitly.\n",
    "\n",
    "5. You can define both default and parameterized constructors in a class. If you define both, the parameterized constructor will be used when you pass arguments to the object constructor, and the default constructor will be used when you don’t pass any arguments.\n"
   ]
  },
  {
   "cell_type": "code",
   "execution_count": 13,
   "metadata": {},
   "outputs": [
    {
     "name": "stdout",
     "output_type": "stream",
     "text": [
      "42\n",
      "Hello\n"
     ]
    }
   ],
   "source": [
    "class MyClass:\n",
    "    def __init__(self, arg1, arg2):\n",
    "        self.arg1 = arg1\n",
    "        self.arg2 = arg2\n",
    "\n",
    "# Explicitly calling the constructor\n",
    "explicit_instance = MyClass.__new__(MyClass)\n",
    "MyClass.__init__(explicit_instance, arg1=42, arg2=\"Hello\")\n",
    "\n",
    "# Accessing the attributes of the explicitly created instance\n",
    "print(explicit_instance.arg1)  \n",
    "print(explicit_instance.arg2) "
   ]
  },
  {
   "cell_type": "markdown",
   "metadata": {},
   "source": [
    "7. What is the significance of the `self` parameter in Python constructors? Explain with an example."
   ]
  },
  {
   "cell_type": "markdown",
   "metadata": {},
   "source": [
    "The use of self variable in Python helps to differentiate between the instance attributes (and methods) and local variables.\n",
    "\n",
    "The self variable in Python can also be used to access a variable field within the class definition."
   ]
  },
  {
   "cell_type": "code",
   "execution_count": 65,
   "metadata": {},
   "outputs": [
    {
     "data": {
      "text/plain": [
       "'this is the details of student class'"
      ]
     },
     "execution_count": 65,
     "metadata": {},
     "output_type": "execute_result"
    }
   ],
   "source": [
    "#example of 'self' parameter\n",
    "class test:\n",
    "    def class_detail(self):\n",
    "        return \"this is the details of student class\"\n",
    "rabia = test()\n",
    "rabia.class_detail()"
   ]
  },
  {
   "cell_type": "markdown",
   "metadata": {},
   "source": [
    "8. Discuss the concept of default constructors in Python. When are they used?"
   ]
  },
  {
   "cell_type": "markdown",
   "metadata": {},
   "source": [
    "Default Constructor: A default constructor is a constructor that takes no arguments. It is used to create an object with default values for its attributes.\n",
    "\n",
    "Default constructors are useful when you want to create an object with a predefined set of attributes, but you don’t want to specify the values of those attributes when the object is created."
   ]
  },
  {
   "cell_type": "code",
   "execution_count": 5,
   "metadata": {},
   "outputs": [
    {
     "name": "stdout",
     "output_type": "stream",
     "text": [
      "Python a programming language\n"
     ]
    }
   ],
   "source": [
    "#example of default constructor:\n",
    "class Python:\n",
    "# default constructor\n",
    "    def __init__(self):\n",
    "        self.language = \"Python a programming language\"\n",
    "\n",
    "# a method for printing data members\n",
    "    def print_info(self):\n",
    "        print(self.language)\n",
    "\n",
    "# creating object of the class\n",
    "obj = Python()\n",
    "\n",
    "# calling the instance method using the object obj\n",
    "obj.print_info()"
   ]
  },
  {
   "cell_type": "markdown",
   "metadata": {},
   "source": [
    "9. Create a Python class called `Rectangle` with a constructor that initializes the `width` and `height`\n",
    "attributes. Provide a method to calculate the area of the rectangle."
   ]
  },
  {
   "cell_type": "code",
   "execution_count": 6,
   "metadata": {},
   "outputs": [
    {
     "name": "stdout",
     "output_type": "stream",
     "text": [
      "Enter length of rectangle: 14\n",
      "Enter breadth of rectangle: 18\n",
      "Area of rectangle: 252\n"
     ]
    }
   ],
   "source": [
    "class rectangle():\n",
    "    def __init__(self,breadth,length):\n",
    "        self.breadth=breadth\n",
    "        self.length=length\n",
    "    def area(self):\n",
    "        return self.breadth*self.length\n",
    "a=int(input(\"Enter length of rectangle: \"))\n",
    "b=int(input(\"Enter breadth of rectangle: \"))\n",
    "obj=rectangle(a,b)\n",
    "print(\"Area of rectangle:\",obj.area())"
   ]
  },
  {
   "cell_type": "markdown",
   "metadata": {},
   "source": [
    "10. How can you have multiple constructors in a Python class? Explain with an example."
   ]
  },
  {
   "cell_type": "markdown",
   "metadata": {},
   "source": [
    "You can have more than one constructor in a single Python class. This is known as “method overloading”. To do this, you will need to use the same method name (in this case, the name of the method will be the same as the name of the class) but define the method with different numbers or types of arguments.\n",
    "\n",
    "Here is an example of a class with two constructors:"
   ]
  },
  {
   "cell_type": "code",
   "execution_count": 12,
   "metadata": {},
   "outputs": [
    {
     "name": "stdout",
     "output_type": "stream",
     "text": [
      "10 20\n",
      "30 None\n"
     ]
    }
   ],
   "source": [
    "#pthon programe to demonstrate multiple constructor:\n",
    "class Test:\n",
    "    def __init__(self, arg1, arg2=None):\n",
    "        self.arg1 = arg1\n",
    "        self.arg2 = arg2\n",
    "\n",
    "# Example usage\n",
    "obj1 = Test(10, 20)\n",
    "obj2 = Test(30)\n",
    "\n",
    "print(obj1.arg1, obj1.arg2) \n",
    "print(obj2.arg1, obj2.arg2)  \n"
   ]
  },
  {
   "cell_type": "markdown",
   "metadata": {},
   "source": [
    "11. What is method overloading, and how is it related to constructors in Python?"
   ]
  },
  {
   "cell_type": "markdown",
   "metadata": {},
   "source": [
    "Two methods in a class have the same name we call method overloading. Both the methods are having different parameters. If the constructor is written two times with different parameters we call constructor overloading. \n",
    "In the python method and constructor, overloading is not possible.\n",
    "The concept of method overloading and constructor overloading is possible in other languages like java and c++."
   ]
  },
  {
   "cell_type": "code",
   "execution_count": 24,
   "metadata": {},
   "outputs": [
    {
     "name": "stdout",
     "output_type": "stream",
     "text": [
      "this is method\n",
      "sum : 7\n"
     ]
    },
    {
     "data": {
      "text/plain": [
       "'In The above program, we created an object with two parameters passed. \\nThose two parameters are passed to the second constructor.'"
      ]
     },
     "execution_count": 24,
     "metadata": {},
     "output_type": "execute_result"
    }
   ],
   "source": [
    "#for example we have created a class with two method definition.\n",
    "class test:\n",
    "    def __init__(self, k):\n",
    "        self.x1=k\n",
    "    def __init__(self,l,k):\n",
    "        self.x1=l\n",
    "        self.x2=k\n",
    "    def info(self):\n",
    "        print(\"this is method\")\n",
    "        print(\"sum :\",self.x1 + self.x2)\n",
    "ob1=test(1,6)\n",
    "ob1.info()\n",
    "\n",
    "\"\"\"In The above program, we created an object with two parameters passed. \n",
    "Those two parameters are passed to the second constructor.\"\"\""
   ]
  },
  {
   "cell_type": "markdown",
   "metadata": {},
   "source": [
    "12. Explain the use of the `super()` function in Python constructors. Provide an example."
   ]
  },
  {
   "cell_type": "markdown",
   "metadata": {},
   "source": [
    "The super() function is often used with the __init__() method to initialize the attributes of the parent class. In this example, we have a Parent class and a Child class that inherits from the Parent class. The Parent class has an __init__() method that initializes the name and age attributes."
   ]
  },
  {
   "cell_type": "code",
   "execution_count": 70,
   "metadata": {},
   "outputs": [
    {
     "name": "stdout",
     "output_type": "stream",
     "text": [
      "hello Alice\n"
     ]
    }
   ],
   "source": [
    "class Parent:\n",
    "\n",
    "    def __init__(self, name):\n",
    "        self.name = name\n",
    "\n",
    "    def greet(self):\n",
    "        print(\"hello\",self.name)\n",
    "\n",
    "class Child(Parent):\n",
    "\n",
    "    def __init__(self, name, age):\n",
    "        super().__init__(name)\n",
    "        self.age = age\n",
    "\n",
    "child = Child(\"Alice\", 10)\n",
    "\n",
    "child.greet()"
   ]
  },
  {
   "cell_type": "markdown",
   "metadata": {},
   "source": [
    "13. Create a class called `Book` with a constructor that initializes the `title`, `author`, and `published_year`\n",
    "attributes. Provide a method to display book details."
   ]
  },
  {
   "cell_type": "code",
   "execution_count": 71,
   "metadata": {},
   "outputs": [
    {
     "name": "stdout",
     "output_type": "stream",
     "text": [
      "orphane age \n",
      "wilhelmm\n",
      "2010\n"
     ]
    }
   ],
   "source": [
    "class book:\n",
    "    def __init__(self,title,author,published_year):\n",
    "        self.title = title\n",
    "        self.author = author\n",
    "        self.published_year = published_year\n",
    "        \n",
    "obj = book(\"orphane age \",\"wilhelmm\",2010)\n",
    "print(obj.title)\n",
    "print(obj.author)\n",
    "print(obj.published_year)"
   ]
  },
  {
   "cell_type": "markdown",
   "metadata": {},
   "source": [
    "14. Discuss the differences between constructors and regular methods in Python classes."
   ]
  },
  {
   "cell_type": "markdown",
   "metadata": {},
   "source": [
    "A constructor helps in initializing an object, has no return type and cannot be inherited by subclasses. On the other hand, a method executes operations, returns a value, and can be inherited by subclasses."
   ]
  },
  {
   "cell_type": "code",
   "execution_count": 72,
   "metadata": {},
   "outputs": [
    {
     "data": {
      "text/plain": [
       "('hello', 'RABIA')"
      ]
     },
     "execution_count": 72,
     "metadata": {},
     "output_type": "execute_result"
    }
   ],
   "source": [
    "#body of constructor and method :\n",
    "class test:\n",
    "    def __init__(self,name):  #this this the construtor which is called when object is created and it has no return type\n",
    "        self.name = name\n",
    "        \n",
    "    def greet(self):  #this is regular method which defines the behaviour of object and can return value\n",
    "        return \"hello\",self.name\n",
    "\n",
    "a = test(\"RABIA\")\n",
    "a.greet()"
   ]
  },
  {
   "cell_type": "markdown",
   "metadata": {},
   "source": [
    "15. Explain the role of the `self` parameter in instance variable initialization within a constructor."
   ]
  },
  {
   "cell_type": "markdown",
   "metadata": {},
   "source": [
    "\"self\" represents the instance or objects of a class and binds the attributes of a class with specific arguments. The use of self variable in Python helps to differentiate between the instance attributes (and methods) and local variables. "
   ]
  },
  {
   "cell_type": "code",
   "execution_count": 73,
   "metadata": {},
   "outputs": [
    {
     "name": "stdout",
     "output_type": "stream",
     "text": [
      "Model :  toyota\n"
     ]
    },
    {
     "data": {
      "text/plain": [
       "'The self variable is used to represent the instance of the class which is often used in \\nobject-oriented programming. It works as a reference to the object. Python uses the self parameter \\nto refer to instance attributes and methods of the class.  '"
      ]
     },
     "execution_count": 73,
     "metadata": {},
     "output_type": "execute_result"
    }
   ],
   "source": [
    "class Car: \n",
    "    def __init__(self, model): \n",
    "        self.model = model \n",
    "    def Car_info(self): \n",
    "        print(\"Model : \", self.model) \n",
    "a = Car(\"toyota\")\n",
    "a.Car_info()\n",
    "\n",
    "\"\"\"The self variable is used to represent the instance of the class which is often used in \n",
    "object-oriented programming. It works as a reference to the object. Python uses the self parameter \n",
    "to refer to instance attributes and methods of the class.  \"\"\""
   ]
  },
  {
   "cell_type": "markdown",
   "metadata": {},
   "source": [
    "16. How do you prevent a class from having multiple instances by using constructors in Python? Provide an\n",
    "example."
   ]
  },
  {
   "cell_type": "markdown",
   "metadata": {},
   "source": [
    "Preventing a class from having multiple instances ,you can use a class variable to track whether an instance has already been created ....here is an example"
   ]
  },
  {
   "cell_type": "code",
   "execution_count": 74,
   "metadata": {},
   "outputs": [
    {
     "name": "stdout",
     "output_type": "stream",
     "text": [
      "Instance 1\n",
      "Instance 1\n"
     ]
    },
    {
     "data": {
      "text/plain": [
       "\"In this example the '__new__' method is overridden to check an instance already exist . If an\\ninstance does not exist new instance is created.The '__init__' method is then used to initialize\\nthe object but only for the first instance .Subsequent instances reuses the data from the first \\ninstance\""
      ]
     },
     "execution_count": 74,
     "metadata": {},
     "output_type": "execute_result"
    }
   ],
   "source": [
    "class Singleton:\n",
    "    _instance = None\n",
    "    \n",
    "    def __new__(cls,*args,**kwargs):\n",
    "        if not cls._instance:\n",
    "            cls._instance = super(Singleton,cls).__new__(cls)\n",
    "        return cls._instance\n",
    "    \n",
    "    def __init__(self,data):\n",
    "        if not hasattr (self,'initialized'):\n",
    "            self.initialized = True\n",
    "            self.data = data\n",
    "            \n",
    "singleton1 = Singleton(\"Instance 1\")\n",
    "print(singleton1.data)\n",
    "\n",
    "singleton2 = Singleton(\"Instance 2\")\n",
    "print(singleton2.data)\n",
    "\n",
    "\"\"\"In this example the '__new__' method is overridden to check an instance already exist . If an\n",
    "instance does not exist new instance is created.The '__init__' method is then used to initialize\n",
    "the object but only for the first instance .Subsequent instances reuses the data from the first \n",
    "instance\"\"\""
   ]
  },
  {
   "cell_type": "markdown",
   "metadata": {},
   "source": [
    "17. Create a Python class called `Student` with a constructor that takes a list of subjects as a parameter and\n",
    "initializes the `subjects` attribute."
   ]
  },
  {
   "cell_type": "code",
   "execution_count": 75,
   "metadata": {},
   "outputs": [
    {
     "name": "stdout",
     "output_type": "stream",
     "text": [
      "this is the details of subject:  Abbie {'cse'}\n"
     ]
    }
   ],
   "source": [
    "class student:\n",
    "    def __init__(self,name,subject):\n",
    "        self.name = name\n",
    "        self.subject = subject\n",
    "    def sub_info(self):\n",
    "        print(\"this is the details of subject: \",self.name,{self.subject})\n",
    "a = student(\"Rabia\",\"english\")\n",
    "b = student(\"Abbie\",\"cse\")\n",
    "c = student(\"Bobby\",\"maths\")\n",
    "\n",
    "b.sub_info()"
   ]
  },
  {
   "cell_type": "markdown",
   "metadata": {},
   "source": [
    "18. What is the purpose of the `__del__` method in Python classes, and how does it relate to constructors?"
   ]
  },
  {
   "cell_type": "markdown",
   "metadata": {},
   "source": [
    "In Python, the __del__() method is referred to as a destructor method. It is called after an object’s garbage collection occurs, which happens after all references to the item have been destroyed."
   ]
  },
  {
   "cell_type": "code",
   "execution_count": 76,
   "metadata": {},
   "outputs": [
    {
     "name": "stdout",
     "output_type": "stream",
     "text": [
      "Student table created.\n",
      "Destructor called, Student table deleted. JOHN john123\n"
     ]
    }
   ],
   "source": [
    "\n",
    "# Python program to illustrate __del__\n",
    "class Student:\n",
    "       # Initializing\n",
    "        def __init__(self,name,student_id):\n",
    "            self.name = name\n",
    "            self.student_id = student_id\n",
    "            print('Student table created.')\n",
    "\n",
    "       # Deleting (Calling destructor)\n",
    "        def __del__(self):\n",
    "             print('Destructor called, Student table deleted.',self.name,self.student_id)\n",
    "\n",
    "Stud1 = Student(\"JOHN\",\"john123\")\n",
    "del Stud1"
   ]
  },
  {
   "cell_type": "markdown",
   "metadata": {},
   "source": [
    "19. Explain the use of constructor chaining in Python. Provide a practical example."
   ]
  },
  {
   "cell_type": "markdown",
   "metadata": {},
   "source": [
    "Constructor chaining is useful for several reasons:\n",
    "1. Code Reusability : Constructor chaining allows a subclass to reuse the code of its superclass.When a subclass calls the constructor of its parent class, it can leverage the initialization logic defined in the parent classs without duplicating code.\n",
    "\n",
    "2. Initialization of Base Class: Inheritance often involves building upon existing classes. Constructor chaining ensures that the initialization logic of the base class is executed before the subclass-specific initialization. This helps in establishing a proper and consistent object state.\n",
    "\n",
    "3. Maintaing Object State: When an object is created, it needs to be in a valid state. Constructor chaining helps ensure that the objects state is properly initialized,starting from the base class and then moving to more  specialized classes.\n",
    "\n",
    "4. Avoiding Redundancy : Without constructor chaining ,each subclass would need to duplicate the initialization logic of the base class,leading to redundant code. Chaining constructors through the use 'super()' simplifies the code and reduces the chances of errors."
   ]
  },
  {
   "cell_type": "code",
   "execution_count": 77,
   "metadata": {},
   "outputs": [
    {
     "name": "stdout",
     "output_type": "stream",
     "text": [
      "KIA vehicle is created .\n",
      "KIAcarens car is created.\n"
     ]
    },
    {
     "data": {
      "text/plain": [
       "'this is the example of consructor chaining in which car class inherits from vehicle  class by \\nusing super().__init__.'"
      ]
     },
     "execution_count": 77,
     "metadata": {},
     "output_type": "execute_result"
    }
   ],
   "source": [
    "class vehicle:\n",
    "    def __init__(self,brand):\n",
    "        self.brand = brand\n",
    "        print(f\"{self.brand} vehicle is created .\")\n",
    "class car(vehicle):\n",
    "    def __init__(self,brand,model):\n",
    "        super().__init__(brand)\n",
    "        self.model = model\n",
    "        print(f\"{self.brand}{self.model} car is created.\")\n",
    "        \n",
    "my_car = car(\"KIA\",\"carens\")\n",
    "\n",
    "\"\"\"this is the example of consructor chaining in which car class inherits from vehicle  class by \n",
    "using super().__init__.\"\"\""
   ]
  },
  {
   "cell_type": "markdown",
   "metadata": {},
   "source": [
    "20. Create a Python class called `Car` with a default constructor that initializes the `make` and `model`\n",
    "attributes. Provide a method to display car information."
   ]
  },
  {
   "cell_type": "code",
   "execution_count": 78,
   "metadata": {},
   "outputs": [
    {
     "name": "stdout",
     "output_type": "stream",
     "text": [
      "car:KIA with model: carens\n"
     ]
    }
   ],
   "source": [
    "class Car:\n",
    " # initializer with default constructor\n",
    "    def __init__(self):\n",
    "        self.make = \"KIA\"\n",
    "        self.model = \"carens\"\n",
    "        \n",
    "#Creating method \n",
    "    def car_info(self):\n",
    "        print(f\"car:{self.make} with model: {self.model}\")\n",
    "        \n",
    "#creating object of class car\n",
    "mycar = Car()\n",
    "\n",
    "#calling method\n",
    "mycar.car_info()"
   ]
  },
  {
   "cell_type": "markdown",
   "metadata": {},
   "source": [
    "# Inheritance:"
   ]
  },
  {
   "cell_type": "markdown",
   "metadata": {},
   "source": [
    "1. What is inheritance in Python? Explain its significance in object-oriented programming."
   ]
  },
  {
   "cell_type": "markdown",
   "metadata": {},
   "source": [
    "Inheritance in object-oriented programming allows a subclass to inherit properties and behaviors from a superclass. It promotes code reusability, hierarchy, and organization by defining shared functionality in a base class and letting other classes inherit and extend it. Inherited attributes and methods can be used as is in subclasses, which reduces code duplication and makes the code more maintainable and extensible. Inheritance is a fundamental concept used to create structured and scalable codebases, enhancing flexibility and promoting polymorphism.\n",
    "\n",
    " #Inheritance is used for the following reasons\n",
    "\n",
    " 1. Code Reusability: Base classes with shared functionality can be inherited by multiple subclasses. This avoids redundant code and promotes code reusability.\n",
    "\n",
    " 2. Hierarchy and Organization: Inheritance establishes a hierarchical relationship, allowing subclasses to represent specialized versions of the superclass. This aids in organizing and representing entities and their relationships logically.\n",
    "\n",
    " 3. Extensibility and Flexibility: Subclasses can extend the behavior of existing classes by adding their own attributes and methods. This simplifies adding new features without altering existing code.\n",
    "\n",
    " 4. Polymorphism: Inheritance enables polymorphism, allowing objects of different classes to be treated as objects of a common superclass. This improves flexibility and readability in handling diverse objects."
   ]
  },
  {
   "cell_type": "markdown",
   "metadata": {},
   "source": [
    "2. Differentiate between single inheritance and multiple inheritance in Python. Provide examples for each."
   ]
  },
  {
   "cell_type": "markdown",
   "metadata": {},
   "source": [
    "Single inheritance: In this type, a derived class inherits from only one base class.\n",
    "Example:"
   ]
  },
  {
   "cell_type": "code",
   "execution_count": 79,
   "metadata": {},
   "outputs": [
    {
     "name": "stdout",
     "output_type": "stream",
     "text": [
      "This function is defined inside the parent class.\n",
      "This function is defined inside the child class.\n"
     ]
    }
   ],
   "source": [
    "#  Python program for demonstrating single inheritance  \n",
    "  \n",
    "# Here, we will create the base class or the Parent class  \n",
    "class Parent1:  \n",
    "    def func_1(self):  \n",
    "        print (\"This function is defined inside the parent class.\") \n",
    "        \n",
    "  # we will create the Derived class  \n",
    "class Child1(Parent1):  \n",
    "    def func_2(self):  \n",
    "        print (\"This function is defined inside the child class.\")  \n",
    "        \n",
    "  # Driver's code  \n",
    "object = Child1()  \n",
    "object.func_1()  \n",
    "object.func_2()  "
   ]
  },
  {
   "cell_type": "markdown",
   "metadata": {},
   "source": [
    "Multiple inheritance: In this inheritance, the derived class inherits from multiple base classes.\n",
    "Example:"
   ]
  },
  {
   "cell_type": "code",
   "execution_count": 80,
   "metadata": {},
   "outputs": [
    {
     "name": "stdout",
     "output_type": "stream",
     "text": [
      "In Class2\n"
     ]
    }
   ],
   "source": [
    "# Python Program to depict multiple inheritance\n",
    "# when method is overridden in both classes\n",
    "\n",
    "class Class1:\n",
    "    def m(self):\n",
    "        print(\"In Class1\") \n",
    "\n",
    "class Class2(Class1):\n",
    "    def m(self):\n",
    "        print(\"In Class2\")\n",
    "\n",
    "class Class3(Class1):\n",
    "    def m(self):\n",
    "        print(\"In Class3\") \n",
    "\n",
    "class Class4(Class2, Class3):\n",
    "    pass\n",
    "\n",
    "obj = Class4()\n",
    "obj.m()\n"
   ]
  },
  {
   "cell_type": "markdown",
   "metadata": {},
   "source": [
    "3. Create a Python class called `Vehicle` with attributes `color` and `speed`. Then, create a child class called\n",
    "`Car` that inherits from `Vehicle` and adds a `brand` attribute. Provide an example of creating a `Car` object."
   ]
  },
  {
   "cell_type": "code",
   "execution_count": 81,
   "metadata": {},
   "outputs": [
    {
     "name": "stdout",
     "output_type": "stream",
     "text": [
      "color : white \n",
      " speed : 180\n",
      " brand is : HUNDAI\n"
     ]
    }
   ],
   "source": [
    "#arent classs\n",
    "class Vehicle:\n",
    "    def __init__(self,color,speed):\n",
    "        self.color = color\n",
    "        self.speed = speed\n",
    "        \n",
    "        print(\"color :\",self.color,\"\\n speed :\",self.speed)\n",
    "        \n",
    "# creating child class from vehicle class\n",
    "class Car(Vehicle):\n",
    "    \n",
    "    def __init__(self,color,speed,brand):\n",
    "        super().__init__(color,speed)\n",
    "        self.brand = brand\n",
    "        print(\" brand is :\", self.brand)\n",
    "\n",
    "#driver code creting object from class car\n",
    "my_car=Car(\"white\",180,\"HUNDAI\")"
   ]
  },
  {
   "cell_type": "markdown",
   "metadata": {},
   "source": [
    "4. Explain the concept of method overriding in inheritance. Provide a practical example."
   ]
  },
  {
   "cell_type": "markdown",
   "metadata": {},
   "source": [
    "Method overriding is an ability of any object-oriented programming language that allows a subclass or child class to provide a specific implementation of a method that is already provided by one of its super-classes or parent classes. When a method in a subclass has the same name, same parameters or signature and same return type(or sub-type) as a method in its super-class, then the method in the subclass is said to override the method in the super-class."
   ]
  },
  {
   "cell_type": "code",
   "execution_count": 82,
   "metadata": {},
   "outputs": [
    {
     "name": "stdout",
     "output_type": "stream",
     "text": [
      "Inside Parent\n",
      "Inside Child\n"
     ]
    }
   ],
   "source": [
    "# Python program to demonstrate \n",
    "# method overriding \n",
    "# Defining parent class \n",
    "class Parent(): \n",
    "    def __init__(self): \n",
    "        self.value = \"Inside Parent\"\n",
    "\n",
    "    # Parent's show method \n",
    "    def show(self): \n",
    "        print(self.value) \n",
    "\n",
    "# Defining child class \n",
    "class Child(Parent): \n",
    "    \n",
    "    def __init__(self): \n",
    "        self.value = \"Inside Child\"\n",
    "        \n",
    "    # Child's show method \n",
    "    def show(self): \n",
    "        print(self.value) \n",
    "\n",
    "# Driver's code \n",
    "obj1 = Parent() \n",
    "obj2 = Child() \n",
    "\n",
    "obj1.show() \n",
    "obj2.show() "
   ]
  },
  {
   "cell_type": "markdown",
   "metadata": {},
   "source": [
    "5. How can you access the methods and attributes of a parent class from a child class in Python? Give an\n",
    "example."
   ]
  },
  {
   "cell_type": "code",
   "execution_count": 25,
   "metadata": {},
   "outputs": [
    {
     "name": "stdout",
     "output_type": "stream",
     "text": [
      "RABIA\n",
      "812312\n",
      "1000000\n"
     ]
    }
   ],
   "source": [
    "# Python code to demonstrate \n",
    "# how parent CLASS are called. \n",
    "# parent class \n",
    "class Person: \n",
    "\n",
    "# __init__ is known as the constructor\n",
    "        def __init__(self, name, idnumber):\n",
    "            self.name = name \n",
    "            self.idnumber = idnumber \n",
    "                \n",
    "        def display(self): \n",
    "                print(self.name) \n",
    "                print(self.idnumber) \n",
    "\n",
    "# child class \n",
    "class Employee( Person ):\n",
    "        def __init__(self, name, idnumber, salary): \n",
    "                self.salary = salary \n",
    "\n",
    "             # invoking the constructor of # the parent class \n",
    "                Person.__init__(self, name, idnumber) \n",
    "        def show(self): \n",
    "            print(self.salary) \n",
    "            \n",
    "# creation of an object variable or an instance \n",
    "a = Employee(\"RABIA\", 812312, 1000000) \n",
    "        \n",
    "# calling a function of the CLASS person \n",
    "a.display() \n",
    "a.show() \n"
   ]
  },
  {
   "cell_type": "markdown",
   "metadata": {},
   "source": [
    "6.Discuss the use of the `super()` function in Python inheritance. When and why is it used? Provide an\n",
    "example."
   ]
  },
  {
   "cell_type": "markdown",
   "metadata": {},
   "source": [
    "The super() function is a built-in function in Python that provides a convenient way to access and delegate methods and attributes of parent classes. When used, it allows one class to access the methods and properties of another class in the same hierarchy. It is commonly used to avoid redundant code and make it more organized and easier to maintain."
   ]
  },
  {
   "cell_type": "code",
   "execution_count": 84,
   "metadata": {},
   "outputs": [
    {
     "name": "stdout",
     "output_type": "stream",
     "text": [
      "Hello Alice\n"
     ]
    }
   ],
   "source": [
    "class Parent:\n",
    "\n",
    "    def __init__(self, name):\n",
    "\n",
    "        self.name = name\n",
    "\n",
    "    def greet(self):\n",
    "\n",
    "        print( \"Hello\",self.name)\n",
    "class Child(Parent):\n",
    "\n",
    "    def __init__(self, name, age):\n",
    "\n",
    "        super().__init__(name)\n",
    "\n",
    "        self.age = age\n",
    "\n",
    "child = Child(\"Alice\", 10)\n",
    "\n",
    "child.greet()"
   ]
  },
  {
   "cell_type": "markdown",
   "metadata": {},
   "source": [
    "7. Create a Python class called `Animal` with a method `speak()`. Then, create child classes `Dog` and `Cat` that inherit from `Animal` and override the `speak()` method. Provide an example of using these classes."
   ]
  },
  {
   "cell_type": "code",
   "execution_count": 85,
   "metadata": {},
   "outputs": [
    {
     "name": "stdout",
     "output_type": "stream",
     "text": [
      "This is inside  animal class\n",
      "Dog speaks is : barking\n",
      "Cat speaks is : mew\n"
     ]
    }
   ],
   "source": [
    "# creating a base class Animal\n",
    "class Animal:\n",
    "    def __init__ (self):\n",
    "        pass\n",
    "        \n",
    "    def speak (self):\n",
    "        print(\"This is inside  animal class\")\n",
    "\n",
    "  # creating a derived class Dog which inherits from Animal class\n",
    "class Dog(Animal):\n",
    "    def speak (self):\n",
    "        self.dog_sound = \"barking\"\n",
    "        print(\"Dog speaks is :\",self.dog_sound)\n",
    "\n",
    "    # creating a derived class Cat which inherits from Animal class\n",
    "class Cat(Animal):\n",
    "    def speak (self):\n",
    "        self.cat_sound = \"mew\"\n",
    "        print(\"Cat speaks is :\", self.cat_sound) \n",
    "        \n",
    "# creating an instances of animal class\n",
    "obj = Animal()\n",
    "# calling the speak method of the animal instances\n",
    "obj.speak()\n",
    "\n",
    "# creating an instances of Dog class\n",
    "obj1 = Dog()\n",
    "# calling the method\n",
    "obj1.speak()\n",
    "\n",
    "# creating an instances of Cat class\n",
    "obj2 = Cat()\n",
    "# method calling\n",
    "obj2.speak()"
   ]
  },
  {
   "cell_type": "markdown",
   "metadata": {},
   "source": [
    "8. Explain the role of the `isinstance()` function in Python and how it relates to inheritance."
   ]
  },
  {
   "cell_type": "markdown",
   "metadata": {},
   "source": [
    "The isinstance () function checks whether an object is an instance of the class mentioned. One can test if an object or variable is an instance of the type or class. If inheritance is present in the program, then the function can be used to check if a specified class is the parent class of an object. \n",
    "\n",
    "The isinstance Python function requires two parameters to be passed. The first is the object that needs to be checked whether it is a subclass or instance of the specified class or not. \n",
    "\n",
    "The second argument that needs to be passed in the isinstance () function is the class, type, or tuple of a class or type. The object needs to be checked as an element of this class.  \n",
    "\n",
    "The isinstance () function returns values in the form of true or false.\n",
    "\n",
    "If it returns true, then the object passed belongs to the specified class or type if any single class is passed\n",
    "\n",
    "Otherwise, the function will return false. If any invalid class type is passed as an argument, then the function will return the Type Error. "
   ]
  },
  {
   "cell_type": "code",
   "execution_count": 86,
   "metadata": {},
   "outputs": [
    {
     "name": "stdout",
     "output_type": "stream",
     "text": [
      "True\n",
      "False\n",
      "True\n"
     ]
    }
   ],
   "source": [
    "# example to show isinstances\n",
    "class Test1:\n",
    "\n",
    "              a = 6\n",
    "\n",
    "testInstance = Test1 ()\n",
    "\n",
    "print (isinstance (testInstance, Test1))\n",
    "\n",
    "print (isinstance (testInstance, (list, tuple)))\n",
    "\n",
    "print (isinstance (testInstance, (list, tuple, Test1)))\n"
   ]
  },
  {
   "cell_type": "markdown",
   "metadata": {},
   "source": [
    "9. What is the purpose of the `issubclass()` function in Python? Provide an example."
   ]
  },
  {
   "cell_type": "markdown",
   "metadata": {},
   "source": [
    "The Python issubclass () is a built-in function that is used to check whether a class is the subclass of another class in the program or not. \n",
    "\n",
    "The parameters that are passed in the issubclass () include object and class information. The syntax is as follows.\n",
    "\n",
    "issubclass (object, classinfo)\n",
    "\n",
    "The issubclass () function returns either of the two values: True or False. If it returns true, that means that the class passed in the parameter is a subclass of the required class. If it is false, then it is not.  "
   ]
  },
  {
   "cell_type": "code",
   "execution_count": 87,
   "metadata": {},
   "outputs": [
    {
     "name": "stdout",
     "output_type": "stream",
     "text": [
      "The equation is   Quadratic\n",
      "True\n",
      "False\n",
      "True\n",
      "True\n"
     ]
    }
   ],
   "source": [
    "class Equations:\n",
    "    def __init__ (self,equationType):\n",
    "        print (\"The equation is \", equationType)\n",
    "\n",
    "class Quadratic (Equations):\n",
    "    def __init__ (self):\n",
    "        \n",
    "        Equations.__init__(Quadratic)\n",
    "        \n",
    "a = Equations(\" Quadratic\")\n",
    "print (issubclass (Quadratic, Equations))\n",
    "\n",
    "print (issubclass (Quadratic, list))\n",
    "\n",
    "print (issubclass (Quadratic, (list, Equations)))\n",
    "\n",
    "print (issubclass (Quadratic, (list, Equations)))\n"
   ]
  },
  {
   "cell_type": "markdown",
   "metadata": {},
   "source": [
    "10. Discuss the concept of constructor inheritance in Python. How are constructors inherited in child classes?"
   ]
  },
  {
   "cell_type": "markdown",
   "metadata": {},
   "source": [
    "In Python, every class inherits from a built-in basic class called ‘object’. The constructor i.e. the ‘__init__’ function of a class is invoked when we create an object variable or an instance of the class.\n",
    "\n",
    "The variables defined within __init__() are called instance variables or objects. "
   ]
  },
  {
   "cell_type": "code",
   "execution_count": 26,
   "metadata": {},
   "outputs": [
    {
     "name": "stdout",
     "output_type": "stream",
     "text": [
      "Rahul\n",
      "886012\n",
      "200000 \n",
      " Intern\n"
     ]
    },
    {
     "data": {
      "text/plain": [
       "'Hence, ‘name’ and ‘idnumber’ are the objects of the class Person. Similarly, ‘salary’ and ‘post’\\nare the objects of the class Employee. Since the class Employee inherits from class Person, ‘name’ \\nand ‘idnumber’ are also the objects of class Employee.'"
      ]
     },
     "execution_count": 26,
     "metadata": {},
     "output_type": "execute_result"
    }
   ],
   "source": [
    "# Python code to demonstrate concept of constructors inheritance\n",
    "# parent class\n",
    "class Person:\n",
    " # __init__ is known as the constructor\n",
    "    def __init__(self, name, idnumber):\n",
    "        self.name = name\n",
    "        self.idnumber = idnumber\n",
    "\n",
    "    def display(self):\n",
    "        print(self.name)\n",
    "        print(self.idnumber)\n",
    "\n",
    "# child class\n",
    "class Employee(Person):\n",
    "    def __init__(self, name, idnumber, salary, post):\n",
    "        self.salary = salary\n",
    "        self.post = post\n",
    "\n",
    "# invoking the __init__ of the parent class\n",
    "        Person.__init__(self, name, idnumber)\n",
    "    \n",
    "    def show(self):\n",
    "        print(self.salary,\"\\n\",self.post)\n",
    "# creation of an object variable or an instance\n",
    "a = Employee('Rahul', 886012, 200000, \"Intern\")\n",
    "\n",
    "# calling a function of the class Person using its instance\n",
    "a.display()\n",
    "a.show()\n",
    "\n",
    "\n",
    "\"\"\"Hence, ‘name’ and ‘idnumber’ are the objects of the class Person. Similarly, ‘salary’ and ‘post’\n",
    "are the objects of the class Employee. Since the class Employee inherits from class Person, ‘name’ \n",
    "and ‘idnumber’ are also the objects of class Employee.\"\"\""
   ]
  },
  {
   "cell_type": "markdown",
   "metadata": {},
   "source": [
    "11. Create a Python class called `Shape` with a method `area()` that calculates the area of a shape. Then, create child classes `Circle` and `Rectangle` that inherit from `Shape` and implement the `area()` method\n",
    "accordingly. Provide an example."
   ]
  },
  {
   "cell_type": "code",
   "execution_count": 89,
   "metadata": {},
   "outputs": [
    {
     "name": "stdout",
     "output_type": "stream",
     "text": [
      "Area of Circle is : 62.83185307179586\n",
      "Area of Rectangle is :  270\n"
     ]
    }
   ],
   "source": [
    "import math\n",
    "#creating parent class with class shape\n",
    "class Shape:\n",
    "    def area (self):\n",
    "        pass\n",
    "        \n",
    "# Define a derived class called Circle, which inherits from the Shape class\n",
    "class Circle(Shape):\n",
    "    # Initialize the Circle object with a given radius\n",
    "    def __init__(self,radius):\n",
    "        self.radius = radius\n",
    "        \n",
    "    def area (self):\n",
    "        return 2 * math.pi * self.radius\n",
    "\n",
    "    # Define a derived class called Circle, which inherits from the Shape class\n",
    "class Rectangle(Shape):\n",
    "     # Initialize the Rectangle object with given length and width\n",
    "    def __init__(self,length,breadth):\n",
    "        self.length = length\n",
    "        self.breadth = breadth\n",
    "        \n",
    "    def area (self):\n",
    "        return self.length * self.breadth\n",
    "# creating an object for the shape class    \n",
    "obj =  Shape()\n",
    "obj1 = Circle(10)\n",
    "print(\"Area of Circle is :\",obj1.area())\n",
    "\n",
    "obj2 =  Rectangle(15,18)\n",
    "print(\"Area of Rectangle is : \",obj2.area())"
   ]
  },
  {
   "cell_type": "markdown",
   "metadata": {},
   "source": [
    "12. Explain the use of abstract base classes (ABCs) in Python and how they relate to inheritance. Provide an\n",
    "example using the `abc` module."
   ]
  },
  {
   "cell_type": "markdown",
   "metadata": {},
   "source": [
    "Python has a module called abc (abstract base class) that offers the necessary tools for crafting an abstract base class. The main goal of the abstract base class is to provide a standardized way to test whether an object adheres to a given specification. It can also prevent any attempt to instantiate a subclass that doesn’t override a particular method in the superclass. And finally, using an abstract class, a class can derive identity from another class without any object inheritance."
   ]
  },
  {
   "cell_type": "code",
   "execution_count": 27,
   "metadata": {},
   "outputs": [
    {
     "name": "stdout",
     "output_type": "stream",
     "text": [
      "I have 3 sides\n",
      "I have 4 sides\n",
      "I have 5 sides\n",
      "I have 6 sides\n"
     ]
    }
   ],
   "source": [
    "# Python program showing \n",
    "# abstract base class work \n",
    "from abc import ABC, abstractmethod \n",
    "class Polygon(ABC): \n",
    "\n",
    "    @abstractmethod\n",
    "    def noofsides(self): \n",
    "        pass\n",
    "    \n",
    "class Triangle(Polygon): \n",
    "# overriding abstract method \n",
    "    def noofsides(self): \n",
    "        print(\"I have 3 sides\") \n",
    "\n",
    "class Pentagon(Polygon): \n",
    "# overriding abstract method \n",
    "    def noofsides(self): \n",
    "        print(\"I have 5 sides\") \n",
    "\n",
    "class Hexagon(Polygon): \n",
    "# overriding abstract method \n",
    "    def noofsides(self): \n",
    "        print(\"I have 6 sides\") \n",
    "\n",
    "class Quadrilateral(Polygon): \n",
    "# overriding abstract method \n",
    "    def noofsides(self): \n",
    "        print(\"I have 4 sides\") \n",
    "\n",
    "# Driver code \n",
    "R = Triangle() \n",
    "R.noofsides() \n",
    "\n",
    "K = Quadrilateral() \n",
    "K.noofsides() \n",
    "\n",
    "R = Pentagon() \n",
    "R.noofsides() \n",
    "\n",
    "K = Hexagon() \n",
    "K.noofsides() \n"
   ]
  },
  {
   "cell_type": "markdown",
   "metadata": {},
   "source": [
    "13. How can you prevent a child class from modifying certain attributes or methods inherited from a parent\n",
    "class in Python?"
   ]
  },
  {
   "cell_type": "markdown",
   "metadata": {},
   "source": [
    "###encapsulation\n",
    "When creating a child class in Python and defining the init method, I would like to import all the attributes of the super/parent class except certain positional parameters and certain parameters defined within/inside the parent class init method with a default value.\n",
    "\n",
    "Prevent a child class from modifying certain attributes or methods inherited from a parent class in Python is done by \n"
   ]
  },
  {
   "cell_type": "markdown",
   "metadata": {},
   "source": [
    "14. Create a Python class called `Employee` with attributes `name` and `salary`. Then, create a child class\n",
    "`Manager` that inherits from `Employee` and adds an attribute `department`. Provide an example."
   ]
  },
  {
   "cell_type": "code",
   "execution_count": 91,
   "metadata": {},
   "outputs": [
    {
     "name": "stdout",
     "output_type": "stream",
     "text": [
      "RABIA\n",
      "100000\n",
      "datascience\n"
     ]
    }
   ],
   "source": [
    "# define a base class Employee\n",
    "class Employee:\n",
    "    \n",
    "# creating constructor with attributes name and salary\n",
    "    def __init__(self,name,salary):\n",
    "        self.name = name\n",
    "        self.salary = salary\n",
    "        \n",
    "    def display (self):\n",
    "        print(self.name)\n",
    "        print(self.salary)\n",
    "        # creating a derived class Manager\n",
    "class Manager(Employee):\n",
    "    def __init__(self, name,salary,department):\n",
    "        super().__init__(name,salary)\n",
    "        self.department = department\n",
    "        \n",
    "    def show (self):\n",
    "        print(self.department)\n",
    "        \n",
    "obj = Manager (\"RABIA\",100000,\"datascience\")\n",
    "obj.display()  \n",
    "obj.show()"
   ]
  },
  {
   "cell_type": "markdown",
   "metadata": {},
   "source": [
    "15. Discuss the concept of method overloading in Python inheritance. How does it differ from method\n",
    "overriding?"
   ]
  },
  {
   "cell_type": "markdown",
   "metadata": {},
   "source": [
    "In the process of method overloading, all the functions or methods must contain the same name with different arguments.\n",
    "Method Overloading is an example of Compile time polymorphism.\n",
    "It is used in single class.\n",
    "It is also used to write code clarity and reduce complexity.\n",
    "Note: Python does not support method overloading. We may overload the methods but can only use the latest defined method.\n",
    "Example of method overloading:"
   ]
  },
  {
   "cell_type": "code",
   "execution_count": 92,
   "metadata": {},
   "outputs": [
    {
     "name": "stdout",
     "output_type": "stream",
     "text": [
      "Hello\n",
      "Hello Rabia\n"
     ]
    }
   ],
   "source": [
    "class Greet:\n",
    "    def employee(self,name= None):\n",
    "        self.name = name\n",
    "        if self.name is not None:\n",
    "            print(\"Hello\",self.name)\n",
    "        else:\n",
    "            print(\"Hello\")\n",
    "obj = Greet()  \n",
    "obj.employee()\n",
    "obj.employee(\"Rabia\")"
   ]
  },
  {
   "cell_type": "code",
   "execution_count": 93,
   "metadata": {},
   "outputs": [
    {
     "name": "stdout",
     "output_type": "stream",
     "text": [
      "Modified feature_1 of class A by class B\n"
     ]
    }
   ],
   "source": [
    "class A:\n",
    "\n",
    "    def fun1(self):\n",
    "        print('feature_1 of class A')\n",
    "\n",
    "    def fun2(self):\n",
    "        print('feature_2 of class A')\n",
    "\n",
    "class B(A):\n",
    "\n",
    "    # Modified function that is already exist in class A\n",
    "\n",
    "    def fun1(self):\n",
    "        print('Modified feature_1 of class A by class B') \n",
    "\n",
    "    def fun3(self):\n",
    "        print('feature_3 of class B')\n",
    "\n",
    "# Create instance\n",
    "obj = B()\n",
    "\n",
    "# Call the override function\n",
    "obj.fun1()"
   ]
  },
  {
   "cell_type": "markdown",
   "metadata": {},
   "source": [
    " In the process of method overriding, all the functions or methods must possess the very same name along with similar arguments.\n",
    " Method overriding is an example of run time polymorphism. \n",
    " In this, the specific implementation of the method that is already provided by the parent class is provided by the child class. It is used to change the behavior of existing methods and there is a need for at least two classes for method overriding. In method overriding, inheritance always required as it is done between parent class(superclass) and child class(child class) methods.\n",
    "Example of method overriding:"
   ]
  },
  {
   "cell_type": "markdown",
   "metadata": {},
   "source": [
    "16. Explain the purpose of the `__init__()` method in Python inheritance and how it is utilized in child classes."
   ]
  },
  {
   "cell_type": "markdown",
   "metadata": {},
   "source": [
    "The python __init__ method is declared within a class and is used to initialize the attributes of an object as soon as the object is formed. While giving the definition for an __init__(self) method, a default parameter, named 'self' is always passed in its argument. This self represents the object of the class itself.\n",
    "\n",
    "Use of Python __init__\n",
    "\n",
    "Inheritance allows the child class to inherit the __init__() method of the parent class along with the other data members and member functions of that class. The __init__ method of the parent or the base class is called within the __init__ method of the child or sub class."
   ]
  },
  {
   "cell_type": "code",
   "execution_count": 14,
   "metadata": {},
   "outputs": [
    {
     "name": "stdout",
     "output_type": "stream",
     "text": [
      "A init called\n",
      "B init called\n",
      "something\n"
     ]
    }
   ],
   "source": [
    "class A:\n",
    "    def __init__(self, something):\n",
    "        self.something = something\n",
    "        print(\"A init called\")\n",
    "\n",
    "class B(A):\n",
    "    def __init__(self, something):\n",
    "        super().__init__(something)\n",
    "        print(\"B init called\")\n",
    "\n",
    "obj = B(\"something\") \n",
    "print(obj.something)  "
   ]
  },
  {
   "cell_type": "markdown",
   "metadata": {},
   "source": [
    "17. Create a Python class called `Bird` with a method `fly()`. Then, create child classes `Eagle` and `Sparrow` that inherit from `Bird` and implement the `fly()` method differently. Provide an example of using these\n",
    "classes."
   ]
  },
  {
   "cell_type": "code",
   "execution_count": 95,
   "metadata": {},
   "outputs": [
    {
     "name": "stdout",
     "output_type": "stream",
     "text": [
      "The eagle is heavy weighted and can fly up to 20 meters high.\n",
      "The sparrow is light weighted and can fly up to 40 meters high.\n"
     ]
    }
   ],
   "source": [
    "# create a base class Bird\n",
    "class Bird:\n",
    "    def __init__(self,flying_height):\n",
    "        self.flying_height = flying_height\n",
    "        \n",
    "    def fly (self):\n",
    "        pass\n",
    "#creating a derived class Eagle\n",
    "class Eagle(Bird):\n",
    "    \n",
    "    def fly (self):\n",
    "        print(f\"The eagle is heavy weighted and can fly up to {self.flying_height} meters high.\")\n",
    "        \n",
    "#creating a derived class sparrow        \n",
    "class Sparrow(Bird):\n",
    "    \n",
    "    def fly (self):\n",
    "        print(f\"The sparrow is light weighted and can fly up to {self.flying_height} meters high.\")\n",
    "#creating intances         \n",
    "obj1 = Eagle(20)\n",
    "obj1.fly()\n",
    "\n",
    "obj2 = Sparrow(40)\n",
    "obj2.fly()"
   ]
  },
  {
   "cell_type": "markdown",
   "metadata": {},
   "source": [
    "18. What is the \"diamond problem\" in multiple inheritance, and how does Python address it?"
   ]
  },
  {
   "cell_type": "markdown",
   "metadata": {},
   "source": [
    "The “diamond problem” (sometimes referred to as the “Deadly Diamond of Death”) is an ambiguity that arises when two classes have a common ancestor, and another class has both\n",
    "those classes as base classes,\n",
    "for example:"
   ]
  },
  {
   "cell_type": "code",
   "execution_count": 96,
   "metadata": {},
   "outputs": [
    {
     "name": "stdout",
     "output_type": "stream",
     "text": [
      "From B\n"
     ]
    }
   ],
   "source": [
    "\n",
    "class A:\n",
    "    def do_thing(self):\n",
    "        print('From A')\n",
    "\n",
    "class B(A):\n",
    "    def do_thing(self):\n",
    "        print('From B')\n",
    "\n",
    "class C(A):\n",
    "    def do_thing(self):\n",
    "        print('From C')\n",
    "\n",
    "class D(B, C):\n",
    "    pass\n",
    "\n",
    "d = D()\n",
    "d.do_thing()"
   ]
  },
  {
   "cell_type": "markdown",
   "metadata": {},
   "source": [
    "19. Discuss the concept of \"is-a\" and \"has-a\" relationships in inheritance, and provide examples of each."
   ]
  },
  {
   "cell_type": "markdown",
   "metadata": {},
   "source": [
    "In object-oriented programming, the concept of IS-A is a totally based on Inheritance, which can be of two types Class Inheritance or Interface Inheritance. It is just like saying \"A is a B type of thing\". For example, Apple is a Fruit, Car is a Vehicle etc. Inheritance is uni-directional. For example, House is a Building. But Building is not a House."
   ]
  },
  {
   "cell_type": "code",
   "execution_count": 97,
   "metadata": {},
   "outputs": [
    {
     "name": "stdout",
     "output_type": "stream",
     "text": [
      "Generic animal sound\n",
      "bark\n"
     ]
    }
   ],
   "source": [
    "#example to show is_a relatonship in inheritance\n",
    "class Animal:\n",
    "    def speak(self):\n",
    "        return \"Generic animal sound\"\n",
    "    \n",
    "class Dog(Animal):\n",
    "    def speak (self):\n",
    "        return \"bark\"\n",
    "    \n",
    "#creating instances \n",
    "generic_animal = Animal()\n",
    "my_dog = Dog()\n",
    "\n",
    "#using a is_a relationship\n",
    "print(generic_animal.speak())\n",
    "print(my_dog.speak())"
   ]
  },
  {
   "cell_type": "markdown",
   "metadata": {},
   "source": [
    "Composition(HAS-A) simply mean the use of instance variables that are references to other objects. For example Maruti has Engine, or House has Bathroom."
   ]
  },
  {
   "cell_type": "code",
   "execution_count": 98,
   "metadata": {},
   "outputs": [
    {
     "name": "stdout",
     "output_type": "stream",
     "text": [
      "Engine started\n"
     ]
    },
    {
     "data": {
      "text/plain": [
       "\"In this example we have seeen that the car has relationship with the 'Engine' class \""
      ]
     },
     "execution_count": 98,
     "metadata": {},
     "output_type": "execute_result"
    }
   ],
   "source": [
    "class Engine:\n",
    "    def starts(self):\n",
    "        return \"Engine started\"\n",
    "    \n",
    "class Car:\n",
    "    def __init__(self):\n",
    "        #creating an instance of Engine within the Car class\n",
    "        self.engine = Engine()\n",
    "        \n",
    "    def starts_car(self):\n",
    "        return self.engine.starts()\n",
    "    \n",
    "#creating an instances of car\n",
    "my_car = Car()\n",
    "#using the has_a relationship\n",
    "print(my_car.starts_car())\n",
    "\n",
    "\"\"\"In this example we have seeen that the car has relationship with the 'Engine' class \"\"\""
   ]
  },
  {
   "cell_type": "markdown",
   "metadata": {},
   "source": [
    "20. Create a Python class hierarchy for a university system. Start with a base class `Person` and create child\n",
    "classes `Student` and `Professor`, each with their own attributes and methods. Provide an example of using\n",
    "these classes in a university context."
   ]
  },
  {
   "cell_type": "code",
   "execution_count": 99,
   "metadata": {},
   "outputs": [
    {
     "name": "stdout",
     "output_type": "stream",
     "text": [
      " Hi I'm Rabia and I'm 21 years old\n",
      " Rabia is studying\n",
      " Hi I'm Dr.Annie and I'm 30 years old\n",
      "Dr.Annie is teaching\n"
     ]
    }
   ],
   "source": [
    "class Person :\n",
    "    def __init__(self,name,age):\n",
    "        self.name = name\n",
    "        self.age = age\n",
    "        \n",
    "    def introduce(self):\n",
    "        print(f\" Hi I'm {self.name} and I'm {self.age} years old\")\n",
    "        \n",
    "class Student(Person):\n",
    "    def __init__(self,name ,age,student_id):\n",
    "        super().__init__(name,age)\n",
    "        self.student_id = student_id\n",
    "        \n",
    "    def study(self):\n",
    "        print(f\" {self.name} is studying\")\n",
    "        \n",
    "class Professor(Person):\n",
    "    def __init__(self,name ,age,employee_id):\n",
    "        super().__init__(name,age)\n",
    "        self.employee_id = employee_id\n",
    "        \n",
    "    def teach(self):\n",
    "        print(f\"{self.name} is teaching\")\n",
    "        \n",
    "#creating instances\n",
    "student1 = Student(\"Rabia\",21,\"rab123\")\n",
    "professor1 = Professor(\"Dr.Annie\",30,\"abc345\")\n",
    "\n",
    "#calling methods\n",
    "student1.introduce()\n",
    "student1.study()\n",
    "professor1.introduce()\n",
    "professor1.teach()"
   ]
  },
  {
   "cell_type": "markdown",
   "metadata": {},
   "source": [
    "# Encapsulation:"
   ]
  },
  {
   "cell_type": "markdown",
   "metadata": {},
   "source": [
    "1. Explain the concept of encapsulation in Python. What is its role in object-oriented programming?"
   ]
  },
  {
   "cell_type": "markdown",
   "metadata": {},
   "source": [
    "A class is an example of encapsulation as it encapsulates all the data that is member functions, variables, etc. The goal of information hiding is to ensure that an object’s state is always valid by controlling access to attributes that are hidden from the outside world.\n",
    "\n",
    "Encapsulation is one of the fundamental concepts in object-oriented programming (OOP). It describes the idea of wrapping data and the methods that work on data within one unit. This puts restrictions on accessing variables and methods directly and can prevent the accidental modification of data."
   ]
  },
  {
   "cell_type": "markdown",
   "metadata": {},
   "source": [
    "2. Describe the key principles of encapsulation, including access control and data hiding."
   ]
  },
  {
   "cell_type": "markdown",
   "metadata": {},
   "source": [
    " Key principles of encapsulation:\n",
    " \n",
    "In object-oriented computer programming (OOP) languages, the notion of encapsulation (or OOP Encapsulation) refers to the bundling of data, along with the methods that operate on that data, into a single unit.\n",
    " \n",
    "Containers are just one example of encapsulation in coding where data and methods are bundled together into a single package.\n",
    "\n",
    "A key benefits to hiding information about attributes and methods using encapsulation in programming is that it prevents other developers from writing scripts or APIs that use your code.\n",
    "\n",
    "Sumo Logic complements your existing cyber security measure with cutting-edge threat detection and security analytics powered by artificial intelligence.\n",
    "\n",
    "Benefits of encapsulation programming:\n",
    "\n",
    "Encapsulation in programming has a few key benefits. These include:\n",
    "\n",
    "Hiding data: Users will have no idea how classes are being implemented or stored. All that users will know is that values are being passed and initialized.\n",
    "\n",
    "More flexibility: Enables you to set variables as read or write-only. Examples include: setName(), setAge() or to set variables as write-only then you only need to omit the get methods like getName(), getAge() etc.\n",
    "\n",
    "Acess: With encapsulation, it's easy to change and adapt to new requirements"
   ]
  },
  {
   "cell_type": "markdown",
   "metadata": {},
   "source": [
    "3. How can you achieve encapsulation in Python classes? Provide an example."
   ]
  },
  {
   "cell_type": "markdown",
   "metadata": {},
   "source": [
    "Encapsulation is achieved by declaring a class's data members and methods as either private or protected. But in Python, we do not have keywords like public, private, and protected, as in the case of Java. Instead, we achieve this by using single and double underscores."
   ]
  },
  {
   "cell_type": "code",
   "execution_count": 100,
   "metadata": {},
   "outputs": [
    {
     "name": "stdout",
     "output_type": "stream",
     "text": [
      "Calling protected member of base class:  2\n",
      "Calling modified protected member outside class:  3\n",
      "Accessing protected member of obj1:  3\n",
      "Accessing protected member of obj2:  2\n"
     ]
    }
   ],
   "source": [
    "# Python program to \n",
    "# demonstrate ENCAPSULATION\n",
    "\n",
    "# Creating a base class \n",
    "class Base: \n",
    "    def __init__(self): \n",
    "    \n",
    "# Protected member \n",
    "        self._a = 2\n",
    "\n",
    "# Creating a derived class \n",
    "class Derived(Base): \n",
    "    def __init__(self): \n",
    "\n",
    "# Calling constructor of Base class \n",
    "        Base.__init__(self) \n",
    "        print(\"Calling protected member of base class: \", self._a) \n",
    "\n",
    "# reating the encpsulation : \n",
    "        self._a = 3\n",
    "        print(\"Calling modified protected member outside class: \", self._a) \n",
    "\n",
    "obj1 = Derived() \n",
    "\n",
    "obj2 = Base() \n",
    "\n",
    "# Calling protected member \n",
    "# Can be accessed but should not be done due to convention \n",
    "print(\"Accessing protected member of obj1: \", obj1._a) \n",
    "\n",
    "# Accessing the protected variable outside \n",
    "print(\"Accessing protected member of obj2: \", obj2._a) \n"
   ]
  },
  {
   "cell_type": "markdown",
   "metadata": {},
   "source": [
    "4. Discuss the difference between public, private, and protected access modifiers in Python."
   ]
  },
  {
   "cell_type": "markdown",
   "metadata": {},
   "source": [
    "Access Modifiers in Python\n",
    "\n",
    "Access modifiers are used to limit access to the variables and methods of a class. Python provides three types of access modifiers public, private, and protected.\n",
    "\n",
    "Public Member: Accessible anywhere from outside the class.\n",
    "\n",
    "Private Member: Accessible within the class.\n",
    "\n",
    "Protected Member: Accessible within the class and its sub-classes.\n"
   ]
  },
  {
   "cell_type": "code",
   "execution_count": 65,
   "metadata": {},
   "outputs": [
    {
     "name": "stdout",
     "output_type": "stream",
     "text": [
      "100000\n"
     ]
    }
   ],
   "source": [
    "# example of Public Member:\n",
    "\"\"\"Public Members can be accessed from outside and within the class. Making it easy to access\n",
    "by all.By default, all the member variables of the class are public.\"\"\"\n",
    "class Employee:\n",
    "    def __init__(self,name,salary):\n",
    "        self.name = name \n",
    "        self.salary = salary\n",
    "#create public member method\n",
    "    def show_salary(self):\n",
    "        return self.salary  #acessing public data \n",
    "    \n",
    " #create object for Employee class   \n",
    "employee = Employee(name = \"James\", salary = 100000)\n",
    "\n",
    "#calling public member method\n",
    "print(employee.show_salary())"
   ]
  },
  {
   "cell_type": "code",
   "execution_count": 66,
   "metadata": {},
   "outputs": [
    {
     "name": "stdout",
     "output_type": "stream",
     "text": [
      "50000\n"
     ]
    }
   ],
   "source": [
    "# example of Private Member\n",
    "\"\"\"We can protect variables in the class by marking them private. To make any variable a private \n",
    "just add two underscores as a prefix at the start of its name. For example,  __salary.\n",
    "Private members are accessible only within the class and cannot be accessed from the \n",
    "objects of the class.\"\"\"\n",
    "\n",
    "class Employee:\n",
    "    def __init__(self,name,salary):\n",
    "        \n",
    "        #create public member\n",
    "        self.name =  name\n",
    "        #create privte member\n",
    "        self.__salary = salary\n",
    "        \n",
    "#acessing private data\n",
    "    def get_salary(self):\n",
    "        return self.__salary\n",
    "        \n",
    "# create object for Employee class\n",
    "employee = Employee(name = \"Rabia\", salary = 50000)\n",
    "\n",
    "#calling private member\n",
    "print(employee.get_salary())\n"
   ]
  },
  {
   "cell_type": "code",
   "execution_count": 11,
   "metadata": {},
   "outputs": [
    {
     "name": "stdout",
     "output_type": "stream",
     "text": [
      "Employee: Rabia\n",
      "Project: Python\n",
      "Project: Python\n"
     ]
    }
   ],
   "source": [
    "# example of Protected Member\n",
    "\"\"\"Protected members are accessible within the class and also available to its sub-classes. \n",
    "To define a protected member, prefix the member name with a single underscore. For example,\n",
    "_project.This makes the project a protected variable that can be accessed only by the child class.\"\"\"\n",
    "class Company:\n",
    "    def __init__(self):\n",
    "        self._project = \"Python\"  # create a protected member\n",
    "\n",
    "class Employee(Company):\n",
    "    def __init__(self):\n",
    "        super().__init__()  # call the constructor of the base class\n",
    "        self.name = \"Rabia\"\n",
    "\n",
    "    def display_info(self):\n",
    "        return f\"Employee: {self.name}\\nProject: {self._project}\"\n",
    "\n",
    "# create an object\n",
    "employee = Employee()\n",
    "\n",
    "# calling the method\n",
    "print(employee.display_info())\n",
    "\n",
    "# Accessing protected data directly\n",
    "print('Project:', employee._project)\n"
   ]
  },
  {
   "cell_type": "markdown",
   "metadata": {},
   "source": [
    "5. Create a Python class called `Person` with a private attribute `__name`. Provide methods to get and set the\n",
    "name attribute."
   ]
  },
  {
   "cell_type": "code",
   "execution_count": 104,
   "metadata": {},
   "outputs": [],
   "source": [
    "class  Person :\n",
    "    def __init__(self,name):\n",
    "        # creating name as private member\n",
    "        self.__name = name\n",
    "    def get_data(self):\n",
    "        return self.__name\n",
    "    \n",
    "    def set_data(self,name1):\n",
    "        self.__name = name1\n",
    "        return name1\n",
    "\n",
    " #create instances for the attributes       \n",
    "obj = Person(\"Rabia\")"
   ]
  },
  {
   "cell_type": "code",
   "execution_count": 105,
   "metadata": {},
   "outputs": [
    {
     "data": {
      "text/plain": [
       "'Rabia'"
      ]
     },
     "execution_count": 105,
     "metadata": {},
     "output_type": "execute_result"
    }
   ],
   "source": [
    "obj.get_data()"
   ]
  },
  {
   "cell_type": "code",
   "execution_count": 106,
   "metadata": {},
   "outputs": [
    {
     "name": "stdout",
     "output_type": "stream",
     "text": [
      "RABIA\n"
     ]
    }
   ],
   "source": [
    "print(obj.set_data(\"RABIA\"))"
   ]
  },
  {
   "cell_type": "markdown",
   "metadata": {},
   "source": [
    "6. Explain the purpose of getter and setter methods in encapsulation. Provide examples."
   ]
  },
  {
   "cell_type": "markdown",
   "metadata": {},
   "source": [
    "Getter and setter methods are used in Python to achieve encapsulation. They control the access to the private and protected variables in Python. Also, they can be used in data hiding by hiding the implementation details of a class from external users.\n",
    "\n",
    "Importance of Getter and Setter in Python are:-\n",
    "\n",
    "Getter and setter methods are used in Python to achieve encapsulation. They control the access to the private variables in Python.\n",
    " \n",
    "Getter and setter methods are also used to validate values assigned to the attributes. This prevents any invalid values from being initialised to the variables.\n",
    " \n",
    "Getter and Setter methods are also useful in data hiding. With the help of these OOPs methods, we can hide the implementation details of a class from external users.\n",
    " \n",
    "Getters and Setters are also useful in debugging large codes. By adding print statements with getter and setter methods, it becomes easier to track when the data is being accessed or modified."
   ]
  },
  {
   "cell_type": "code",
   "execution_count": 107,
   "metadata": {},
   "outputs": [
    {
     "name": "stdout",
     "output_type": "stream",
     "text": [
      "42\n"
     ]
    }
   ],
   "source": [
    "class MyClass:\n",
    "    def __init__(self):\n",
    "        self.__private_attr = 42\n",
    "\n",
    "    def get_private_attr(self):\n",
    "        return self.__private_attr\n",
    "\n",
    "    def set_private_attr(self, value):\n",
    "        self.__private_attr = value\n",
    "        return value\n",
    "\n",
    "obj = MyClass()\n",
    "print(obj.get_private_attr())  # Accessing the private attribute"
   ]
  },
  {
   "cell_type": "code",
   "execution_count": 108,
   "metadata": {},
   "outputs": [
    {
     "name": "stdout",
     "output_type": "stream",
     "text": [
      "22\n"
     ]
    }
   ],
   "source": [
    "print(obj.set_private_attr(22))"
   ]
  },
  {
   "cell_type": "markdown",
   "metadata": {},
   "source": [
    "7. What is name mangling in Python, and how does it affect encapsulation?"
   ]
  },
  {
   "cell_type": "markdown",
   "metadata": {},
   "source": [
    "In Python, mangling is used for class attributes that one does not want subclasses to use which are designated as such by giving them a name with two or more leading underscores and no more than one trailing underscore."
   ]
  },
  {
   "cell_type": "code",
   "execution_count": 15,
   "metadata": {},
   "outputs": [
    {
     "name": "stdout",
     "output_type": "stream",
     "text": [
      "RABIA\n",
      "RABIA\n"
     ]
    }
   ],
   "source": [
    "class Student:\n",
    "    def __init__(self, name):\n",
    "        self.__name = name\n",
    "\n",
    "    def displayName(self):\n",
    "        print(self.__name)\n",
    "\n",
    "s1 = Student(\"RABIA\")\n",
    "s1.displayName()\n",
    "\n",
    "# Accessing __name using name mangling\n",
    "print(s1._Student__name)\n"
   ]
  },
  {
   "cell_type": "markdown",
   "metadata": {},
   "source": [
    "Accessing Name Mangled variables\n",
    "\n",
    "The name mangling process helps to access the class variables from outside the class. The class variables can be accessed by adding _classname to it. The name mangling is closest to private not exactly private."
   ]
  },
  {
   "cell_type": "code",
   "execution_count": 110,
   "metadata": {},
   "outputs": [
    {
     "name": "stdout",
     "output_type": "stream",
     "text": [
      "RABIA\n"
     ]
    }
   ],
   "source": [
    "# Python program to demonstrate \n",
    "# name mangling \n",
    "\n",
    "class Student: \n",
    "    def __init__(self, name): \n",
    "        self.__name = name \n",
    "\n",
    "s1 = Student(\"RABIA\") \n",
    "print(s1._Student__name) "
   ]
  },
  {
   "cell_type": "markdown",
   "metadata": {},
   "source": [
    "8. Create a Python class called `BankAccount` with private attributes for the account balance (`__balance`) and account number (`__account_number`). Provide methods for depositing and withdrawing money."
   ]
  },
  {
   "cell_type": "code",
   "execution_count": 113,
   "metadata": {},
   "outputs": [
    {
     "name": "stdout",
     "output_type": "stream",
     "text": [
      "Enter amount for depositing: 5000\n",
      "Deposit amount of 5000.0 rupees in my account.\n",
      "Enter amount for withdrawing money: 3000\n",
      "Withdrawal amount of 3000.0 rupees from my account.\n",
      "12000.0\n"
     ]
    }
   ],
   "source": [
    "class BankAccount:\n",
    "    def __init__(self, balance, account_number):\n",
    "        self._balance = balance\n",
    "        self._account_number = account_number\n",
    "\n",
    "    def depositing(self):\n",
    "        amount = float(input(\"Enter amount for depositing: \"))\n",
    "        self._balance += amount\n",
    "        return f\"Deposit amount of {amount} rupees in my account.\"\n",
    "\n",
    "    def withdrawing(self):\n",
    "        amount = float(input(\"Enter amount for withdrawing money: \"))\n",
    "        if amount > self._balance:\n",
    "            return \"Insufficient funds. Withdrawal failed.\"\n",
    "        else:\n",
    "            self._balance -= amount\n",
    "            return f\"Withdrawal amount of {amount} rupees from my account.\"\n",
    "\n",
    "    def get_balance(self):\n",
    "        return self._balance\n",
    "\n",
    "obj = BankAccount(10000, 100123)\n",
    "print(obj.depositing())\n",
    "print(obj.withdrawing())\n",
    "print(obj.get_balance())"
   ]
  },
  {
   "cell_type": "markdown",
   "metadata": {},
   "source": [
    "9. Discuss the advantages of encapsulation in terms of code maintainability and security."
   ]
  },
  {
   "cell_type": "markdown",
   "metadata": {},
   "source": [
    "Disadvantages of encapsulation in terms of code maintainability is that it can make it challenging to modify the internal implementation of a class without affecting its users. Any chnages to the encapsulated details may require corresponding adjustments in the the code that interacts with the class, potentially leading to more extensive modifications and increased maintenance effort. \n",
    "\n",
    "In terms of security, while encapsulation helps hide the internal workings of a class, it's not foolproof. If there are vulnerabilities in the encapsulatd code,they might not be immediately apparent, making it harder to identify and address security issues. "
   ]
  },
  {
   "cell_type": "markdown",
   "metadata": {},
   "source": [
    "10. How can you access private attributes in Python? Provide an example demonstrating the use of name\n",
    "mangling."
   ]
  },
  {
   "cell_type": "markdown",
   "metadata": {},
   "source": [
    "Python provides a magic wand that can be used to call private methods outside the class also, it is known as name mangling. It means that any identifier of the form __geek (at least two leading underscores or at most one trailing underscore) is replaced with _classname__geek, where the class name is the current class name with a leading underscore(s) stripped. "
   ]
  },
  {
   "cell_type": "code",
   "execution_count": 114,
   "metadata": {},
   "outputs": [
    {
     "name": "stdout",
     "output_type": "stream",
     "text": [
      "Private method\n"
     ]
    }
   ],
   "source": [
    "# Creating a class\n",
    "class A:\n",
    "\n",
    "    # Declaring public method\n",
    "    def fun(self):\n",
    "        print(\"Public method\")\n",
    "\n",
    "    # Declaring private method\n",
    "    def __fun(self):\n",
    "        print(\"Private method\")\n",
    "# Driver's code\n",
    "obj = A()\n",
    "\n",
    "# Calling the private member\n",
    "# through name mangling\n",
    "obj._A__fun()"
   ]
  },
  {
   "cell_type": "markdown",
   "metadata": {},
   "source": [
    "11. Create a Python class hierarchy for a school system, including classes for students, teachers, and courses,\n",
    "and implement encapsulation principles to protect sensitive information."
   ]
  },
  {
   "cell_type": "code",
   "execution_count": 115,
   "metadata": {},
   "outputs": [
    {
     "name": "stdout",
     "output_type": "stream",
     "text": [
      " Teacher Name : DR Amit Kumar, Employee_id :amit123\n",
      " Srudent Name : Alex, Student_id : alex123\n",
      " Course Code : D123, Course Name : DSA\n",
      " course Teacher : DR Amit Kumar\n"
     ]
    }
   ],
   "source": [
    "class Person:\n",
    "    def __init__(self,name,age,address):\n",
    "        self._name = name \n",
    "        self._age = age\n",
    "        self._address = address\n",
    "        \n",
    "    def get_name(self):\n",
    "        return self._name\n",
    "    \n",
    "    def get_age(self):\n",
    "        return self._age\n",
    "    \n",
    "    def get_address (self):\n",
    "        return self._address\n",
    "    \n",
    "class Student(Person):\n",
    "    def __init__(self,name ,age,address,student_id):\n",
    "        super().__init__(name,age,address)\n",
    "        self.student_id = student_id\n",
    "        \n",
    "    def get_student_id(self):\n",
    "        return self.student_id\n",
    "    \n",
    "class Teacher(Person):\n",
    "    def __init__(self,name ,age,address,employee_id):\n",
    "        super().__init__(name,age,address)\n",
    "        self._employee_id = employee_id\n",
    "        \n",
    "    def get_employee_id(self):\n",
    "        return self._employee_id\n",
    "    \n",
    "class Course:\n",
    "    def __init__(self,course_code,course_name,teacher,students):\n",
    "        self._course_code = course_code\n",
    "        self._course_name = course_name\n",
    "        self._teacher = teacher\n",
    "        self._students = students\n",
    "        \n",
    "    def get_course_code(self):\n",
    "        return self._course_code\n",
    "\n",
    "    def get_course_name(self):\n",
    "        return self._course_name\n",
    "    \n",
    "    def get_teacher(self):\n",
    "        return self._teacher\n",
    "    \n",
    "    def get_students(self):\n",
    "        return self._students\n",
    "    \n",
    "# creating instances for student\n",
    "student = Student( name = \"Alex\", age = 25, address =\"US\", student_id = \"alex123\")\n",
    "# creating a teacher object\n",
    "teacher = Teacher( name = \"DR Amit Kumar\", age = 30, address= \"India\", employee_id = \"amit123\")\n",
    "# creating a course object with a teacher and student\n",
    "course  = Course( course_code = \"D123\", course_name = \"DSA\", teacher = teacher , students = student)\n",
    "\n",
    "# Acessing information using getter methods\n",
    "print( f\" Teacher Name : {teacher.get_name()}, Employee_id :{teacher.get_employee_id()}\")\n",
    "print( f\" Srudent Name : {student.get_name()}, Student_id : {student.get_student_id()}\")\n",
    "print( f\" Course Code : {course.get_course_code()}, Course Name : {course.get_course_name()}\")\n",
    "print( f\" course Teacher : { course.get_teacher().get_name()}\")"
   ]
  },
  {
   "cell_type": "markdown",
   "metadata": {},
   "source": [
    "12. Explain the concept of property decorators in Python and how they relate to encapsulation."
   ]
  },
  {
   "cell_type": "markdown",
   "metadata": {},
   "source": [
    "property decorator is a built-in decorator in Python which is helpful in defining the properties effortlessly without manually calling the inbuilt function property(). Which is used to return the property attributes of a class from the stated getter, setter and deleter as parameters. "
   ]
  },
  {
   "cell_type": "code",
   "execution_count": 94,
   "metadata": {},
   "outputs": [
    {
     "name": "stdout",
     "output_type": "stream",
     "text": [
      "PWSKILLS\n"
     ]
    },
    {
     "ename": "AttributeError",
     "evalue": "'Portal' object has no attribute '__name'",
     "output_type": "error",
     "traceback": [
      "\u001b[1;31m---------------------------------------------------------------------------\u001b[0m",
      "\u001b[1;31mAttributeError\u001b[0m                            Traceback (most recent call last)",
      "\u001b[1;32m<ipython-input-94-90e85d7cad35>\u001b[0m in \u001b[0;36m<module>\u001b[1;34m\u001b[0m\n\u001b[0;32m     35\u001b[0m \u001b[1;31m# As name is deleted above this\u001b[0m\u001b[1;33m\u001b[0m\u001b[1;33m\u001b[0m\u001b[1;33m\u001b[0m\u001b[0m\n\u001b[0;32m     36\u001b[0m \u001b[1;31m# will throw an error\u001b[0m\u001b[1;33m\u001b[0m\u001b[1;33m\u001b[0m\u001b[1;33m\u001b[0m\u001b[0m\n\u001b[1;32m---> 37\u001b[1;33m \u001b[0mprint\u001b[0m \u001b[1;33m(\u001b[0m\u001b[0mp\u001b[0m\u001b[1;33m.\u001b[0m\u001b[0m__name\u001b[0m\u001b[1;33m)\u001b[0m\u001b[1;33m\u001b[0m\u001b[1;33m\u001b[0m\u001b[0m\n\u001b[0m",
      "\u001b[1;31mAttributeError\u001b[0m: 'Portal' object has no attribute '__name'"
     ]
    }
   ],
   "source": [
    "# Python program to illustrate the use of\n",
    "# @property decorator\n",
    "\n",
    "# Defining class\n",
    "class Portal:\n",
    "    def __init__(self):\n",
    "        self.__name =''\n",
    "\n",
    "# Using @property decorator\n",
    "    @property\n",
    "# Getter method\n",
    "    def name(self):\n",
    "        return self.__name\n",
    "    \n",
    "# Setter method\n",
    "    @name.setter\n",
    "    def name(self, val):\n",
    "        self.__name = val\n",
    "\n",
    "# Deleter method\n",
    "    @name.deleter\n",
    "    def name(self):\n",
    "        del self.__name\n",
    "# Creating object\n",
    "p = Portal();\n",
    "# Setting name\n",
    "p.name = 'PWSKILLS'\n",
    "\n",
    "# Prints name\n",
    "print (p.name)\n",
    "\n",
    "# Deletes name\n",
    "del p.name\n",
    "\n",
    "# As name is deleted above this \n",
    "# will throw an error\n",
    "print (p.__name)  # the output gives an error because name is deleted\n"
   ]
  },
  {
   "cell_type": "markdown",
   "metadata": {},
   "source": [
    "13. What is data hiding, and why is it important in encapsulation? Provide examples."
   ]
  },
  {
   "cell_type": "markdown",
   "metadata": {},
   "source": [
    "Data hiding means hiding the internal data within the class to prevent its direct access from outside the class.\n",
    "\n",
    "If we talk about data encapsulation so, Data encapsulation hides the private methods and class data parts, whereas Data hiding only hides class data components.\n",
    "Both data hiding and data encapsulation are essential concepts of object-oriented programming.\n",
    "\n",
    "Encapsulation wraps up the complex data to present a simpler view to the user, whereas Data hiding restricts the data use to assure data security."
   ]
  },
  {
   "cell_type": "code",
   "execution_count": 117,
   "metadata": {},
   "outputs": [
    {
     "name": "stdout",
     "output_type": "stream",
     "text": [
      "23\n"
     ]
    }
   ],
   "source": [
    "class Testclass:\n",
    "    def __init__(self):\n",
    "        self.__hideData = 23 # using double underscore for data hiding\n",
    "\n",
    "# create getter method to get data\n",
    "    def get_data(self):\n",
    "        return self.__hideData\n",
    "\n",
    "# creating an object of Testclass\n",
    "obj = Testclass()\n",
    "# print(obj.__hideData)\n",
    "# try to access hidden data will give an attribute error \n",
    "# because data hiding prevent its direct access from outside the class\n",
    "\n",
    "# acessing the hidden attributes by using getter method\n",
    "print(obj.get_data())"
   ]
  },
  {
   "cell_type": "markdown",
   "metadata": {},
   "source": [
    "14. Create a Python class called `Employee` with private attributes for salary (`__salary`) and employee ID (`__employee_id`). Provide a method to calculate yearly bonuses."
   ]
  },
  {
   "cell_type": "code",
   "execution_count": 119,
   "metadata": {},
   "outputs": [
    {
     "name": "stdout",
     "output_type": "stream",
     "text": [
      " Enter the bonus percentage for Employee :6\n",
      " Employee bonus :  1200.0\n"
     ]
    }
   ],
   "source": [
    "class Employee:\n",
    "    def __init__(self,salary,employee_id):\n",
    "        self.__salary = salary\n",
    "        self.__employee_id = employee_id\n",
    "        \n",
    "    def get_salary(self):\n",
    "        return self.__salary\n",
    "    \n",
    "    def get_employee_id(self):\n",
    "        return self.__employee_id\n",
    "    \n",
    "    def calculate_bonus(self,bonus):\n",
    "        if bonus < 0:\n",
    "            raise ValueError(\"Bonus sholud not be negative \")\n",
    "        return self.__salary *(bonus/100)\n",
    "    \n",
    "# create an instances for Employee class\n",
    "employee = Employee(salary = 20000, employee_id = \"rabia2345\")\n",
    "\n",
    "#calculate bonus of salary\n",
    "bonus = float(input(\" Enter the bonus percentage for Employee :\"))\n",
    "print(f\" Employee bonus : \" , employee.calculate_bonus(bonus))            "
   ]
  },
  {
   "cell_type": "markdown",
   "metadata": {},
   "source": [
    "15. Discuss the use of accessors and mutators in encapsulation. How do they help maintain control over\n",
    "attribute access?"
   ]
  },
  {
   "cell_type": "markdown",
   "metadata": {},
   "source": [
    "Accessor Method: This method is used to access the state of the object i.e, the data hidden in the object can be accessed from this method. However, this method cannot change the state of the object, it can only access the data hidden. We can name these methods with the word get. \n",
    "\n",
    "Mutator Method: This method is used to mutate/modify the state of an object i.e, it alters the hidden value of the data variable. It can set the value of a variable instantly to a new value. This method is also called as update method. Moreover, we can name these methods with the word set. "
   ]
  },
  {
   "cell_type": "code",
   "execution_count": 120,
   "metadata": {},
   "outputs": [
    {
     "name": "stdout",
     "output_type": "stream",
     "text": [
      "4\n",
      "2\n",
      "array('i', [5, 1, 3, 4, 2, 2, 7, 19])\n"
     ]
    }
   ],
   "source": [
    "# Python program to illustrate the use of\n",
    "# Accessor and Mutator methods importing \"array\" for array operations \n",
    "import array \n",
    "# initializing array with array values \n",
    "# initializes array with signed integers \n",
    "arr = array.array('i', [5, 1, 3, 4, 2, 2, 7])\n",
    "\n",
    "# Accesses the index of the value in argument\n",
    "print (arr.index(2))\n",
    "\n",
    "# Accesses the number of time the\n",
    "# stated value is present\n",
    "print (arr.count(2))\n",
    "\n",
    "# Mutates the array list\n",
    "(arr.append(19))\n",
    "\n",
    "# Prints the array after alteration\n",
    "print (arr)"
   ]
  },
  {
   "cell_type": "markdown",
   "metadata": {},
   "source": [
    "16. What are the potential drawbacks or disadvantages of using encapsulation in Python?"
   ]
  },
  {
   "cell_type": "markdown",
   "metadata": {},
   "source": [
    " A few disadvantages of encapsulation are as follows:\n",
    "\n",
    "1. Performance Overhead and Indirect Access:\n",
    "\n",
    "The internal data of an object cannot be accessed directly due to encapsulation. Access is instead made available through open channels or interfaces. Compared to direct access, this indirect approach may result in performance overhead. The extra overhead of method resolution, argument passing, and potential method execution comes with each method call. The overhead of encapsulation could be problematic in instances when performance is crucial.\n",
    "\n",
    "2. Growing Complexity\n",
    "\n",
    "Code design and implementation may get more difficult as a result of encapsulation. The codebase can become more organized and modular by encapsulating data and functionality within objects. However, this could also add more indirection and abstraction levels, complicating the code. It may take more time and careful planning to comprehend and maintain the interactions and links between contained things.\n",
    "\n",
    "3. Lack of Visibility:\n",
    "\n",
    "The visibility of internal data and implementation details may be limited through encapsulation. The ability to view and alter an object's internal state from the outside may be constrained, despite the fact that doing so is frequently desirable for data hiding and preserving encapsulation. In some debugging or testing contexts, where direct access to internal state would be advantageous, this can be a problem. Although controlled access can be provided through methods like getters and setters, they do not always offer the same degree of flexibility as direct access.\n",
    "\n",
    "4. Growing Code Size\n",
    "\n",
    "Due to the addition of getter and setter methods for updating and retrieving encapsulated data, encapsulation might result in larger code. This enhances data hiding and encapsulation, but it can also lead to a larger codebase with more method declarations. This may have an impact on the readability and upkeep of the code, particularly if the class contains numerous data members that call for accessors and mutators.\n",
    "\n",
    "5. Design That Is Too Rigid:\n",
    "\n",
    "Excessive encapsulation occasionally leads to a stiff design that is difficult to expand upon or adjust. When encapsulation is used excessively, an object's behavior cannot be extended or changed since every aspect of the object may be contained. To make sure that the design can still be modified to meet changing needs and requirements in the future, it is essential to strike a balance between encapsulation and flexibility."
   ]
  },
  {
   "cell_type": "markdown",
   "metadata": {},
   "source": [
    "17. Create a Python class for a library system that encapsulates book information, including titles, authors,\n",
    "and availability status."
   ]
  },
  {
   "cell_type": "code",
   "execution_count": 121,
   "metadata": {},
   "outputs": [
    {
     "name": "stdout",
     "output_type": "stream",
     "text": [
      " Book 1 : Gulliever Travel by William Shakespare, Available : True\n",
      " Book 2 : The story of My Life  by Helen Keller, Available : True\n",
      "Gulliever Travel by William Shakespare has been borrowed\n",
      "The story of My Life  by Helen Keller has been borrowed\n",
      "Gulliever Travel by William Shakespare has been returned.\n",
      "The story of My Life  by Helen Keller has been returned.\n"
     ]
    }
   ],
   "source": [
    "class Book:\n",
    "    def __init__(self,title,author,available = True ):\n",
    "        self._title = title\n",
    "        self._author = author\n",
    "        self._available = available\n",
    "        \n",
    "    def get_title(self):\n",
    "        return self._title\n",
    "        \n",
    "    def get_author(self):\n",
    "        return self._author\n",
    "    \n",
    "    def is_available (self):\n",
    "        return self._available\n",
    "    \n",
    "    def borrow_book(self):\n",
    "        if self._available:\n",
    "            print(f\"{self._title} by {self._author} has been borrowed\")\n",
    "            self.available = False \n",
    "        else:\n",
    "            print(f\"{self._title} is currently not available \")\n",
    "            \n",
    "    def return_book(self):\n",
    "        if not self.available:\n",
    "            print(f\"{self._title} by {self._author} has been returned.\")\n",
    "            self._available = True\n",
    "            \n",
    "        else:\n",
    "            print( f\" {self._title} is  already available .\")\n",
    " \n",
    "\n",
    "    # creating instances for the class\n",
    "book1 = Book(title = \"Gulliever Travel\", author = \"William Shakespare\")\n",
    "book2 = Book(title =\"The story of My Life \", author = \"Helen Keller\" )\n",
    "\n",
    "# Acessing book information\n",
    "print(f\" Book 1 : {book1.get_title()} by {book1.get_author()}, Available : {book1.is_available()}\")\n",
    "print(f\" Book 2 : {book2.get_title()} by {book2.get_author()}, Available : {book2.is_available()}\")\n",
    "\n",
    "# Borrowing and returning books\n",
    "book1.borrow_book()\n",
    "book2.borrow_book()\n",
    "\n",
    "book1.return_book()\n",
    "book2.return_book()"
   ]
  },
  {
   "cell_type": "markdown",
   "metadata": {},
   "source": [
    "18. Explain how encapsulation enhances code reusability and modularity in Python programs."
   ]
  },
  {
   "cell_type": "markdown",
   "metadata": {},
   "source": [
    "A. Code Reusability\n",
    "\n",
    "By enabling the creation of objects with clearly defined properties and behaviors, encapsulation promotes code reusability. This makes it simpler to reuse the code without having to change it in various areas of the program.\n",
    "\n",
    "B. Modularity and Maintainability:\n",
    "\n",
    "By combining related data and activity into a single unit, the object, encapsulation encourages modularity. Code is simpler to comprehend, maintain, and adapt because to this modular design. Encapsulation allows for the treatment of objects as well-defined interface-only black boxes. As long as the interface is consistent, any modifications or upgrades to an object's internal implementation can be made without having an impact on the external code that utilizes it. Encapsulation aids in the separation of implementation-specific details, lowering dependencies and facilitating more adaptable code organization."
   ]
  },
  {
   "cell_type": "code",
   "execution_count": 122,
   "metadata": {},
   "outputs": [],
   "source": [
    "# FOR EXAMPLE\n",
    "class Example:\n",
    "    def __init__(self):\n",
    "        self.public_variable = 24\n",
    "        self.__private_variable = \"private\"\n",
    "        self._protected_variable = \" protected\"\n",
    "        \n",
    "    def public_method(self):\n",
    "        return self.public_variable #code accessible outside the class\n",
    "    \n",
    "    def __private_method(self):\n",
    "        return self.__private_variable # code accessible only within class\n",
    "    \n",
    "    def _protected_method(self):\n",
    "        return self._protected_variable #code accessible within class and its subclasses    \n",
    "    "
   ]
  },
  {
   "cell_type": "markdown",
   "metadata": {},
   "source": [
    "19. Describe the concept of information hiding in encapsulation. Why is it essential in software development?"
   ]
  },
  {
   "cell_type": "markdown",
   "metadata": {},
   "source": [
    "Encapsulation and information hiding are essential principles in object-oriented programming, promoting code modularity, security, and maintainability. Encapsulation bundles data and methods within a class, while information hiding conceals the internal details of the class from external access.\n",
    "\n",
    "Together, these concepts enable developers to create robust and well-organized software systems, ensuring that changes to the internal implementation of classes do not affect other parts of the program. By providing clear interfaces for interaction and protecting sensitive data, encapsulation and information hiding enhance software design, reusability, and security, making them vital aspects of modern software development."
   ]
  },
  {
   "cell_type": "markdown",
   "metadata": {},
   "source": [
    "20. Create a Python class called `Customer` with private attributes for customer details like name, address,\n",
    "and contact information. Implement encapsulation to ensure data integrity and security."
   ]
  },
  {
   "cell_type": "code",
   "execution_count": 123,
   "metadata": {},
   "outputs": [
    {
     "name": "stdout",
     "output_type": "stream",
     "text": [
      "Name of the customer is : John\n",
      "Address : Noida ,sector-30\n",
      "Contact number : 987654321\n",
      "New customer name :  Jain\n",
      "New address :  Delhi,NCR 001\n",
      "New contact number : 9972241673\n"
     ]
    },
    {
     "data": {
      "text/plain": [
       "\" This encapsulation ensures data integrity and security by controlling access to and modification'\\nof the customer details within the customer class.\""
      ]
     },
     "execution_count": 123,
     "metadata": {},
     "output_type": "execute_result"
    }
   ],
   "source": [
    "class Customer:\n",
    "    def __init__(self):\n",
    "# create private variable for customer details\n",
    "        self.__name = \"John\"\n",
    "        self.__address = \"Noida ,sector-30\"\n",
    "        self.__contact_num = 987654321\n",
    "\n",
    "    # create getter method for the attributes\n",
    "    def get_name(self):\n",
    "        return self.__name\n",
    "    \n",
    "    def get_address(self):\n",
    "        return self.__address\n",
    "    \n",
    "    def get_contact_num(self):\n",
    "        return self.__contact_num\n",
    "    \n",
    "    # create setter method\n",
    "    def set_name (self,new_name):\n",
    "        self.__new_name = new_name\n",
    "        return self.__new_name\n",
    "        \n",
    "    def set_address(self,new_address):\n",
    "        self.__new_address = new_address\n",
    "        return self.__new_address\n",
    "        \n",
    "    def set_contact_num(self,new_contact_num):\n",
    "        self.__new_contact_num = new_contact_num\n",
    "        return self.__new_contact_num\n",
    "        \n",
    "            \n",
    " # create instances for the attributes   \n",
    "customer1 = Customer()\n",
    "\n",
    "# print customer information by using getter method\n",
    "print(\"Name of the customer is :\",customer1.get_name())\n",
    "print(\"Address :\",customer1.get_address())\n",
    "print(\"Contact number :\" ,customer1.get_contact_num())\n",
    "\n",
    "# printing the modify information of customer\n",
    "print(\"New customer name : \",customer1.set_name(\"Jain\"))\n",
    "print(\"New address : \", customer1.set_address(\"Delhi,NCR 001\"))\n",
    "print(\"New contact number :\",customer1.set_contact_num(9972241673))\n",
    "\n",
    "\"\"\" This encapsulation ensures data integrity and security by controlling access to and modification'\n",
    "of the customer details within the customer class.\"\"\""
   ]
  },
  {
   "cell_type": "markdown",
   "metadata": {},
   "source": [
    "# Polymorphism:"
   ]
  },
  {
   "cell_type": "markdown",
   "metadata": {},
   "source": [
    "1. What is polymorphism in Python? Explain how it is related to object-oriented programming."
   ]
  },
  {
   "cell_type": "markdown",
   "metadata": {},
   "source": [
    " \"polymorphism\" means \"many forms\", and in programming it refers to methods/functions/operators with the same name that can be executed on many objects or classes.\n",
    " \n",
    "Polymorphism is often used in Class methods, where we can have multiple classes with the same method name.\n",
    "\n",
    "For example, say we have three classes: Car, Boat, and Plane, and they all have a method called move():"
   ]
  },
  {
   "cell_type": "code",
   "execution_count": 124,
   "metadata": {},
   "outputs": [
    {
     "name": "stdout",
     "output_type": "stream",
     "text": [
      "Drive!\n",
      "Sail!\n",
      "Fly!\n"
     ]
    }
   ],
   "source": [
    "class Car:\n",
    "    def __init__(self, brand, model):\n",
    "        self.brand = brand\n",
    "        self.model = model\n",
    "\n",
    "    def move(self):\n",
    "        print(\"Drive!\")\n",
    "\n",
    "class Boat:\n",
    "    def __init__(self, brand, model):\n",
    "        self.brand = brand\n",
    "        self.model = model\n",
    "\n",
    "    def move(self):\n",
    "        print(\"Sail!\")\n",
    "\n",
    "class Plane:\n",
    "    def __init__(self, brand, model):\n",
    "        self.brand = brand\n",
    "        self.model = model\n",
    "\n",
    "    def move(self):\n",
    "        print(\"Fly!\")\n",
    "\n",
    "car1 = Car(\"Ford\", \"Mustang\")       #Create a Car class\n",
    "boat1 = Boat(\"Ibiza\", \"Touring 20\") #Create a Boat class\n",
    "plane1 = Plane(\"Boeing\", \"747\")     #Create a Plane class\n",
    "\n",
    "for x in (car1, boat1, plane1):\n",
    "    x.move()"
   ]
  },
  {
   "cell_type": "markdown",
   "metadata": {},
   "source": [
    "2. Describe the difference between compile-time polymorphism and runtime polymorphism in Python."
   ]
  },
  {
   "cell_type": "markdown",
   "metadata": {},
   "source": [
    "Distinction between runtime polymorphism and compile-time polymorphism:\n",
    "\n",
    "Runtime polymorphism -\n",
    "It is sometimes referred to as dynamic binding, early binding, and overloading.\n",
    "\n",
    "1. Method overloading can be used to describe compile-time polymorphism. Compile-time polymorphism allows us to use many methods with the same name but differing signatures and return types.\n",
    "\n",
    "2. It delivers quick execution since the method is known early in the compilation process.  \n",
    "\n",
    "3. Everything runs at build time, compile time polymorphism is much less versatile.\n",
    "\n",
    "Compile-time polymorphism-\n",
    "It is sometimes referred to as dynamic binding, Late binding, and overriding.\n",
    "\n",
    "1. Method overriding is a runtime polymorphism in which the same method with the same arguments or signature is associated with several classes.\n",
    "\n",
    "2. It delivers slower execution than early binding since the method to be invoked is known at runtime.\n",
    "\n",
    "3. Everything happens at run time, run time polymorphism is much more versatile."
   ]
  },
  {
   "cell_type": "markdown",
   "metadata": {},
   "source": [
    "3. Create a Python class hierarchy for shapes (e.g., circle, square, triangle) and demonstrate polymorphism\n",
    "through a common method, such as `calculate_area()`."
   ]
  },
  {
   "cell_type": "code",
   "execution_count": 125,
   "metadata": {},
   "outputs": [
    {
     "name": "stdout",
     "output_type": "stream",
     "text": [
      "62.83185307179586\n",
      "40\n",
      "25.0\n"
     ]
    }
   ],
   "source": [
    "import math\n",
    "\n",
    "class Circle :\n",
    "    # Initialize the Circle object with a given radius\n",
    "    def __init__(self,radius):\n",
    "        self.radius = radius\n",
    "        \n",
    "    def calculate_area(self):\n",
    "        return 2 * math.pi * self.radius\n",
    "\n",
    "\n",
    "class Square :\n",
    "     # Initialize the square object with given side\n",
    "    def __init__(self,side):\n",
    "        self.side = side\n",
    "    \n",
    "    def calculate_area(self):\n",
    "        return 4* self.side \n",
    "\n",
    "class Triangle:\n",
    "    # initialize the triangle object with given height and base\n",
    "    def __init__(self,base,height):\n",
    "        self.base = base\n",
    "        self.height = height\n",
    "        \n",
    "        \n",
    "    def calculate_area(self):\n",
    "        return 0.5 * self.base * self.height\n",
    "  #create instances for attributes\n",
    "\n",
    "obj1 = Circle(10)\n",
    "obj2 = Square(10)\n",
    "obj3 = Triangle(5,10)\n",
    "\n",
    "for x in (obj1 , obj2 , obj3):\n",
    "    print(x.calculate_area())"
   ]
  },
  {
   "cell_type": "markdown",
   "metadata": {},
   "source": [
    "4. Explain the concept of method overriding in polymorphism. Provide an example."
   ]
  },
  {
   "cell_type": "markdown",
   "metadata": {},
   "source": [
    "Polymorphism is most commonly associated with inheritance. In Python, child classes, like other programming languages, inherit methods and attributes from the parent class. Method Overriding is the process of redefining certain methods and attributes to fit the child class. This is especially handy when the method inherited from the parent class does not exactly fit the child class. In such circumstances, the method is re-implemented in the child class. Method Overriding refers to the technique of re-implementing a method in a child class."
   ]
  },
  {
   "cell_type": "code",
   "execution_count": 126,
   "metadata": {},
   "outputs": [
    {
     "name": "stdout",
     "output_type": "stream",
     "text": [
      "Details: Audi R8 Price: 9000000\n",
      "Car max speed is 260\n",
      "Car has Automatic Transmission\n",
      "Details: Nissan Magnite Price: 550000\n",
      "Vehicle max speed is 160\n",
      "Vehicle has 6 shifter gearbox\n"
     ]
    }
   ],
   "source": [
    "# example to demonstrate concept of method overriding in polymorphism.\n",
    "class Vehicle:\n",
    "    def __init__(self, brand, model, price):\n",
    "        self.brand = brand\n",
    "        self.model = model\n",
    "        self.price = price\n",
    "\n",
    "    def show(self):\n",
    "        print('Details:', self.brand, self.model, 'Price:', self.price)\n",
    "\n",
    "    def max_speed(self):\n",
    "        print('Vehicle max speed is 160')\n",
    "\n",
    "    def gear_system(self):\n",
    "        print('Vehicle has 6 shifter gearbox')\n",
    "\n",
    "# inherit from vehicle class\n",
    "class Car(Vehicle):\n",
    "    def max_speed(self):\n",
    "        print('Car max speed is 260')\n",
    "\n",
    "    def gear_system(self):\n",
    "        print('Car has Automatic Transmission')\n",
    "\n",
    "# Car Object\n",
    "car = Car('Audi', 'R8', 9000000)\n",
    "car.show()\n",
    "# call methods from Car class\n",
    "car.max_speed()\n",
    "car.gear_system()\n",
    "\n",
    "# Vehicle Object\n",
    "vehicle = Vehicle('Nissan', 'Magnite', 550000)\n",
    "vehicle.show()\n",
    "# call method from a Vehicle class\n",
    "vehicle.max_speed()\n",
    "vehicle.gear_system()\n"
   ]
  },
  {
   "cell_type": "markdown",
   "metadata": {},
   "source": [
    "5. How is polymorphism different from method overloading in Python? Provide examples for both."
   ]
  },
  {
   "cell_type": "markdown",
   "metadata": {},
   "source": [
    "Polymorphism in Python allows objects of different types to be treated as objects of a common type.\n",
    "Method overloading ,on the oher hand,refers to defining multiple methods in the same class with the same name but different parameters."
   ]
  },
  {
   "cell_type": "code",
   "execution_count": 127,
   "metadata": {},
   "outputs": [
    {
     "name": "stdout",
     "output_type": "stream",
     "text": [
      "woof\n",
      "meoww\n"
     ]
    }
   ],
   "source": [
    "# Example of polymorphism in python:\n",
    "class Animal:\n",
    "    def __init__(self):\n",
    "        pass\n",
    "\n",
    "class Dog(Animal):\n",
    "    def make_sound(self):\n",
    "        return \"woof\"\n",
    "\n",
    "class Cat(Animal):\n",
    "    def make_sound(self):\n",
    "        return \"meoww\"\n",
    "\n",
    "# create instances \n",
    "dog = Dog()\n",
    "cat = Cat()\n",
    "\n",
    "for x in (dog,cat):\n",
    "    print(x.make_sound())"
   ]
  },
  {
   "cell_type": "markdown",
   "metadata": {},
   "source": [
    "Method overloading on the other hand ,is not as explict in python as it is in some other languages .\n",
    "Python does not support method overloading in the traditional sense of havig multiple methods with the same name but different parameter types. "
   ]
  },
  {
   "cell_type": "code",
   "execution_count": 128,
   "metadata": {},
   "outputs": [
    {
     "name": "stdout",
     "output_type": "stream",
     "text": [
      "1\n",
      "9\n",
      "12\n"
     ]
    },
    {
     "data": {
      "text/plain": [
       "\" In this the 'add' method can be called with one,two.or three arguments ,providing a form of method\\noverloading using default parameters\""
      ]
     },
     "execution_count": 128,
     "metadata": {},
     "output_type": "execute_result"
    }
   ],
   "source": [
    "# Example \n",
    "\n",
    "class Calculator :\n",
    "    def add(self,a ,b =None, c=None):\n",
    "        if b is not None and c is not None:\n",
    "            return a+b+c\n",
    "        elif b is not None:\n",
    "            return a+b\n",
    "        else:\n",
    "            return a\n",
    "    \n",
    "    # example usage\n",
    "cal = Calculator()\n",
    "print(cal.add(1))\n",
    "print(cal.add(4,5))\n",
    "print(cal.add(2,4,6))\n",
    "\n",
    "\"\"\" In this the 'add' method can be called with one,two.or three arguments ,providing a form of method\n",
    "overloading using default parameters\"\"\""
   ]
  },
  {
   "cell_type": "markdown",
   "metadata": {},
   "source": [
    "6. Create a Python class called `Animal` with a method `speak()`. Then, create child classes like `Dog`, `Cat`, and `Bird`, each with their own `speak()` method. Demonstrate polymorphism by calling the `speak()` method\n",
    "on objects of different subclasses."
   ]
  },
  {
   "cell_type": "code",
   "execution_count": 129,
   "metadata": {},
   "outputs": [
    {
     "name": "stdout",
     "output_type": "stream",
     "text": [
      " Dog : woof\n",
      "Cat : meoww\n",
      "Bird : chirping\n"
     ]
    }
   ],
   "source": [
    "class Animal:\n",
    "\n",
    "    def speak(self):\n",
    "        pass\n",
    "    \n",
    "class Dog(Animal):\n",
    "    def speak(self):\n",
    "        return \" Dog : woof\"\n",
    "    \n",
    "class Cat(Animal):\n",
    "    def speak(self):\n",
    "        return \"Cat : meoww\"\n",
    "    \n",
    "class Bird():\n",
    "    def speak(self):\n",
    "        return \"Bird : chirping\"\n",
    "    \n",
    "# create instances\n",
    "dog = Dog()\n",
    "cat = Cat()\n",
    "bird = Bird()\n",
    "\n",
    "# printing the variable\n",
    "for x in (dog,cat,bird):\n",
    "    print(x.speak())"
   ]
  },
  {
   "cell_type": "markdown",
   "metadata": {},
   "source": [
    "7. Discuss the use of abstract methods and classes in achieving polymorphism in Python. Provide an example\n",
    "using the `abc` module."
   ]
  },
  {
   "cell_type": "markdown",
   "metadata": {},
   "source": [
    "An abstract class can be considered a blueprint for other classes. It allows you to create a set of methods that must be created within any child classes built from the abstract class.\n",
    "\n",
    "ABC works by decorating methods of the base class as an abstract and then registering concrete classes as implementations of the abstract base. A method becomes abstract when decorated with the keyword @abstractmethod."
   ]
  },
  {
   "cell_type": "code",
   "execution_count": 130,
   "metadata": {},
   "outputs": [
    {
     "name": "stdout",
     "output_type": "stream",
     "text": [
      "I can walk and run\n",
      "I can crawl\n",
      "I can bark\n",
      "I can roar\n"
     ]
    }
   ],
   "source": [
    "# Python program showing \n",
    "# abstract base class work \n",
    "from abc import ABC, abstractmethod \n",
    "\n",
    "class Animal(ABC): \n",
    "    def move(self): \n",
    "        pass\n",
    "\n",
    "class Human(Animal): \n",
    "    def move(self): \n",
    "        print(\"I can walk and run\") \n",
    "\n",
    "class Snake(Animal): \n",
    "    def move(self): \n",
    "        print(\"I can crawl\") \n",
    "\n",
    "class Dog(Animal): \n",
    "    def move(self): \n",
    "        print(\"I can bark\") \n",
    "\n",
    "class Lion(Animal): \n",
    "    def move(self): \n",
    "        print(\"I can roar\") \n",
    "\n",
    "# Driver code \n",
    "R = Human() \n",
    "R.move() \n",
    "\n",
    "K = Snake() \n",
    "K.move() \n",
    "\n",
    "R = Dog() \n",
    "R.move() \n",
    "\n",
    "K = Lion() \n",
    "K.move() \n"
   ]
  },
  {
   "cell_type": "markdown",
   "metadata": {},
   "source": [
    "8. Create a Python class hierarchy for a vehicle system (e.g., car, bicycle, boat) and implement a polymorphic `start()` method that prints a message specific to each vehicle type."
   ]
  },
  {
   "cell_type": "code",
   "execution_count": 131,
   "metadata": {},
   "outputs": [
    {
     "name": "stdout",
     "output_type": "stream",
     "text": [
      "Car engine starting \n",
      "pedaling the bicycle\n",
      "boat engine starting\n"
     ]
    }
   ],
   "source": [
    "class Vehicle:\n",
    "    def start(self):\n",
    "        pass\n",
    "\n",
    "class Car:\n",
    "    def start(self):\n",
    "        return \"Car engine starting \"\n",
    "    \n",
    "class Bicycle:\n",
    "    def start(self):\n",
    "        return \"pedaling the bicycle\"\n",
    "    \n",
    "class Boat:\n",
    "    def start(self):\n",
    "        return \"boat engine starting\"\n",
    "    \n",
    "#create object for the class\n",
    "car = Car()\n",
    "bicycle = Bicycle()\n",
    "boat = Boat()\n",
    "\n",
    "for x in (car,bicycle,boat):\n",
    "    print(x.start())"
   ]
  },
  {
   "cell_type": "markdown",
   "metadata": {},
   "source": [
    "9. Explain the significance of the `isinstance()` and `issubclass()` functions in Python polymorphism."
   ]
  },
  {
   "cell_type": "markdown",
   "metadata": {},
   "source": [
    "The isinstance () function checks whether an object is an instance of the class mentioned. One can test if an object or variable is an instance of the type or class. If inheritance is present in the program, then the function can be used to check if a specified class is the parent class of an object. \n",
    "\n",
    "The following syntax is followed to implement the isinstance () function in Python. \n",
    "\n",
    "isinstance (object, classinfo)"
   ]
  },
  {
   "cell_type": "code",
   "execution_count": 132,
   "metadata": {},
   "outputs": [
    {
     "name": "stdout",
     "output_type": "stream",
     "text": [
      "True\n",
      "False\n",
      "True\n"
     ]
    }
   ],
   "source": [
    "# example to demonstrate isinstance in polymorphism\n",
    "class Test1:\n",
    "\n",
    "              a = 6\n",
    "\n",
    "testInstance = Test1 ()\n",
    "\n",
    "print (isinstance (testInstance, Test1))\n",
    "\n",
    "print (isinstance (testInstance, (list, tuple)))\n",
    "\n",
    "print (isinstance (testInstance, (list, tuple, Test1)))\n"
   ]
  },
  {
   "cell_type": "markdown",
   "metadata": {},
   "source": [
    "Python issubclass () is a function that works on the concept of inheritance. Python is an object-oriented language, in which, every entity that is defined in Python is treated as an object.\n",
    "\n",
    "The parameters that are passed in the issubclass () include object and class information. The syntax is as follows.\n",
    "\n",
    "issubclass (object, classinfo)"
   ]
  },
  {
   "cell_type": "code",
   "execution_count": 133,
   "metadata": {},
   "outputs": [
    {
     "name": "stdout",
     "output_type": "stream",
     "text": [
      "True\n",
      "False\n",
      "True\n",
      "True\n"
     ]
    }
   ],
   "source": [
    "# example to demonstrate issubclass in polymorphism\n",
    "class Equation:\n",
    "\n",
    "              def __init__ (equationType):\n",
    "\n",
    "                             print (\"The equation is “, equationType\")\n",
    "\n",
    "class Quadratic (Equation):\n",
    "\n",
    "              def __init__ (self):\n",
    "\n",
    "                             Equation.__init__(\"Quadratic\")\n",
    "\n",
    "print (issubclass (Quadratic, Equation))\n",
    "\n",
    "print (issubclass (Quadratic, list))\n",
    "\n",
    "print (issubclass (Quadratic, (list, Equation)))\n",
    "\n",
    "print (issubclass (Quadratic, (list, Equation)))\n"
   ]
  },
  {
   "cell_type": "markdown",
   "metadata": {},
   "source": [
    "10. What is the role of the `@abstractmethod` decorator in achieving polymorphism in Python? Provide an\n",
    "example."
   ]
  },
  {
   "cell_type": "markdown",
   "metadata": {},
   "source": [
    "Abstract methods are methods that are declared in a base class but not defined. They act as placeholders that must be overridden by subclasses that inherit from the base class. Abstract methods enforce a consistent interface for subclasses and ensure that they provide their own implementation of the method. To create an abstract method in Python, you need to import the abstract base class (ABC) module and use the @abstractmethod decorator."
   ]
  },
  {
   "cell_type": "code",
   "execution_count": 134,
   "metadata": {},
   "outputs": [
    {
     "name": "stdout",
     "output_type": "stream",
     "text": [
      "Reading and parsing CSV file inside as CSV\n",
      "Reading and parsing JSON file inside as JSON\n",
      "Reading and parsing XML file inside as XML\n"
     ]
    }
   ],
   "source": [
    "from abc import ABC, abstractmethod\n",
    "\n",
    "class DataProcessor(ABC):\n",
    "    @abstractmethod\n",
    "    \n",
    "    def process(self, file):\n",
    "        pass\n",
    "\n",
    "\n",
    "class CSVProcessor(DataProcessor):\n",
    "    def process(self, file):\n",
    "        print(f\"Reading and parsing {file} as CSV\")\n",
    "\n",
    "\n",
    "\n",
    "class JSONProcessor(DataProcessor):\n",
    "    def process(self, file):\n",
    "        print(f\"Reading and parsing {file} as JSON\")\n",
    "\n",
    "\n",
    "\n",
    "class XMLProcessor(DataProcessor):\n",
    "    def process(self, file):\n",
    "        print(f\"Reading and parsing {file} as XML\")    \n",
    "\n",
    "# exapmle usage\n",
    "obj1 = CSVProcessor()\n",
    "obj1.process(\"CSV file inside\")\n",
    "\n",
    "obj2 = JSONProcessor()\n",
    "obj2.process(\"JSON file inside\")\n",
    "\n",
    "obj3 = XMLProcessor()\n",
    "obj3.process(\"XML file inside\")"
   ]
  },
  {
   "cell_type": "markdown",
   "metadata": {},
   "source": [
    "11. Create a Python class called `Shape` with a polymorphic method `area()` that calculates the area of different shapes (e.g., circle, rectangle, triangle)."
   ]
  },
  {
   "cell_type": "code",
   "execution_count": 137,
   "metadata": {},
   "outputs": [
    {
     "name": "stdout",
     "output_type": "stream",
     "text": [
      "Area of circle is : 62.83185307179586\n",
      "Area of rectangle is : 252\n",
      "Area of triangle is : 100.0\n"
     ]
    }
   ],
   "source": [
    "from math import pi\n",
    "class Shape:\n",
    "    def area(self):\n",
    "        pass\n",
    "    \n",
    "# create a derived class circle\n",
    "class Circle(Shape):\n",
    "    def area(self,radius):\n",
    "        self.radius = radius\n",
    "        return 2* math.pi *self.radius\n",
    "    \n",
    "# create a derived class rectangle\n",
    "class Rectangle:\n",
    "    def area(self,length,breadth):\n",
    "        self.length = length\n",
    "        self.breadth = breadth\n",
    "        return self.length* self.breadth\n",
    "    \n",
    "# create a derived class triangle\n",
    "class Triangle:\n",
    "    def area (self,base,height):\n",
    "        self.base = base \n",
    "        self.height = height\n",
    "        return 0.5* self.base* self.height\n",
    "    \n",
    "# creating instances\n",
    "circle = Circle()\n",
    "rectangle = Rectangle()\n",
    "triangle = Triangle()\n",
    "\n",
    "#calling methods\n",
    "print(\"Area of circle is :\",circle.area(10))\n",
    "print(\"Area of rectangle is :\",rectangle.area(14,18))\n",
    "print(\"Area of triangle is :\",triangle.area(10,20))"
   ]
  },
  {
   "cell_type": "markdown",
   "metadata": {},
   "source": [
    "12. Discuss the benefits of polymorphism in terms of code reusability and flexibility in Python programs."
   ]
  },
  {
   "cell_type": "markdown",
   "metadata": {},
   "source": [
    "Polymorphism enhances code reusability by allowing a single interface to epresent various types,enabling the reuse of code across different classes. This flexibility simplifies maintainance and promotes a modular and extensible codebase.\n"
   ]
  },
  {
   "cell_type": "markdown",
   "metadata": {},
   "source": [
    "13. Explain the use of the `super()` function in Python polymorphism. How does it help call methods of parent\n",
    "classes?"
   ]
  },
  {
   "cell_type": "markdown",
   "metadata": {},
   "source": [
    "The 'super()' function in python is used to call methods from a parent class within a subclass. In the comtext of polymorphism ,it allows you to invoke the overriden method in the superclasswhile providing the flexibility for the subclass to extend or customize the behavior."
   ]
  },
  {
   "cell_type": "code",
   "execution_count": 139,
   "metadata": {},
   "outputs": [
    {
     "name": "stdout",
     "output_type": "stream",
     "text": [
      "Hello, and welcome!\n"
     ]
    }
   ],
   "source": [
    "# example of super fnction\n",
    "class Parent:\n",
    "    def __init__(self, txt):\n",
    "        self.message = txt\n",
    "\n",
    "    def printmessage(self):\n",
    "        print(self.message)\n",
    "\n",
    "class Child(Parent):\n",
    "    def __init__(self, txt):\n",
    "        super().__init__(txt)\n",
    "\n",
    "x = Child(\"Hello, and welcome!\")\n",
    "\n",
    "x.printmessage()"
   ]
  },
  {
   "cell_type": "markdown",
   "metadata": {},
   "source": [
    "14. Create a Python class hierarchy for a banking system with various account types (e.g., savings, checking,"
   ]
  },
  {
   "cell_type": "code",
   "execution_count": 141,
   "metadata": {},
   "outputs": [
    {
     "name": "stdout",
     "output_type": "stream",
     "text": [
      "Hello!!! Welcome to the Deposit & Withdrawal Machine\n",
      "Enter amount to be Deposited: 1000\n",
      "\n",
      " Amount Deposited: 1000.0\n",
      "Enter amount to be Withdrawn: 300\n",
      "\n",
      " You Withdrew: 300.0\n",
      "\n",
      " Net Available Balance= 700.0\n"
     ]
    }
   ],
   "source": [
    "# Python program to create Bankaccount class\n",
    "# with both a deposit() and a withdraw() function\n",
    "class Bank_Account:\n",
    "    def __init__(self):\n",
    "        self.balance=0\n",
    "        print(\"Hello!!! Welcome to the Deposit & Withdrawal Machine\")\n",
    "\n",
    "    def deposit(self):\n",
    "        amount=float(input(\"Enter amount to be Deposited: \"))\n",
    "        self.balance += amount\n",
    "        print(\"\\n Amount Deposited:\",amount)\n",
    "\n",
    "    def withdraw(self):\n",
    "        amount = float(input(\"Enter amount to be Withdrawn: \"))\n",
    "        if self.balance>=amount:\n",
    "            self.balance-=amount\n",
    "            print(\"\\n You Withdrew:\", amount)\n",
    "        else:\n",
    "            print(\"\\n Insufficient balance \")\n",
    "\n",
    "    def display(self):\n",
    "        print(\"\\n Net Available Balance=\",self.balance)\n",
    "\n",
    "# Driver code\n",
    "\n",
    "# creating an object of class\n",
    "s = Bank_Account()\n",
    "\n",
    "# Calling functions with that class object\n",
    "s.deposit()\n",
    "s.withdraw()\n",
    "s.display()\n"
   ]
  },
  {
   "cell_type": "markdown",
   "metadata": {},
   "source": [
    "15. Describe the concept of operator overloading in Python and how it relates to polymorphism. Provide\n",
    "examples using operators like `+` and `*`."
   ]
  },
  {
   "cell_type": "markdown",
   "metadata": {},
   "source": [
    "Operator Overloading means giving extended meaning beyond their predefined operational meaning. For example operator + is used to add two integers as well as join two strings and merge two lists. It is achievable because ‘+’ operator is overloaded by int class and str class."
   ]
  },
  {
   "cell_type": "code",
   "execution_count": 142,
   "metadata": {},
   "outputs": [
    {
     "name": "stdout",
     "output_type": "stream",
     "text": [
      "(3, 5)\n"
     ]
    }
   ],
   "source": [
    "# Python Program to perform addition \n",
    "# of two complex numbers using binary \n",
    "# + operator overloading.\n",
    "\n",
    "class complex:\n",
    "    def __init__(self, a, b):\n",
    "        self.a = a\n",
    "        self.b = b\n",
    "\n",
    "# adding two objects \n",
    "    def __add__(self, other):\n",
    "        return self.a + other.a, self.b + other.b\n",
    "Ob1 = complex(1, 2)\n",
    "Ob2 = complex(2, 3)\n",
    "Ob3 = Ob1 + Ob2\n",
    "print(Ob3)"
   ]
  },
  {
   "cell_type": "markdown",
   "metadata": {},
   "source": [
    "16. What is dynamic polymorphism, and how is it achieved in Python?"
   ]
  },
  {
   "cell_type": "markdown",
   "metadata": {},
   "source": [
    "Dynamic Polymorphism in programming refers the ability of a method todo different things based on the object it is acting upon. In Python, dynamic polymorphism is achieved through method overriding and duck typing.\n",
    "Method overriding allows a subclass to provide specific implementation of a method that is already defined in its superclass. When you call the method on an object of the subclass,the overriden method in the subclass is excuted."
   ]
  },
  {
   "cell_type": "code",
   "execution_count": 144,
   "metadata": {},
   "outputs": [
    {
     "name": "stdout",
     "output_type": "stream",
     "text": [
      "woof\n",
      "meoww\n"
     ]
    }
   ],
   "source": [
    "# example to demonstrate dynamic polymorphism\n",
    "\n",
    "class Animal:\n",
    "    def make_sound(self):\n",
    "        pass\n",
    "    \n",
    "class Dog(Animal):\n",
    "    def make_sound(self):\n",
    "        return \"woof\"\n",
    "    \n",
    "class Cat(Animal):\n",
    "    def make_sound(self):\n",
    "        return \"meoww\"\n",
    "    \n",
    "def animal_sound(animal):\n",
    "    return animal.make_sound()\n",
    "\n",
    "dog = Dog()\n",
    "cat = Cat()\n",
    "\n",
    "print(animal_sound(dog))\n",
    "print(animal_sound(cat))\n",
    "\n",
    "\"\"\" The 'animal_sound' function can take any object that has a 'make_sound ' method,demonstrating\n",
    "dynamic polymorphism through duck typing.\"\"\""
   ]
  },
  {
   "cell_type": "markdown",
   "metadata": {},
   "source": [
    "17. Create a Python class hierarchy for employees in a company (e.g., manager, developer, designer) and implement polymorphism through a common `calculate_salary()` method."
   ]
  },
  {
   "cell_type": "code",
   "execution_count": 67,
   "metadata": {},
   "outputs": [
    {
     "name": "stdout",
     "output_type": "stream",
     "text": [
      " Rabia- Manager's salary:60000\n",
      " Harsh- Developer's salary:50000\n",
      " Arijit- Designer's salary:44000\n"
     ]
    }
   ],
   "source": [
    "# create super class Employee\n",
    "class Employee:\n",
    "    def __init__(self,name,post):\n",
    "        self.name = name\n",
    "        self.post = post\n",
    "    \n",
    "# define method for salary calculation\n",
    "    def calculate_salary(self):\n",
    "        pass\n",
    "\n",
    "# create a derived class Manager \n",
    "class Manager(Employee):\n",
    "    def __init__(self,name,post,team_size):\n",
    "        super().__init__(name, post)\n",
    "        self.team_size = team_size\n",
    "        \n",
    "    def calculate_salary(self):\n",
    "        base_salary = 50000\n",
    "        bonus = self.team_size *1000\n",
    "        return base_salary + bonus\n",
    "\n",
    "# create a derived class Developer\n",
    "class Developer(Employee):\n",
    "    def __init__(self,name,post,programming_language):\n",
    "        super().__init__(name, post)\n",
    "        self.programming_language = programming_language\n",
    "        \n",
    "    def calculate_salary(self):\n",
    "        base_salary = 50000\n",
    "        if self.programming_language == \" Python\":\n",
    "            bonus = 5000\n",
    "        else:\n",
    "            bonus = 0\n",
    "        return base_salary +bonus\n",
    "\n",
    "# create a derived class Designer \n",
    "class Designer(Employee):\n",
    "    def __init__(self,name,post):\n",
    "        super().__init__(name, post)\n",
    "        \n",
    "    def calculate_salary(self,creative_level ):\n",
    "        self.creative_level = creative_level \n",
    "        base_salary = 40000\n",
    "        bonus = creative_level* 500\n",
    "        return base_salary + bonus\n",
    "    \n",
    "# create instances for the attributes\n",
    "manager = Manager(name = \"Rabia\",post = \"Manager\",team_size = 10)\n",
    "developer = Developer(name = \"Harsh\",post = \"Developer\", programming_language= \"Python\")\n",
    "designer = Designer(name = \"Arijit\", post =\"Designer\" )\n",
    "\n",
    "# calling method for calculate_salary\n",
    "print(f\" {manager.name}- {manager.post}'s salary:{manager.calculate_salary()}\")\n",
    "print(f\" {developer.name}- {developer.post}'s salary:{developer.calculate_salary()}\")\n",
    "print(f\" {designer.name}- {designer.post}'s salary:{designer.calculate_salary(8)}\")"
   ]
  },
  {
   "cell_type": "markdown",
   "metadata": {},
   "source": [
    "18. Discuss the concept of function pointers and how they can be used to achieve polymorphism in Python."
   ]
  },
  {
   "cell_type": "markdown",
   "metadata": {},
   "source": [
    "In Python, the concept of function pointers is not as explicit as it is in some other programming languages like C or C++. However, Python supports a powerful mechanism called \"first-class functions,\"\n",
    "To understand how function pointers or first-class functions can be used for polymorphism in Python, let's first define polymorphism. Polymorphism refers to the ability of a single interface (function or method) to work with different types of data or objects. In Python, polymorphism is achieved through duck typing, where the type or class of an object is less important than the methods it defines."
   ]
  },
  {
   "cell_type": "code",
   "execution_count": 1,
   "metadata": {},
   "outputs": [
    {
     "name": "stdout",
     "output_type": "stream",
     "text": [
      "Woof!\n",
      "Meow!\n",
      "Quack!\n"
     ]
    }
   ],
   "source": [
    "class Dog:\n",
    "    def speak(self):\n",
    "        return \"Woof!\"\n",
    "\n",
    "class Cat:\n",
    "    def speak(self):\n",
    "        return \"Meow!\"\n",
    "\n",
    "class Duck:\n",
    "    def speak(self):\n",
    "        return \"Quack!\"\n",
    "\n",
    "def animal_sound(animal):\n",
    "    return animal.speak()\n",
    "\n",
    "# Create instances of different animals\n",
    "dog = Dog()\n",
    "cat = Cat()\n",
    "duck = Duck()\n",
    "\n",
    "# Call the common function using different objects\n",
    "print(animal_sound(dog))   # Output: Woof!\n",
    "print(animal_sound(cat))   # Output: Meow!\n",
    "print(animal_sound(duck))  # Output: Quack!\n",
    "\n",
    "\"\"\" In this example, animal_sound is a function that takes an animal object as an argument and\n",
    "calls its speak method. The function doesn't care about the specific type of the object; it only \n",
    "relies on the presence of the speak method.\"\"\""
   ]
  },
  {
   "cell_type": "markdown",
   "metadata": {},
   "source": [
    "19. Explain the role of interfaces and abstract classes in polymorphism, drawing comparisons between them."
   ]
  },
  {
   "cell_type": "markdown",
   "metadata": {},
   "source": [
    "Interfaces:\n",
    "Interfaces define a contract for a set of methods that a class must implement.\n",
    "They only declare the method signatures without providing any implementation.\n",
    "\n",
    "Usage:\n",
    "Classes implement interfaces by providing concrete implementations for all the methods declared in the interface.\n",
    "A class can implement multiple interfaces.\n",
    "\n",
    "Abstract Classes:\n",
    "Abstract classes are classes that cannot be instantiated on their own and may contain a mix of abstract (unimplemented) and concrete (implemented) methods.\n",
    "They can provide some default implementation for certain methods.\n",
    "\n",
    "Usage:\n",
    "Subclasses extend abstract classes and provide concrete implementations for the abstract methods.\n",
    "A class can extend only one abstract class."
   ]
  },
  {
   "cell_type": "markdown",
   "metadata": {},
   "source": [
    "20. Create a Python class for a zoo simulation, demonstrating polymorphism with different animal types (e.g., mammals, birds, reptiles) and their behavior (e.g., eating, sleeping, making sounds)."
   ]
  },
  {
   "cell_type": "code",
   "execution_count": 2,
   "metadata": {},
   "outputs": [
    {
     "name": "stdout",
     "output_type": "stream",
     "text": [
      "\n",
      "Simba:\n",
      "Roar!\n",
      "Lion is eating meat.\n",
      "Simba is sleeping Zzz\n",
      "\n",
      "Polly:\n",
      "Squawk!\n",
      "Parrot is eating seeds.\n",
      "Polly is sleeping Zzz\n",
      "\n",
      "Slytherin:\n",
      "Hiss!\n",
      "Snake is eating rodents.\n",
      "Slytherin is sleeping Zzz\n"
     ]
    }
   ],
   "source": [
    "class Animal:\n",
    "    def __init__(self, name):\n",
    "        self.name = name\n",
    "\n",
    "    def make_sound(self):\n",
    "        pass\n",
    "\n",
    "    def eat(self):\n",
    "        pass\n",
    "\n",
    "    def sleep(self):\n",
    "        print(f\"{self.name} is sleeping Zzz\")\n",
    "\n",
    "\n",
    "class Mammal(Animal):\n",
    "    def give_birth(self):\n",
    "        print(f\"{self.name} is giving birth\")\n",
    "\n",
    "\n",
    "class Bird(Animal):\n",
    "    def fly(self):\n",
    "        print(f\"{self.name} is flying\")\n",
    "\n",
    "\n",
    "class Reptile(Animal):\n",
    "    def crawl(self):\n",
    "        print(f\"{self.name} is crawling\")\n",
    "\n",
    "\n",
    "# Examples of specific animal types\n",
    "class Lion(Mammal):\n",
    "    def make_sound(self):\n",
    "        print(\"Roar!\")\n",
    "\n",
    "    def eat(self):\n",
    "        print(\"Lion is eating meat.\")\n",
    "\n",
    "\n",
    "class Parrot(Bird):\n",
    "    def make_sound(self):\n",
    "        print(\"Squawk!\")\n",
    "\n",
    "    def eat(self):\n",
    "        print(\"Parrot is eating seeds.\")\n",
    "\n",
    "\n",
    "class Snake(Reptile):\n",
    "    def make_sound(self):\n",
    "        print(\"Hiss!\")\n",
    "\n",
    "    def eat(self):\n",
    "        print(\"Snake is eating rodents.\")\n",
    "\n",
    "\n",
    "# Zoo simulation\n",
    "lion = Lion(\"Simba\")\n",
    "parrot = Parrot(\"Polly\")\n",
    "snake = Snake(\"Slytherin\")\n",
    "\n",
    "zoo_animals = [lion, parrot, snake]\n",
    "\n",
    "for animal in zoo_animals:\n",
    "    print(f\"\\n{animal.name}:\")\n",
    "    animal.make_sound()\n",
    "    animal.eat()\n",
    "    animal.sleep()"
   ]
  },
  {
   "cell_type": "markdown",
   "metadata": {},
   "source": [
    "# Abstraction:"
   ]
  },
  {
   "cell_type": "markdown",
   "metadata": {},
   "source": [
    "1. What is abstraction in Python, and how does it relate to object-oriented programming?"
   ]
  },
  {
   "cell_type": "markdown",
   "metadata": {},
   "source": [
    "Abstraction is a fundamental concept in object-oriented programming (OOP) that involves simplifying complex systems by modeling classes based on real-world entities and representing their essential characteristics. In Python, abstraction is achieved through the use of classes and objects.\n",
    "\n",
    "Here are key aspects of abstraction in Python and its relation to object-oriented programming:\n",
    "\n",
    "Classes and Objects:\n",
    "\n",
    "Abstraction in Python is often implemented using classes and objects. A class is a blueprint or template that defines the attributes (data members) and behaviors (methods) that objects of that class will have.\n",
    "Objects are instances of classes. They encapsulate data and behavior, providing a way to interact with and manipulate the attributes and methods defined in the class.\n",
    "\n",
    "Encapsulation:\n",
    "Encapsulation is a form of abstraction that involves bundling the data (attributes) and the methods that operate on the data into a single unit, i.e., a class.\n",
    "This bundling helps hide the internal details of how the class works, exposing only what is necessary for external interaction.\n",
    "\n",
    "Data Hiding:\n",
    "Abstraction allows for data hiding, where the internal details of a class are hidden from the outside world. Private attributes and methods can be used to restrict access to certain components of a class."
   ]
  },
  {
   "cell_type": "markdown",
   "metadata": {},
   "source": [
    "2. Describe the benefits of abstraction in terms of code organization and complexity reduction."
   ]
  },
  {
   "cell_type": "markdown",
   "metadata": {},
   "source": [
    "Benefits of abstraction in terms of code organization and complexity reduction:\n",
    "\n",
    "Abstraction allows developers to model real-world entities and systems in a simplified manner by capturing their essential characteristics. This simplification makes it easier to understand and manage complex systems.\n",
    "\n",
    "Code Organization:\n",
    "\n",
    "Abstraction promotes a modular and organized code structure. Classes and objects serve as building blocks that encapsulate related data and behavior, facilitating a more logical and structured organization of code.\n",
    "\n",
    "Code Reusability:\n",
    "\n",
    "Abstraction facilitates code reusability through the concept of inheritance and polymorphism. A well-designed abstract class or interface can be used as a blueprint for creating new classes, inheriting common functionality and providing specific implementations. This minimizes redundant code and promotes a DRY (Don't Repeat Yourself) coding principle.\n",
    "\n"
   ]
  },
  {
   "cell_type": "markdown",
   "metadata": {},
   "source": [
    "3. Create a Python class called `Shape` with an abstract method `calculate_area()`. Then, create child classes (e.g., `Circle`, `Rectangle`) that implement the `calculate_area()` method. Provide an example of\n",
    "using these classes."
   ]
  },
  {
   "cell_type": "code",
   "execution_count": 6,
   "metadata": {},
   "outputs": [
    {
     "name": "stdout",
     "output_type": "stream",
     "text": [
      "Area of the circle: 78.54\n",
      "Area of the rectangle: 24\n"
     ]
    }
   ],
   "source": [
    "from abc import ABC, abstractmethod\n",
    "from math import pi\n",
    "\n",
    "class Shape(ABC):\n",
    "    @abstractmethod\n",
    "    def calculate_area(self):\n",
    "        pass\n",
    "\n",
    "class Circle(Shape):\n",
    "    def __init__(self, radius):\n",
    "        self.radius = radius\n",
    "\n",
    "    def calculate_area(self):\n",
    "        return pi * self.radius**2\n",
    "\n",
    "class Rectangle(Shape):\n",
    "    def __init__(self, width, height):\n",
    "        self.width = width\n",
    "        self.height = height\n",
    "\n",
    "    def calculate_area(self):\n",
    "        return self.width * self.height\n",
    "\n",
    "# Example usage\n",
    "circle = Circle(radius=5)\n",
    "rectangle = Rectangle(width=4, height=6)\n",
    "\n",
    "print(f\"Area of the circle: {circle.calculate_area():.2f}\")\n",
    "print(f\"Area of the rectangle: {rectangle.calculate_area()}\")\n"
   ]
  },
  {
   "cell_type": "markdown",
   "metadata": {},
   "source": [
    "4. Explain the concept of abstract classes in Python and how they are defined using the `abc` module. Provide\n",
    "an example."
   ]
  },
  {
   "cell_type": "markdown",
   "metadata": {},
   "source": [
    "Abstract classes in Python are classes that cannot be instantiated on their own and typically include one or more abstract methods. Abstract methods are declared in the abstract class but do not contain an implementation.\n",
    "\n",
    "The abc module (Abstract Base Classes) in Python provides a mechanism for defining abstract classes and abstract methods. The module introduces the ABC (Abstract Base Class) metaclass and the @abstractmethod decorator to declare abstract methods."
   ]
  },
  {
   "cell_type": "code",
   "execution_count": 7,
   "metadata": {},
   "outputs": [
    {
     "name": "stdout",
     "output_type": "stream",
     "text": [
      "Dog:\n",
      "Sound: Woof!\n",
      "Movement: Running on four legs\n",
      "\n",
      "Bird:\n",
      "Sound: Chirp!\n",
      "Movement: Flying in the sky\n",
      "\n"
     ]
    }
   ],
   "source": [
    "#example to demonstrate abstract classes\n",
    "from abc import ABC, abstractmethod\n",
    "\n",
    "class Animal(ABC):\n",
    "    @abstractmethod\n",
    "    def speak(self):\n",
    "        pass\n",
    "\n",
    "    @abstractmethod\n",
    "    def move(self):\n",
    "        pass\n",
    "\n",
    "class Dog(Animal):\n",
    "    def speak(self):\n",
    "        return \"Woof!\"\n",
    "\n",
    "    def move(self):\n",
    "        return \"Running on four legs\"\n",
    "\n",
    "class Bird(Animal):\n",
    "    def speak(self):\n",
    "        return \"Chirp!\"\n",
    "\n",
    "    def move(self):\n",
    "        return \"Flying in the sky\"\n",
    "\n",
    "# Example usage\n",
    "dog = Dog()\n",
    "bird = Bird()\n",
    "\n",
    "animals = [dog, bird]\n",
    "\n",
    "for animal in animals:\n",
    "    print(f\"{animal.__class__.__name__}:\")\n",
    "    print(f\"Sound: {animal.speak()}\")\n",
    "    print(f\"Movement: {animal.move()}\")\n",
    "    print()\n"
   ]
  },
  {
   "cell_type": "markdown",
   "metadata": {},
   "source": [
    "5. How do abstract classes differ from regular classes in Python? Discuss their use cases."
   ]
  },
  {
   "cell_type": "markdown",
   "metadata": {},
   "source": [
    "Abstract Classes:\n",
    "Use abstract classes when you want to create a common structure for a group of related classes, ensuring that certain methods must be implemented by all subclasses.\n",
    "Ideal for scenarios where you want to enforce a consistent interface across multiple classes that share common functionality.\n",
    "\n",
    "Regular Classes:\n",
    "Use regular classes when you need to create objects with specific attributes and behaviors, and there are no strict requirements for a common structure.\n",
    "Suitable for scenarios where you want flexibility in designing class structures and don't need to enforce a specific interface for all classes.\n",
    "\n",
    "In summary, abstract classes are designed to provide a common structure and enforce certain methods, promoting a shared interface among related classes.\n",
    "\n",
    "Regular classes, on the other hand, offer more flexibility and can be instantiated directly to create objects with specific behaviors and attributes. The choice between them depends on the design goals and requirements of the software being developed.\n"
   ]
  },
  {
   "cell_type": "markdown",
   "metadata": {},
   "source": [
    "6. Create a Python class for a bank account and demonstrate abstraction by hiding the account balance and\n",
    "providing methods to deposit and withdraw funds."
   ]
  },
  {
   "cell_type": "code",
   "execution_count": 8,
   "metadata": {},
   "outputs": [
    {
     "name": "stdout",
     "output_type": "stream",
     "text": [
      "Account Holder: John Doe\n",
      "Account Number: 12345\n",
      "Initial Balance: $0\n",
      "\n",
      "Deposited $1000. New balance: $1000\n",
      "Withdrew $500. New balance: $500\n",
      "Deposited $200. New balance: $700\n",
      "Insufficient funds. Withdrawal denied.\n"
     ]
    }
   ],
   "source": [
    "from abc import ABC, abstractmethod\n",
    "\n",
    "class BankAccount(ABC):\n",
    "    def __init__(self, account_holder, account_number):\n",
    "        self.account_holder = account_holder\n",
    "        self.account_number = account_number\n",
    "        self._balance = 0  # Private variable to store the account balance\n",
    "\n",
    "    @property\n",
    "    def balance(self):\n",
    "        return self._balance\n",
    "\n",
    "    @abstractmethod\n",
    "    def deposit(self, amount):\n",
    "        pass\n",
    "\n",
    "    @abstractmethod\n",
    "    def withdraw(self, amount):\n",
    "        pass\n",
    "\n",
    "class SavingsAccount(BankAccount):\n",
    "    def __init__(self, account_holder, account_number, interest_rate=0.02):\n",
    "        super().__init__(account_holder, account_number)\n",
    "        self.interest_rate = interest_rate\n",
    "\n",
    "    def deposit(self, amount):\n",
    "        if amount > 0:\n",
    "            self._balance += amount\n",
    "            print(f\"Deposited ${amount}. New balance: ${self._balance}\")\n",
    "        else:\n",
    "            print(\"Invalid deposit amount. Please deposit a positive amount.\")\n",
    "\n",
    "    def withdraw(self, amount):\n",
    "        if amount > 0 and amount <= self._balance:\n",
    "            self._balance -= amount\n",
    "            print(f\"Withdrew ${amount}. New balance: ${self._balance}\")\n",
    "        elif amount > self._balance:\n",
    "            print(\"Insufficient funds. Withdrawal denied.\")\n",
    "        else:\n",
    "            print(\"Invalid withdrawal amount. Please withdraw a positive amount.\")\n",
    "\n",
    "# Example usage\n",
    "savings_account = SavingsAccount(account_holder=\"John Doe\", account_number=\"12345\")\n",
    "\n",
    "print(f\"Account Holder: {savings_account.account_holder}\")\n",
    "print(f\"Account Number: {savings_account.account_number}\")\n",
    "print(f\"Initial Balance: ${savings_account.balance}\\n\")\n",
    "\n",
    "savings_account.deposit(1000)\n",
    "savings_account.withdraw(500)\n",
    "savings_account.deposit(200)\n",
    "savings_account.withdraw(1500)\n"
   ]
  },
  {
   "cell_type": "markdown",
   "metadata": {},
   "source": [
    "7. Discuss the concept of interface classes in Python and their role in achieving abstraction."
   ]
  },
  {
   "cell_type": "markdown",
   "metadata": {},
   "source": [
    "In Python, interface classes are not a native construct like they are in some other programming languages. However, the concept of interfaces is achieved through a combination of abstract classes, abstract methods, and the use of the ABC (Abstract Base Class) module from the abc module.\n",
    "\n",
    "Role in Achieving Abstraction:\n",
    "Interface classes in Python are often used to define a common interface that multiple classes must adhere to.\n",
    "By creating an abstract class with abstract methods, you establish a contract that specifies what methods must be implemented by any class that inherits from it.\n",
    "Enforcing Structure:\n",
    "\n",
    "Interface classes help enforce a certain structure among related classes, ensuring that they share common behavior or functionality.\n",
    "Polymorphism:\n",
    "\n",
    "Interface-like structures support polymorphism, allowing objects of different classes to be treated interchangeably if they implement the methods defined in the interface.\n",
    "Hiding Implementation Details:\n",
    "\n",
    "Interface classes promote abstraction by hiding the implementation details of classes that implement them.\n",
    "Users of the interface only need to know about the methods declared in the interface, not the specifics of how those methods are implemented in each class."
   ]
  },
  {
   "cell_type": "markdown",
   "metadata": {},
   "source": [
    "8. Create a Python class hierarchy for animals and implement abstraction by defining common methods (e.g., `eat()`, `sleep()`) in an abstract base class."
   ]
  },
  {
   "cell_type": "code",
   "execution_count": 9,
   "metadata": {},
   "outputs": [
    {
     "name": "stdout",
     "output_type": "stream",
     "text": [
      "\n",
      "Buddy:\n",
      "Dog is eating dog food.\n",
      "Buddy is sleeping Zzz\n",
      "\n",
      "Polly:\n",
      "Parrot is eating seeds.\n"
     ]
    }
   ],
   "source": [
    "from abc import ABC, abstractmethod\n",
    "\n",
    "class Animal(ABC):\n",
    "    def __init__(self, name):\n",
    "        self.name = name\n",
    "\n",
    "    @abstractmethod\n",
    "    def eat(self):\n",
    "        pass\n",
    "    \n",
    "    @abstractmethod\n",
    "    def sleep(self):\n",
    "        pass\n",
    "\n",
    "class Dog(Animal):\n",
    "    def name(self,name):\n",
    "        super().__init__(name)\n",
    "        return f\"Dog name is {self.name}\"\n",
    "    \n",
    "    def eat(self):\n",
    "        print(\"Dog is eating dog food.\")\n",
    "\n",
    "    def sleep(self):\n",
    "        return print(f\"{self.name} is sleeping Zzz\")\n",
    "\n",
    "class Parrot(Animal):\n",
    "    def name(self,name):\n",
    "        super().__init__(name)\n",
    "        \n",
    "    def eat(self):\n",
    "        print(\"Parrot is eating seeds.\")\n",
    "\n",
    "    def sleep(self):\n",
    "        return f\"{self.name} is sleeping Zzz\"\n",
    "# Example usage\n",
    "dog = Dog(name=\"Buddy\")\n",
    "parrot = Parrot(name=\"Polly\")\n",
    "\n",
    "animals = [dog, parrot]\n",
    "\n",
    "for animal in animals:\n",
    "    print(f\"\\n{animal.name}:\")\n",
    "    animal.eat()\n",
    "    animal.sleep()"
   ]
  },
  {
   "cell_type": "markdown",
   "metadata": {},
   "source": [
    "9. Explain the significance of encapsulation in achieving abstraction. Provide examples."
   ]
  },
  {
   "cell_type": "markdown",
   "metadata": {},
   "source": [
    " Significance of encapsulation in achieving abstraction:\n",
    " \n",
    "Data Hiding:\n",
    "Encapsulation allows the hiding of the internal state of an object from the outside world. The internal details of an object are kept private, and only the necessary operations are exposed.\n",
    "\n",
    "Example: Consider a class representing a bank account. The balance of the account is an internal detail encapsulated within the class, and methods like deposit and withdraw provide controlled access to manipulate the balance.\n",
    "\n",
    "Modularity:\n",
    "Encapsulation promotes modularity by organizing code into self-contained units (classes). Each class encapsulates its own data and behavior, making it easier to understand, maintain, and modify without affecting other parts of the program.\n",
    "\n",
    "Example: In a video game, encapsulating the player's attributes (such as health, position, and score) within a Player class allows developers to modify player-related functionality independently of other game components.\n",
    "\n",
    "Code Flexibility and Maintenance:\n",
    "Encapsulation makes it easier to update the internal implementation of a class without affecting the external code that uses the class. This flexibility simplifies maintenance and allows for changes without disrupting the rest of the program.\n",
    "\n",
    "Example: If the internal representation of a date changes within a Date class, the external code that uses the class's methods (e.g., getDay, getMonth) remains unaffected as long as the interface remains consistent.\n",
    "\n",
    "Security:\n",
    "Encapsulation helps in controlling access to sensitive data by providing accessors (getter methods) and mutators (setter methods) with specific access levels. This ensures that data is accessed and modified in a controlled and secure manner.\n",
    "\n",
    "Example: A class representing a user profile may encapsulate the user's password, allowing access only through a secure method like setPassword and ensuring that the password cannot be directly accessed from outside the class."
   ]
  },
  {
   "cell_type": "markdown",
   "metadata": {},
   "source": [
    "10. What is the purpose of abstract methods, and how do they enforce abstraction in Python classes?"
   ]
  },
  {
   "cell_type": "markdown",
   "metadata": {},
   "source": [
    "Abstract methods in Python are methods declared in an abstract base class (ABC) that have no implementation in the base class itself. Instead, their implementation is provided by concrete subclasses. The primary purpose of abstract methods is to define a common interface that must be implemented by all concrete subclasses, enforcing a certain level of abstraction in the design of a class hierarchy."
   ]
  },
  {
   "cell_type": "code",
   "execution_count": 10,
   "metadata": {},
   "outputs": [],
   "source": [
    "#Define a Common Interface:\n",
    "#Example:    \n",
    "from abc import ABC, abstractmethod\n",
    "\n",
    "class Shape(ABC):\n",
    "    @abstractmethod\n",
    "    def area(self):\n",
    "        pass\n",
    "\n",
    "    @abstractmethod\n",
    "    def perimeter(self):\n",
    "        pass"
   ]
  },
  {
   "cell_type": "code",
   "execution_count": 11,
   "metadata": {},
   "outputs": [],
   "source": [
    "#Force Implementation in Subclasses:\n",
    "#Example\n",
    "class Circle(Shape):\n",
    "    def __init__(self, radius):\n",
    "        self.radius = radius\n",
    "\n",
    "    def area(self):\n",
    "        return 3.14 * self.radius ** 2\n",
    "\n",
    "    def perimeter(self):\n",
    "        return 2 * 3.14 * self.radius"
   ]
  },
  {
   "cell_type": "code",
   "execution_count": 12,
   "metadata": {},
   "outputs": [],
   "source": [
    "#Ensure Consistency Across Subclasses:\n",
    "#Example\n",
    "class Square(Shape):\n",
    "    def __init__(self, side):\n",
    "        self.side = side\n",
    "\n",
    "    def area(self):\n",
    "        return self.side ** 2\n",
    "\n",
    "    def perimeter(self):\n",
    "        return 4 * self.side"
   ]
  },
  {
   "cell_type": "code",
   "execution_count": 13,
   "metadata": {},
   "outputs": [],
   "source": [
    "#Provide Guidelines for Subclass Implementation:\n",
    "#Example\n",
    "class Triangle(Shape):\n",
    "    def __init__(self, base, height):\n",
    "        self.base = base\n",
    "        self.height = height\n",
    "\n",
    "    def area(self):\n",
    "        return 0.5 * self.base * self.height\n",
    "\n",
    "    def perimeter(self):\n",
    "        # Custom implementation for triangles\n",
    "        pass"
   ]
  },
  {
   "cell_type": "code",
   "execution_count": 15,
   "metadata": {},
   "outputs": [
    {
     "name": "stdout",
     "output_type": "stream",
     "text": [
      "Area : 78.5\n",
      "Perimeter: 31.400000000000002\n",
      "Area : 16\n",
      "Perimeter: 16\n",
      "Area : 30.0\n",
      "Perimeter: None\n"
     ]
    }
   ],
   "source": [
    "#Support Polymorphism:\n",
    "#Example\n",
    "def print_shape_details(shape):\n",
    "    print(f\"Area : {shape.area()}\")\n",
    "    print(f\"Perimeter: {shape.perimeter()}\")\n",
    "\n",
    "circle = Circle(5)\n",
    "square = Square(4)\n",
    "triangle =  Triangle(6,10)\n",
    "\n",
    "print_shape_details(circle)\n",
    "print_shape_details(square)\n",
    "print_shape_details(triangle)"
   ]
  },
  {
   "cell_type": "markdown",
   "metadata": {},
   "source": [
    "11. Create a Python class for a vehicle system and demonstrate abstraction by defining common methods (e.g., `start()`, `stop()`) in an abstract base class."
   ]
  },
  {
   "cell_type": "code",
   "execution_count": 44,
   "metadata": {},
   "outputs": [
    {
     "name": "stdout",
     "output_type": "stream",
     "text": [
      "The car is already running.\n",
      "Stopping the car's engine.\n",
      "The bus is already running.\n",
      "Stopping the bus's engine.\n"
     ]
    }
   ],
   "source": [
    "from abc import ABC, abstractmethod\n",
    "\n",
    "class Vehicle(ABC):\n",
    "    def __init__(self,is_running ):\n",
    "        self.is_running = True\n",
    "    \n",
    "    @abstractmethod\n",
    "    def start(self):\n",
    "        pass\n",
    "    \n",
    "    @abstractmethod\n",
    "    def stop(self):\n",
    "        pass\n",
    "    \n",
    "class Car(Vehicle):\n",
    "    def start(self):\n",
    "        if not self.is_running:\n",
    "            print(\"Starting the car's engine.\")\n",
    "            self.is_running = True\n",
    "        else:\n",
    "            print(\"The car is already running.\")\n",
    "\n",
    "    def stop(self):\n",
    "        if self.is_running:\n",
    "            print(\"Stopping the car's engine.\")\n",
    "            self.is_running = False\n",
    "        else:\n",
    "            print(\"The car is already stopped.\")\n",
    "    \n",
    "class Bus(Vehicle):\n",
    "    def start(self):\n",
    "        if not self.is_running:\n",
    "            print(\"Starting the bus's engine.\")\n",
    "            self.is_running = True\n",
    "        else:\n",
    "            print(\"The bus is already running.\")\n",
    "\n",
    "    def stop(self):\n",
    "        if self.is_running:\n",
    "            print(\"Stopping the bus's engine.\")\n",
    "            self.is_running = False\n",
    "        else:\n",
    "            print(\"The bus is already stopped.\")\n",
    "            \n",
    "\n",
    "def display_info(vehicle):\n",
    "    vehicle.start()\n",
    "    vehicle.stop()\n",
    "# example usage\n",
    "car = Car(True)\n",
    "bus = Bus(False)\n",
    "\n",
    "display_info(car)\n",
    "display_info(bus)"
   ]
  },
  {
   "cell_type": "markdown",
   "metadata": {},
   "source": [
    "13. Create a Python class hierarchy for employees in a company (e.g., manager, developer, designer) and implement abstraction by defining a common `get_salary()` method."
   ]
  },
  {
   "cell_type": "code",
   "execution_count": 10,
   "metadata": {},
   "outputs": [
    {
     "name": "stdout",
     "output_type": "stream",
     "text": [
      "Ashish post - Manager salary: 61000\n",
      "John post - Developer salary: 55000\n",
      "Aman post - Designer salary: 45000\n"
     ]
    }
   ],
   "source": [
    "from abc import ABC, abstractmethod\n",
    "\n",
    "class Employee(ABC):\n",
    "    def __init__(self, name, post):\n",
    "        self.name = name\n",
    "        self.post = post\n",
    "\n",
    "    @abstractmethod\n",
    "    def get_salary(self):\n",
    "        pass\n",
    "\n",
    "class Manager(Employee):\n",
    "    def __init__(self, name, post, manager_id, team_size):\n",
    "        super().__init__(name, post)\n",
    "        self.manager_id = manager_id\n",
    "        self.team_size = team_size\n",
    "\n",
    "    def get_salary(self):\n",
    "        base_salary = 60000\n",
    "        bonus = self.team_size * 100\n",
    "        return base_salary + bonus\n",
    "\n",
    "class Developer(Employee):\n",
    "    def __init__(self, name, post, developer_id, language):\n",
    "        super().__init__(name, post)\n",
    "        self.developer_id = developer_id\n",
    "        self.language = language\n",
    "\n",
    "    def get_salary(self):\n",
    "        base_salary = 50000\n",
    "        bonus = 5000 if self.language.lower() == \"java\" else 0\n",
    "        return base_salary + bonus\n",
    "\n",
    "class Designer(Employee):\n",
    "    def __init__(self, name, post, designer_id, creative_skill):\n",
    "        super().__init__(name, post)\n",
    "        self.designer_id = designer_id\n",
    "        self.creative_skill = creative_skill\n",
    "\n",
    "    def get_salary(self):\n",
    "        base_salary = 45000\n",
    "        bonus = 1000 if self.creative_skill <= 5 else 0\n",
    "        return base_salary + bonus\n",
    "\n",
    "# Creating instances\n",
    "manager = Manager(name='Ashish', post='Manager', manager_id='ashish001', team_size=10)\n",
    "developer = Developer(name='John', post='Developer', developer_id='john123', language='java')\n",
    "designer = Designer(name='Aman', post='Designer', designer_id='aman123', creative_skill=7)\n",
    "\n",
    "print(f\"{manager.name} post - {manager.post} salary: {manager.get_salary()}\")\n",
    "print(f\"{developer.name} post - {developer.post} salary: {developer.get_salary()}\")\n",
    "print(f\"{designer.name} post - {designer.post} salary: {designer.get_salary()}\")\n"
   ]
  },
  {
   "cell_type": "markdown",
   "metadata": {},
   "source": [
    "14. Discuss the differences between abstract classes and concrete classes in Python, including their\n",
    "instantiation."
   ]
  },
  {
   "cell_type": "markdown",
   "metadata": {},
   "source": [
    "Abstract Classes:\n",
    "* Abstract classes are classes that can not be intantiated on their own.They are designed to be subclassed and typically contain abstract methods that must be implemented by their concrete subclasses.\n",
    "* Abstract classes in python created using the 'ABC'module.\n",
    "* You cannot create an instance of an abstract class directly. Attempting to do so will result in a TypeError.\n",
    "* Abstract classes serve as a blueprint or interface, providing a structure that concrete subclasses must adhere to.\n",
    "\n",
    "* Abstract classes often include abstract methods, which are declared in the abstract class but do not have an implementation.\n",
    "* Concrete subclasses must provide implementations for these abstract methods."
   ]
  },
  {
   "cell_type": "code",
   "execution_count": null,
   "metadata": {},
   "outputs": [],
   "source": [
    "from abc import ABC, abstractmethod\n",
    "\n",
    "class Shape(ABC):\n",
    "    @abstractmethod\n",
    "    def area(self):\n",
    "        pass\n",
    "\n",
    "# Attempting to create an instance of an abstract class will raise a TypeError\n",
    "# shape = Shape()  # Raises TypeError"
   ]
  },
  {
   "cell_type": "markdown",
   "metadata": {},
   "source": [
    "Concrete Classes:\n",
    "* Concrete classes are classes that can be instantiated directly. They can be used to create objects, and they may have complete implementations for their methods.\n",
    "* Concrete classes can be instantiated without requiring further subclassing.\n",
    "* Instances of concrete classes can be created using the class name followed by parentheses, with or without constructor arguments.\n",
    "* Concrete classes may provide complete implementations for all their methods. Unlike abstract classes, they can be instantiated and used directly without the need for further subclassing."
   ]
  },
  {
   "cell_type": "code",
   "execution_count": 77,
   "metadata": {},
   "outputs": [
    {
     "name": "stdout",
     "output_type": "stream",
     "text": [
      "15\n"
     ]
    }
   ],
   "source": [
    "from abc import ABC, abstractmethod\n",
    "\n",
    "class Shape(ABC):\n",
    "    @abstractmethod\n",
    "    def area(self):\n",
    "        pass\n",
    "\n",
    "class Rectangle(Shape):\n",
    "    def __init__(self, length, width):\n",
    "        self.length = length\n",
    "        self.width = width\n",
    "\n",
    "    def area(self):\n",
    "        return self.length * self.width\n",
    "\n",
    "# Creating an instance of the concrete class is allowed\n",
    "rectangle = Rectangle(5, 3)\n",
    "print(rectangle.area()) "
   ]
  },
  {
   "cell_type": "markdown",
   "metadata": {},
   "source": [
    "15. Explain the concept of abstract data types (ADTs) and their role in achieving abstraction in Python."
   ]
  },
  {
   "cell_type": "markdown",
   "metadata": {},
   "source": [
    "Abstract Data Types (ADTs) are a high-level concept in computer science that refer to a mathematical model representing a certain class of data structures. ADTs define a set of operations that can be performed on the data, without specifying the underlying implementation details. The goal is to provide a clear interface for interacting with the data while hiding the internal workings."
   ]
  },
  {
   "cell_type": "markdown",
   "metadata": {},
   "source": [
    "Concept of ADTs and their role in achieving abstraction in Python:\n",
    "Mathematical Model:\n",
    "An ADT is defined by its behavior and the operations that can be performed on it, rather than by its specific implementation. This abstraction allows developers to think about the data and its operations at a higher level, focusing on what the data structure should do rather than how it should be done.\n",
    "\n",
    "Encapsulation:\n",
    "ADTs encapsulate the data and the operations that can be performed on that data into a single unit. This encapsulation hides the internal details and exposes only the essential functionalities. This encapsulation is a key aspect of achieving abstraction.\n",
    "\n",
    "Clear Interface:\n",
    "ADTs provide a clear and well-defined interface that specifies the operations that can be performed. Users of the ADT don't need to know how these operations are implemented; they only need to know what the operations do and what their expected behavior is.\n",
    "\n",
    "Implementation Flexibility:\n",
    "The separation between the interface and implementation allows for flexibility in how an ADT is implemented. Different data structures or algorithms can be used to fulfill the requirements of the ADT without affecting the users of the ADT."
   ]
  },
  {
   "cell_type": "markdown",
   "metadata": {},
   "source": [
    "16. Create a Python class for a computer system, demonstrating abstraction by defining common methods (e.g., `power_on()`, `shutdown()`) in an abstract base class."
   ]
  },
  {
   "cell_type": "code",
   "execution_count": 3,
   "metadata": {},
   "outputs": [
    {
     "name": "stdout",
     "output_type": "stream",
     "text": [
      "System getting started\n",
      "System getting closed\n"
     ]
    }
   ],
   "source": [
    "from abc import ABC, abstractmethod\n",
    "\n",
    "class ComputerSystem(ABC):\n",
    "    \n",
    "    @abstractmethod\n",
    "    def power_on(self):\n",
    "        pass\n",
    "    \n",
    "    @abstractmethod\n",
    "    def shutdown(self):\n",
    "        pass\n",
    "\n",
    "def display(computer):\n",
    "    computer.power_on()\n",
    "    computer.shutdown()\n",
    "\n",
    "# You need to create a class that inherits from ComputerSystem\n",
    "class MyComputer(ComputerSystem):\n",
    "    \n",
    "    def power_on(self):\n",
    "        print(\"System getting started\")\n",
    "    \n",
    "    def shutdown(self):\n",
    "        print(\"System getting closed\")\n",
    "\n",
    "# Create an instance of your class\n",
    "computer1 = MyComputer()\n",
    "\n",
    "# Call the display function with the instance\n",
    "display(computer1)\n"
   ]
  },
  {
   "cell_type": "markdown",
   "metadata": {},
   "source": [
    "17. Discuss the benefits of using abstraction in large-scale software development projects."
   ]
  },
  {
   "cell_type": "markdown",
   "metadata": {},
   "source": [
    " Here are several benefits of using abstraction, especially in large-scale software development projects:\n",
    "\n",
    "* Complexity Management:\n",
    "Abstraction allows developers to manage and reduce complexity by breaking down the system into manageable, modular pieces. Each module represents a high-level concept or entity, making it easier to understand and maintain.\n",
    "\n",
    "* Code Reusability:\n",
    "Abstraction encourages the creation of reusable components and libraries. This not only saves development time but also promotes consistency and reduces the likelihood of errors.\n",
    "\n",
    "\n",
    "* Ease of Maintenance:\n",
    "When changes or updates are required, Developers can modify or replace components without affecting the overall functionality, provided that the abstraction's interface remains consistent.\n",
    "\n",
    "* Modularity:\n",
    "Abstraction promotes a modular design where components are developed and maintained independently. This modularity enhances code organization, facilitates collaboration among development teams, and allows for parallel development efforts.\n",
    "\n",
    "* Encapsulation:\n",
    "Abstraction often involves encapsulating implementation details within a well-defined interface. This encapsulation hides complexity, protecting the internal workings of a module.\n",
    "\n",
    "* Adaptability to Change:\n",
    "Abstraction provides a level of insulation from changes in the underlying technologies or implementation details. If there's a need to switch to a different database, update a third-party library, or adapt to new requirements, the impact can be minimized by maintaining a stable abstraction layer.\n",
    "\n",
    "* Facilitates Team Collaboration:\n",
    " Abstraction provides a common language and conceptual framework that makes it easier for different team members to understand and contribute to the codebase.\n",
    " \n",
    "* Testing and Debugging:\n",
    "Abstraction allows for more effective testing and debugging. Developers can focus on testing individual components in isolation, ensuring that each abstracted module functions correctly. \n",
    "\n",
    "* Scalability:\n",
    "As the project grows, abstraction helps maintain scalability. New features or changes can be introduced without disrupting the existing architecture, provided that the abstracted interfaces are respected. This facilitates the incremental growth of the system.\n",
    "\n",
    "* Enhances Documentation:\n",
    "Abstraction inherently encourages better documentation practices. "
   ]
  },
  {
   "cell_type": "markdown",
   "metadata": {},
   "source": [
    "18. Explain how abstraction enhances code reusability and modularity in Python programs."
   ]
  },
  {
   "cell_type": "markdown",
   "metadata": {},
   "source": [
    "* Modularity:\n",
    "Abstraction promotes a modular design where components are developed and maintained independently. This modularity enhances code organization, facilitates collaboration among development teams, and allows for parallel development efforts.\n",
    "\n",
    "* Code Reusability:\n",
    "Abstraction encourages the creation of reusable components and libraries. This not only saves development time but also promotes consistency and reduces the likelihood of errors.\n"
   ]
  },
  {
   "cell_type": "markdown",
   "metadata": {},
   "source": [
    "19. Create a Python class for a library system, implementing abstraction by defining common methods (e.g., `add_book()`, `borrow_book()`) in an abstract base class."
   ]
  },
  {
   "cell_type": "code",
   "execution_count": 4,
   "metadata": {},
   "outputs": [
    {
     "name": "stdout",
     "output_type": "stream",
     "text": [
      "Book 'The Great Gatsby' by F. Scott Fitzgerald added to the library.\n",
      "Book 'To Kill a Mockingbird' by Harper Lee added to the library.\n",
      "Library Books:\n",
      "The Great Gatsby by F. Scott Fitzgerald\n",
      "To Kill a Mockingbird by Harper Lee\n",
      "You have borrowed the book 'The Great Gatsby'.\n",
      "Book 'Non-existent Book' not found in the library.\n",
      "Library Books:\n",
      "To Kill a Mockingbird by Harper Lee\n",
      "You have returned the book 'The Great Gatsby' to the library.\n",
      "Library Books:\n",
      "To Kill a Mockingbird by Harper Lee\n",
      "The Great Gatsby by \n"
     ]
    }
   ],
   "source": [
    "from abc import ABC, abstractmethod\n",
    "\n",
    "class LibrarySystem(ABC):\n",
    "    def __init__(self):\n",
    "        self.books = []\n",
    "\n",
    "    @abstractmethod\n",
    "    def add_book(self, title, author):\n",
    "        pass\n",
    "\n",
    "    @abstractmethod\n",
    "    def borrow_book(self, title):\n",
    "        pass\n",
    "\n",
    "    @abstractmethod\n",
    "    def return_book(self, title):\n",
    "        pass\n",
    "\n",
    "    def display_books(self):\n",
    "        print(\"Library Books:\")\n",
    "        for book in self.books:\n",
    "            print(f\"{book['title']} by {book['author']}\")\n",
    "\n",
    "# Create a specific implementation of the LibrarySystem abstract class\n",
    "class MyLibrarySystem(LibrarySystem):\n",
    "    def add_book(self, title, author):\n",
    "        book = {'title': title, 'author': author}\n",
    "        self.books.append(book)\n",
    "        print(f\"Book '{title}' by {author} added to the library.\")\n",
    "\n",
    "    def borrow_book(self, title):\n",
    "        for book in self.books:\n",
    "            if book['title'] == title:\n",
    "                self.books.remove(book)\n",
    "                print(f\"You have borrowed the book '{title}'.\")\n",
    "                return\n",
    "        print(f\"Book '{title}' not found in the library.\")\n",
    "\n",
    "    def return_book(self, title):\n",
    "        book = {'title': title, 'author': ''}\n",
    "        self.books.append(book)\n",
    "        print(f\"You have returned the book '{title}' to the library.\")\n",
    "\n",
    "# Example usage\n",
    "library_system = MyLibrarySystem()\n",
    "\n",
    "library_system.add_book(\"The Great Gatsby\", \"F. Scott Fitzgerald\")\n",
    "library_system.add_book(\"To Kill a Mockingbird\", \"Harper Lee\")\n",
    "\n",
    "library_system.display_books()\n",
    "\n",
    "library_system.borrow_book(\"The Great Gatsby\")\n",
    "library_system.borrow_book(\"Non-existent Book\")\n",
    "\n",
    "library_system.display_books()\n",
    "\n",
    "library_system.return_book(\"The Great Gatsby\")\n",
    "\n",
    "library_system.display_books()\n"
   ]
  },
  {
   "cell_type": "markdown",
   "metadata": {},
   "source": [
    "20. Describe the concept of method abstraction in Python and how it relates to polymorphism."
   ]
  },
  {
   "cell_type": "markdown",
   "metadata": {},
   "source": [
    "Method abstraction in Python involves defining abstract methods in a base class (or an interface) that are meant to be overridden by concrete methods in its derived classes. This concept helps to create a common interface or set of behaviors that subclasses must implement. Abstract methods do not have a defined implementation in the abstract base class; instead, they serve as a contract, specifying what methods must be provided by concrete subclasses."
   ]
  },
  {
   "cell_type": "code",
   "execution_count": 6,
   "metadata": {},
   "outputs": [
    {
     "name": "stdout",
     "output_type": "stream",
     "text": [
      "Circle Area: 78.5\n",
      "Square Area: 16\n"
     ]
    }
   ],
   "source": [
    "from abc import ABC, abstractmethod\n",
    "\n",
    "class Shape(ABC):\n",
    "    @abstractmethod\n",
    "    def area(self):\n",
    "        pass\n",
    "\n",
    "class Circle(Shape):\n",
    "    def __init__(self, radius):\n",
    "        self.radius = radius\n",
    "\n",
    "    def area(self):\n",
    "        return 3.14 * self.radius**2\n",
    "\n",
    "class Square(Shape):\n",
    "    def __init__(self, side_length):\n",
    "        self.side_length = side_length\n",
    "\n",
    "    def area(self):\n",
    "        return self.side_length**2\n",
    "\n",
    "# Usage\n",
    "circle = Circle(5)\n",
    "square = Square(4)\n",
    "\n",
    "print(f\"Circle Area: {circle.area()}\")\n",
    "print(f\"Square Area: {square.area()}\")\n"
   ]
  },
  {
   "cell_type": "markdown",
   "metadata": {},
   "source": [
    "In this example, Shape is an abstract base class with an abstract method area. The Circle and Square classes are concrete subclasses that inherit from Shape and provide their own implementations of the area method. This demonstrates method abstraction, where the abstract method area defines a common interface for all shapes, and polymorphism comes into play when different shapes can be used interchangeably through a common interface (the area method)."
   ]
  },
  {
   "cell_type": "markdown",
   "metadata": {},
   "source": [
    "# Composition:"
   ]
  },
  {
   "cell_type": "markdown",
   "metadata": {},
   "source": [
    "1. Explain the concept of composition in Python and how it is used to build complex objects from simpler ones."
   ]
  },
  {
   "cell_type": "markdown",
   "metadata": {},
   "source": [
    "Composition in Python is a design principle in object-oriented programming that involves creating complex objects by combining simpler ones. Instead of relying on inheritance (as in the case of class inheritance), composition allows you to build objects by including instances of other classes as attributes. This promotes code reuse, modularity, and flexibility in designing complex systems.\n",
    "\n",
    "Key points about composition in Python:\n",
    "\n",
    "Object Composition:\n",
    "Composition involves creating relationships between classes where one class contains an object of another class.This relationship allows the creation of more complex objects by combining the functionality of simpler objects.\n",
    "\n",
    "Attribute-based Composition:\n",
    "Complex objects are created by including instances of other classes as attributes within the defining class.Attributes represent the components or parts of the composite object.\n",
    "\n",
    "Code Reusability:\n",
    "Composition encourages code reuse because you can use existing classes as building blocks for new, more complex classes.\n",
    "\n",
    "Modularity:\n",
    "Composition promotes modularity by breaking down a system into smaller, more manageable components.\n",
    "Each class is responsible for a specific aspect of functionality, making the codebase easier to understand and maintain.\n",
    "\n",
    "Flexibility and Loose Coupling:\n",
    "Composition provides flexibility, allowing you to change the behavior of a class by modifying or substituting the components it contains.\n",
    "It leads to loose coupling between classes, as changes to one class do not necessarily affect the others."
   ]
  },
  {
   "cell_type": "markdown",
   "metadata": {},
   "source": [
    "2. Describe the difference between composition and inheritance in object-oriented programming."
   ]
  },
  {
   "cell_type": "markdown",
   "metadata": {},
   "source": [
    "Composition is \"has-a\" relationship: An object \"has-a\" component or parts.\n",
    "\n",
    "Inheritance is \"is-a\" relationship: A derived class \"is-a\" type of its base class.\n",
    "\n",
    "Composition is more flexible and modular.\n",
    "\n",
    "Inheritance is more rigid and can lead to a more tightly coupled design.\n",
    "\n",
    "Both have their use cases, and the choice depends on the specific requirements of the system being developed."
   ]
  },
  {
   "cell_type": "markdown",
   "metadata": {},
   "source": [
    "3. Create a Python class called `Author` with attributes for name and birthdate. Then, create a `Book` class\n",
    "that contains an instance of `Author` as a composition. Provide an example of creating a `Book` object."
   ]
  },
  {
   "cell_type": "code",
   "execution_count": 16,
   "metadata": {},
   "outputs": [
    {
     "name": "stdout",
     "output_type": "stream",
     "text": [
      "Title: Harry Potter and the Sorcerer's Stone\n",
      "Author: J.K. Rowling\n",
      "Birthdate: July 31, 1965\n",
      "Publication Year: 1997\n"
     ]
    }
   ],
   "source": [
    "class Author:\n",
    "    def __init__(self, name, birthdate):\n",
    "        self.name = name\n",
    "        self.birthdate = birthdate\n",
    "\n",
    "class Book:\n",
    "    def __init__(self, title, author, publication_year):\n",
    "        self.title = title\n",
    "        self.author = author  # Composition: Book has an Author\n",
    "        self.publication_year = publication_year\n",
    "\n",
    "    def display_info(self):\n",
    "        return f\"Title: {self.title}\\nAuthor: {self.author.name}\\nBirthdate: {self.author.birthdate}\\nPublication Year: {self.publication_year}\"\n",
    "\n",
    "# Example of creating Author and Book objects\n",
    "author1 = Author(name=\"J.K. Rowling\", birthdate=\"July 31, 1965\")\n",
    "\n",
    "# Using composition to create a Book object\n",
    "book1 = Book(title=\"Harry Potter and the Sorcerer's Stone\", author=author1, publication_year=1997)\n",
    "\n",
    "# Displaying information about the Book\n",
    "print(book1.display_info())\n"
   ]
  },
  {
   "cell_type": "markdown",
   "metadata": {},
   "source": [
    "4. Discuss the benefits of using composition over inheritance in Python, especially in terms of code flexibility\n",
    "and reusability."
   ]
  },
  {
   "cell_type": "markdown",
   "metadata": {},
   "source": [
    "Composition promotes code reuse by allowing the use of existing classes as components or parts of a new class.Complex objects are constructed by including instances of other classes as attributes.\n",
    "\n",
    "Whereas, Inheritance promotes code reuse by allowing the derived class to inherit attributes and behaviors from the base class.Subclasses can reuse and extend the functionality of their superclass.\n",
    "\n",
    "Composition provides greater flexibility because it allows you to change the behavior of a class by modifying or substituting the components it contains.Components can be easily replaced or extended without affecting the entire class hierarchy.\n",
    "\n",
    "Whereas,Inheritance can lead to rigidity because changes in the base class can affect all derived classes.It introduces a strong coupling between the base class and its subclasses.\n",
    "\n",
    "In summary, composition in Python provides a more flexible and reusable approach to building complex objects, emphasizing modularity, loose coupling, and adaptability. It aligns well with the principles of object-oriented design and supports a more maintainable and scalable codebase. While inheritance has its uses, composition is often favored for its advantages in the context of modern software development."
   ]
  },
  {
   "cell_type": "markdown",
   "metadata": {},
   "source": [
    "5. How can you implement composition in Python classes? Provide examples of using composition to create\n",
    "complex objects."
   ]
  },
  {
   "cell_type": "code",
   "execution_count": 19,
   "metadata": {},
   "outputs": [
    {
     "name": "stdout",
     "output_type": "stream",
     "text": [
      "Engine starting and Wheels rotating\n"
     ]
    }
   ],
   "source": [
    "\"\"\"\n",
    "In Python, you can implement composition by including instances of other classes as attributes\n",
    "within a class. Here's an example:\"\"\"\n",
    "# Example 1: Basic Composition\n",
    "\n",
    "class Engine:\n",
    "    def start(self):\n",
    "        return \"Engine starting\"\n",
    "\n",
    "class Wheels:\n",
    "    def rotate(self):\n",
    "        return \"Wheels rotating\"\n",
    "\n",
    "class Car:\n",
    "    def __init__(self):\n",
    "        self.engine = Engine()  # Composition: Car has an Engine\n",
    "        self.wheels = Wheels()  # Composition: Car has Wheels\n",
    "\n",
    "    def start(self):\n",
    "        return f\"{self.engine.start()} and {self.wheels.rotate()}\"\n",
    "\n",
    "# Create a Car object using composition\n",
    "my_car = Car()\n",
    "\n",
    "# Display information about the car\n",
    "print(my_car.start())\n"
   ]
  },
  {
   "cell_type": "markdown",
   "metadata": {},
   "source": [
    "6. Create a Python class hierarchy for a music player system, using composition to represent playlists and\n",
    "songs."
   ]
  },
  {
   "cell_type": "code",
   "execution_count": 20,
   "metadata": {},
   "outputs": [
    {
     "name": "stdout",
     "output_type": "stream",
     "text": [
      "Playlist: My Playlist\n",
      "Playing: Song 1 by Artist 1\n",
      "Playing: Song 2 by Artist 2\n",
      "\n",
      "\n",
      "Playlist: Favorites\n",
      "Playing: Song 3 by Artist 3\n",
      "Playing: Song 4 by Artist 4\n",
      "\n",
      "\n"
     ]
    }
   ],
   "source": [
    "class Song:\n",
    "    def __init__(self, title, artist, duration):\n",
    "        self.title = title\n",
    "        self.artist = artist\n",
    "        self.duration = duration\n",
    "\n",
    "    def play(self):\n",
    "        return f\"Playing: {self.title} by {self.artist}\"\n",
    "\n",
    "class Playlist:\n",
    "    def __init__(self, name):\n",
    "        self.name = name\n",
    "        self.songs = []  # Composition: Playlist has a list of songs\n",
    "\n",
    "    def add_song(self, song):\n",
    "        self.songs.append(song)\n",
    "\n",
    "    def play_all(self):\n",
    "        return [song.play() for song in self.songs]\n",
    "\n",
    "class MusicPlayer:\n",
    "    def __init__(self):\n",
    "        self.playlists = []  # Composition: MusicPlayer has a list of playlists\n",
    "\n",
    "    def add_playlist(self, playlist):\n",
    "        self.playlists.append(playlist)\n",
    "\n",
    "# Example Usage:\n",
    "\n",
    "# Create songs\n",
    "song1 = Song(title=\"Song 1\", artist=\"Artist 1\", duration=\"3:30\")\n",
    "song2 = Song(title=\"Song 2\", artist=\"Artist 2\", duration=\"4:15\")\n",
    "\n",
    "# Create a playlist and add songs\n",
    "playlist1 = Playlist(name=\"My Playlist\")\n",
    "playlist1.add_song(song1)\n",
    "playlist1.add_song(song2)\n",
    "\n",
    "# Create more songs and another playlist\n",
    "song3 = Song(title=\"Song 3\", artist=\"Artist 3\", duration=\"2:45\")\n",
    "song4 = Song(title=\"Song 4\", artist=\"Artist 4\", duration=\"3:50\")\n",
    "\n",
    "playlist2 = Playlist(name=\"Favorites\")\n",
    "playlist2.add_song(song3)\n",
    "playlist2.add_song(song4)\n",
    "\n",
    "# Create a music player and add playlists\n",
    "music_player = MusicPlayer()\n",
    "music_player.add_playlist(playlist1)\n",
    "music_player.add_playlist(playlist2)\n",
    "\n",
    "# Play songs from playlists\n",
    "for playlist in music_player.playlists:\n",
    "    print(f\"Playlist: {playlist.name}\")\n",
    "    print(\"\\n\".join(playlist.play_all()))\n",
    "    print(\"\\n\")\n"
   ]
  },
  {
   "cell_type": "markdown",
   "metadata": {},
   "source": [
    "7. Explain the concept of \"has-a\" relationships in composition and how it helps design software systems."
   ]
  },
  {
   "cell_type": "markdown",
   "metadata": {},
   "source": [
    "The concept of \"has-a\" relationships in composition refers to the idea that one class contains an instance of another class as an attribute. It signifies a relationship where a class is composed of or has one or more instances of another class. This relationship is established through the inclusion of objects within the defining class, promoting code reuse, modularity, and flexibility in software design.\n",
    "\"has-a\" relationships in composition provides a powerful mechanism for designing software systems. By including instances of other classes as attributes, developers can create modular, reusable, and flexible code that adapts well to changes and promotes good software engineering principles."
   ]
  },
  {
   "cell_type": "markdown",
   "metadata": {},
   "source": [
    "8. Create a Python class for a computer system, using composition to represent components like CPU, RAM,\n",
    "and storage devices."
   ]
  },
  {
   "cell_type": "code",
   "execution_count": 21,
   "metadata": {},
   "outputs": [
    {
     "name": "stdout",
     "output_type": "stream",
     "text": [
      "Computer System:\n",
      "CPU: Intel i7 (4 cores)\n",
      "RAM: 16 GB, 2400 MHz\n",
      "Storage: SSD 256 GB\n"
     ]
    }
   ],
   "source": [
    "class CPU:\n",
    "    def __init__(self, brand, model, cores):\n",
    "        self.brand = brand\n",
    "        self.model = model\n",
    "        self.cores = cores\n",
    "\n",
    "    def __str__(self):\n",
    "        return f\"CPU: {self.brand} {self.model} ({self.cores} cores)\"\n",
    "\n",
    "class RAM:\n",
    "    def __init__(self, capacity, speed):\n",
    "        self.capacity = capacity\n",
    "        self.speed = speed\n",
    "\n",
    "    def __str__(self):\n",
    "        return f\"RAM: {self.capacity} GB, {self.speed} MHz\"\n",
    "\n",
    "class Storage:\n",
    "    def __init__(self, type, capacity):\n",
    "        self.type = type\n",
    "        self.capacity = capacity\n",
    "\n",
    "    def __str__(self):\n",
    "        return f\"Storage: {self.type} {self.capacity} GB\"\n",
    "\n",
    "class ComputerSystem:\n",
    "    def __init__(self, cpu, ram, storage):\n",
    "        self.cpu = cpu  # Composition: ComputerSystem has a CPU\n",
    "        self.ram = ram  # Composition: ComputerSystem has RAM\n",
    "        self.storage = storage  # Composition: ComputerSystem has storage\n",
    "\n",
    "    def display_info(self):\n",
    "        return f\"Computer System:\\n{self.cpu}\\n{self.ram}\\n{self.storage}\"\n",
    "\n",
    "# Example Usage:\n",
    "\n",
    "# Create CPU, RAM, and Storage objects\n",
    "cpu = CPU(brand=\"Intel\", model=\"i7\", cores=4)\n",
    "ram = RAM(capacity=16, speed=2400)\n",
    "storage = Storage(type=\"SSD\", capacity=256)\n",
    "\n",
    "# Create a ComputerSystem object using composition\n",
    "computer = ComputerSystem(cpu=cpu, ram=ram, storage=storage)\n",
    "\n",
    "# Display information about the computer system\n",
    "print(computer.display_info())\n"
   ]
  },
  {
   "cell_type": "markdown",
   "metadata": {},
   "source": [
    "9. Describe the concept of \"delegation\" in composition and how it simplifies the design of complex systems."
   ]
  },
  {
   "cell_type": "markdown",
   "metadata": {},
   "source": [
    "The concept of \"delegation\" in composition refers to the practice of one class passing the responsibility for a particular task to another class by using its methods. In other words, a class delegates some of its functionalities or behaviors to another class that is better suited to handle those responsibilities. This design approach promotes code reuse, modularity, and flexibility, making it easier to manage and understand complex systems.\n",
    "\n",
    "* Task Delegation:\n",
    "Delegation involves assigning specific tasks or responsibilities to another class.\n",
    "\n",
    "* Modular and Reusable Components:\n",
    "Delegation leads to a modular design where each class has a well-defined responsibility.\n",
    "Components can be reused in different contexts, promoting a more modular and reusable codebase.\n",
    "\n",
    "* Promotes Single Responsibility Principle (SRP):\n",
    "Delegation aligns with the Single Responsibility Principle, which states that a class should have only one reason to change.\n",
    "\n",
    "* Clear Separation of Concerns:\n",
    "Delegation enables a clear separation of concerns within a system.\n",
    "Each class is responsible for its own domain, and the relationships between classes are explicit.\n",
    "\n",
    "* Enhanced Flexibility:\n",
    "Delegation allows for flexibility and adaptability in a system.\n",
    "\n",
    "* Promotes Collaboration:\n",
    "Delegation encourages collaboration between classes.\n",
    "Different classes can collaborate through delegation, with each class contributing its specialized expertise to achieve a common goal.\n",
    "\n",
    "* Avoids Complex Inheritance Hierarchies:\n",
    "Delegation can be a preferred alternative to complex inheritance hierarchies.\n",
    "\n",
    "* Better Testing and Debugging:\n",
    "Delegated components can be tested independently, simplifying unit testing and debugging."
   ]
  },
  {
   "cell_type": "markdown",
   "metadata": {},
   "source": [
    "10. Create a Python class for a car, using composition to represent components like the engine, wheels, and\n",
    "transmission."
   ]
  },
  {
   "cell_type": "code",
   "execution_count": 23,
   "metadata": {},
   "outputs": [
    {
     "name": "stdout",
     "output_type": "stream",
     "text": [
      "Engine starting, Transmission shifting, and Wheels rotating\n"
     ]
    }
   ],
   "source": [
    "class Engine:\n",
    "    def __init__(self, fuel_type, horsepower):\n",
    "        self.fuel_type = fuel_type\n",
    "        self.horsepower = horsepower\n",
    "\n",
    "    def start(self):\n",
    "        return \"Engine starting\"\n",
    "\n",
    "class Wheels:\n",
    "    def __init__(self, tire_type):\n",
    "        self.tire_type = tire_type\n",
    "\n",
    "    def rotate(self):\n",
    "        return \"Wheels rotating\"\n",
    "\n",
    "class Transmission:\n",
    "    def __init__(self, transmission_type):\n",
    "        self.transmission_type = transmission_type\n",
    "\n",
    "    def shift(self):\n",
    "        return \"Transmission shifting\"\n",
    "\n",
    "class Car:\n",
    "    def __init__(self, engine, wheels, transmission):\n",
    "        self.engine = engine  # Composition: Car has an Engine\n",
    "        self.wheels = wheels  # Composition: Car has Wheels\n",
    "        self.transmission = transmission  # Composition: Car has Transmission\n",
    "\n",
    "    def drive(self):\n",
    "        return f\"{self.engine.start()}, {self.transmission.shift()}, and {self.wheels.rotate()}\"\n",
    "\n",
    "# Example Usage:\n",
    "\n",
    "# Create Engine, Wheels, and Transmission objects\n",
    "car_engine = Engine(fuel_type=\"Gasoline\", horsepower=200)\n",
    "car_wheels = Wheels(tire_type=\"All-season\")\n",
    "car_transmission = Transmission(transmission_type=\"Automatic\")\n",
    "\n",
    "# Create a Car object using composition\n",
    "my_car = Car(engine=car_engine, wheels=car_wheels, transmission=car_transmission)\n",
    "\n",
    "# Drive the car and display information\n",
    "print(my_car.drive())\n"
   ]
  },
  {
   "cell_type": "markdown",
   "metadata": {},
   "source": [
    "11. How can you encapsulate and hide the details of composed objects in Python classes to maintain\n",
    "abstraction?"
   ]
  },
  {
   "cell_type": "markdown",
   "metadata": {},
   "source": [
    "Some techniques to encapsulate and hide the details of composed objects in Python classes:\n",
    "\n",
    "Private Attributes and Methods:\n",
    "\n",
    "Use a single leading underscore (e.g., _attribute) to indicate that an attribute or method is intended for internal use and should not be accessed directly from outside the class.\n"
   ]
  },
  {
   "cell_type": "markdown",
   "metadata": {},
   "source": [
    "Name Mangling:\n",
    "\n",
    "Use a double leading underscore (e.g., __attribute) to perform name mangling, which makes the attribute or method name more difficult to access from outside the class."
   ]
  },
  {
   "cell_type": "markdown",
   "metadata": {},
   "source": [
    "Properties:\n",
    "\n",
    "Use properties to control access to attributes and add getter and setter methods. This allows you to perform additional actions when getting or setting the values."
   ]
  },
  {
   "cell_type": "markdown",
   "metadata": {},
   "source": [
    "12. Create a Python class for a university course, using composition to represent students, instructors, and\n",
    "course materials."
   ]
  },
  {
   "cell_type": "code",
   "execution_count": 26,
   "metadata": {},
   "outputs": [
    {
     "name": "stdout",
     "output_type": "stream",
     "text": [
      "Course Code: CSCI101\n",
      "Course Name: Introduction to Python Programming\n",
      "Instructor: Instructor ID: I001, Name: Dr. Smith\n",
      "Students:\n",
      "Student ID: S001, Name: Alice\n",
      "Student ID: S002, Name: Bob\n",
      "Course Material:\n",
      "Course Material - Title: Introduction to Python\n",
      "Content: Basic concepts of Python programming.\n"
     ]
    }
   ],
   "source": [
    "class Student:\n",
    "    def __init__(self, student_id, name):\n",
    "        self.student_id = student_id\n",
    "        self.name = name\n",
    "\n",
    "    def __str__(self):\n",
    "        return f\"Student ID: {self.student_id}, Name: {self.name}\"\n",
    "\n",
    "class Instructor:\n",
    "    def __init__(self, instructor_id, name):\n",
    "        self.instructor_id = instructor_id\n",
    "        self.name = name\n",
    "\n",
    "    def __str__(self):\n",
    "        return f\"Instructor ID: {self.instructor_id}, Name: {self.name}\"\n",
    "\n",
    "class CourseMaterial:\n",
    "    def __init__(self, title, content):\n",
    "        self.title = title\n",
    "        self.content = content\n",
    "\n",
    "    def __str__(self):\n",
    "        return f\"Course Material - Title: {self.title}\\nContent: {self.content}\"\n",
    "\n",
    "class UniversityCourse:\n",
    "    def __init__(self, course_code, course_name, instructor, students, course_material):\n",
    "        self.course_code = course_code\n",
    "        self.course_name = course_name\n",
    "        self.instructor = instructor  # Composition: UniversityCourse has an Instructor\n",
    "        self.students = students  # Composition: UniversityCourse has a list of Students\n",
    "        self.course_material = course_material  # Composition: UniversityCourse has CourseMaterial\n",
    "\n",
    "    def display_info(self):\n",
    "        students_info = \"\\n\".join(str(student) for student in self.students)\n",
    "        return f\"Course Code: {self.course_code}\\nCourse Name: {self.course_name}\\nInstructor: {self.instructor}\\nStudents:\\n{students_info}\\nCourse Material:\\n{self.course_material}\"\n",
    "\n",
    "# Example Usage:\n",
    "\n",
    "# Create students and instructor\n",
    "student1 = Student(student_id=\"S001\", name=\"Alice\")\n",
    "student2 = Student(student_id=\"S002\", name=\"Bob\")\n",
    "instructor = Instructor(instructor_id=\"I001\", name=\"Dr. Smith\")\n",
    "\n",
    "# Create course material\n",
    "course_material = CourseMaterial(title=\"Introduction to Python\", content=\"Basic concepts of Python programming.\")\n",
    "\n",
    "# Create a UniversityCourse object using composition\n",
    "python_course = UniversityCourse(\n",
    "    course_code=\"CSCI101\",\n",
    "    course_name=\"Introduction to Python Programming\",\n",
    "    instructor=instructor,\n",
    "    students=[student1, student2],\n",
    "    course_material=course_material)\n",
    "\n",
    "# Display information about the university course\n",
    "print(python_course.display_info())"
   ]
  },
  {
   "cell_type": "markdown",
   "metadata": {},
   "source": [
    "13. Discuss the challenges and drawbacks of composition, such as increased complexity and potential for\n",
    "tight coupling between objects."
   ]
  },
  {
   "cell_type": "markdown",
   "metadata": {},
   "source": [
    "Here are some common challenges associated with composition:\n",
    "\n",
    "Increased Complexity:\n",
    "As the number of composed objects increases, the overall complexity of the system may grow. \n",
    "\n",
    "Potential for Tight Coupling:\n",
    "Composition can lead to tight coupling between objects if not managed carefully. \n",
    "\n",
    "Interface Changes:\n",
    "If the interfaces of the composed objects change, it may necessitate modifications in the classes that use those objects. This can result in cascading changes throughout the system.\n",
    "\n",
    "Maintenance Challenges:\n",
    "When modifications or updates are required, especially to the internal details of a composed object, it may impact other classes using that object. \n",
    "\n",
    "Object Initialization Order:\n",
    "The order in which objects are initialized can be crucial in a composition-based design. If the objects rely on each other during initialization, ensuring a proper initialization order becomes important to avoid runtime errors.\n",
    "\n",
    "Inheritance vs. Composition Dilemma:\n",
    "Choosing between inheritance and composition can be a dilemma. While composition is often favored for its flexibility, there might be cases where inheritance is more appropriate.\n",
    "\n",
    "Performance Concerns:\n",
    "Composition might introduce a slight overhead in terms of performance compared to a more tightly integrated design. \n",
    "\n",
    "Design Decision Complexity:\n",
    "Deciding how to compose objects, which components to include, and how to manage dependencies requires careful consideration. \n",
    "\n",
    "Nesting Complexity:\n",
    "As compositions are nested, understanding the relationships between various levels of components can become complex. Deeply nested compositions may result in code that is harder to read and comprehend.\n",
    "\n",
    "Creation of Many Small Objects:\n",
    "Composition can result in the creation of many small objects, each responsible for a specific task. "
   ]
  },
  {
   "cell_type": "markdown",
   "metadata": {},
   "source": [
    "14. Create a Python class hierarchy for a restaurant system, using composition to represent menus, dishes,\n",
    "and ingredients."
   ]
  },
  {
   "cell_type": "code",
   "execution_count": 27,
   "metadata": {},
   "outputs": [
    {
     "name": "stdout",
     "output_type": "stream",
     "text": [
      "Menu: Italian Delights\n",
      "Dishes:\n",
      "Dish: Margherita Pizza\n",
      "Description: Classic pizza with tomato, cheese, and basil\n",
      "Ingredients:\n",
      "2 pieces of Tomato\n",
      "100 grams of Cheese\n",
      "1 bunch of Basil\n",
      "\n",
      "Dish: Pasta Carbonara\n",
      "Description: Pasta with creamy egg and bacon sauce\n",
      "Ingredients:\n",
      "100 grams of Cheese\n",
      "1 bunch of Basil\n"
     ]
    }
   ],
   "source": [
    "class Ingredient:\n",
    "    def __init__(self, name, quantity, unit):\n",
    "        self.name = name\n",
    "        self.quantity = quantity\n",
    "        self.unit = unit\n",
    "\n",
    "    def __str__(self):\n",
    "        return f\"{self.quantity} {self.unit} of {self.name}\"\n",
    "\n",
    "class Dish:\n",
    "    def __init__(self, name, description, ingredients):\n",
    "        self.name = name\n",
    "        self.description = description\n",
    "        self.ingredients = ingredients  # Composition: Dish has a list of Ingredients\n",
    "\n",
    "    def __str__(self):\n",
    "        ingredients_info = \"\\n\".join(str(ingredient) for ingredient in self.ingredients)\n",
    "        return f\"Dish: {self.name}\\nDescription: {self.description}\\nIngredients:\\n{ingredients_info}\"\n",
    "\n",
    "class Menu:\n",
    "    def __init__(self, name, dishes):\n",
    "        self.name = name\n",
    "        self.dishes = dishes  # Composition: Menu has a list of Dishes\n",
    "\n",
    "    def __str__(self):\n",
    "        dishes_info = \"\\n\\n\".join(str(dish) for dish in self.dishes)\n",
    "        return f\"Menu: {self.name}\\nDishes:\\n{dishes_info}\"\n",
    "\n",
    "# Example Usage:\n",
    "\n",
    "# Create ingredients\n",
    "ingredient1 = Ingredient(name=\"Tomato\", quantity=2, unit=\"pieces\")\n",
    "ingredient2 = Ingredient(name=\"Cheese\", quantity=100, unit=\"grams\")\n",
    "ingredient3 = Ingredient(name=\"Basil\", quantity=1, unit=\"bunch\")\n",
    "\n",
    "# Create dishes\n",
    "dish1 = Dish(name=\"Margherita Pizza\", description=\"Classic pizza with tomato, cheese, and basil\", ingredients=[ingredient1, ingredient2, ingredient3])\n",
    "dish2 = Dish(name=\"Pasta Carbonara\", description=\"Pasta with creamy egg and bacon sauce\", ingredients=[ingredient2, ingredient3])\n",
    "\n",
    "# Create a menu\n",
    "menu = Menu(name=\"Italian Delights\", dishes=[dish1, dish2])\n",
    "\n",
    "# Display information about the restaurant system\n",
    "print(menu)\n"
   ]
  },
  {
   "cell_type": "markdown",
   "metadata": {},
   "source": [
    "15. Explain how composition enhances code maintainability and modularity in Python programs."
   ]
  },
  {
   "cell_type": "markdown",
   "metadata": {},
   "source": [
    "Composition enhances code maintainability and modularity in Python programs.\n",
    "\n",
    "* Separation of Concerns:\n",
    "Composition allows breaking down a system into smaller, more manageable components, each responsible for a specific aspect of functionality. \n",
    "\n",
    "* Modularity:\n",
    "Each class in a composition-based design can be viewed as a module with well-defined functionality. These modules (classes) can be developed, tested, and maintained independently, promoting modularity.\n",
    "\n",
    "* Reusability:\n",
    "Composed objects can be reused in different contexts, leading to code reuse. \n",
    "\n",
    "* Flexibility and Adaptability:\n",
    "Composition enables the construction of flexible and adaptable systems. Components can be added, modified, or replaced without affecting the entire system. \n",
    "\n",
    "* Encapsulation:\n",
    "Each class encapsulates its implementation details, exposing only a well-defined interface to the outside world. \n",
    "\n",
    "* Reduced Code Duplication:\n",
    "Through composition, common functionality can be encapsulated in reusable components. This reduces code duplication, as the same component can be used across different parts of the system.\n",
    "\n",
    "* Ease of Testing:\n",
    "Composed objects can be tested independently, facilitating unit testing. Each component can be tested in isolation, ensuring that it behaves as expected.\n",
    "\n",
    "* Loose Coupling:\n",
    "Composition typically results in looser coupling between components. \n",
    "\n",
    "* clear Interfaces:\n",
    "Components in a composition-based design have clear and well-defined interfaces. This makes it easy for developers to understand how to use each component and promotes a consistent and predictable structure in the codebase.\n",
    "\n",
    "* Simplifies Maintenance:\n",
    "When a change is required, developers can focus on modifying or adding components without having to understand and modify the entire system.\n",
    "\n",
    "* Scalability:\n",
    "Composition supports scalability by allowing the addition of new components or the modification of existing ones. Systems can evolve and grow by incorporating new functionality through composition."
   ]
  },
  {
   "cell_type": "markdown",
   "metadata": {},
   "source": [
    "16. Create a Python class for a computer game character, using composition to represent attributes like\n",
    "weapons, armor, and inventory."
   ]
  },
  {
   "cell_type": "code",
   "execution_count": 29,
   "metadata": {},
   "outputs": [
    {
     "name": "stdout",
     "output_type": "stream",
     "text": [
      "Hero - Health: 100\n",
      "Weapon: Sword, Armor: Shield\n",
      "Inventory: Health Potion\n",
      "Evil Goblin - Health: 50\n",
      "Weapon: Claws, Armor: None\n",
      "Inventory: Magic Scroll\n",
      "Hero attacks Evil Goblin with Sword and deals 15 damage.\n",
      "Hero - Health: 100\n",
      "Weapon: Sword, Armor: Shield\n",
      "Inventory: Health Potion, Gold Coin\n"
     ]
    }
   ],
   "source": [
    "class Weapon:\n",
    "    def __init__(self, name, damage):\n",
    "        self.name, self.damage = name, damage\n",
    "\n",
    "class Armor:\n",
    "    def __init__(self, name, defense):\n",
    "        self.name, self.defense = name, defense\n",
    "\n",
    "class Inventory:\n",
    "    def __init__(self, items):\n",
    "        self.items = items\n",
    "\n",
    "class GameCharacter:\n",
    "    def __init__(self, name, health, weapon, armor, inventory):\n",
    "        self.name, self.health = name, health\n",
    "        self.weapon, self.armor, self.inventory = weapon, armor, inventory\n",
    "\n",
    "    def attack(self, target):\n",
    "        damage_dealt = self.weapon.damage\n",
    "        target.health -= damage_dealt\n",
    "        return f\"{self.name} attacks {target.name} with {self.weapon.name} and deals {damage_dealt} damage.\"\n",
    "\n",
    "    def equip_armor(self, new_armor):\n",
    "        self.armor = new_armor\n",
    "\n",
    "    def pick_up_item(self, item):\n",
    "        self.inventory.items.append(item)\n",
    "\n",
    "    def display_info(self):\n",
    "        return f\"{self.name} - Health: {self.health}\\nWeapon: {self.weapon.name}, Armor: {self.armor.name}\\nInventory: {', '.join(self.inventory.items)}\"\n",
    "\n",
    "# Example Usage:\n",
    "\n",
    "sword = Weapon(name=\"Sword\", damage=15)\n",
    "shield = Armor(name=\"Shield\", defense=10)\n",
    "initial_inventory = Inventory(items=[\"Health Potion\"])\n",
    "\n",
    "player_character = GameCharacter(name=\"Hero\", health=100, weapon=sword, armor=shield, inventory=initial_inventory)\n",
    "\n",
    "enemy_character = GameCharacter(name=\"Evil Goblin\", health=50, weapon=Weapon(name=\"Claws\", damage=10), armor=Armor(name=\"None\", defense=0), inventory=Inventory(items=[\"Magic Scroll\"]))\n",
    "\n",
    "print(player_character.display_info())\n",
    "\n",
    "print(enemy_character.display_info())\n",
    "\n",
    "print(player_character.attack(enemy_character))\n",
    "\n",
    "player_character.pick_up_item(\"Gold Coin\")\n",
    "print(player_character.display_info())\n"
   ]
  },
  {
   "cell_type": "markdown",
   "metadata": {},
   "source": [
    "17. Describe the concept of \"aggregation\" in composition and how it differs from simple composition."
   ]
  },
  {
   "cell_type": "markdown",
   "metadata": {},
   "source": [
    "The concept of \"aggregation\" in composition refers to a more loosely coupled form of composition, where one class (the aggregate) contains another class (the component), but the component does not have a strong lifecycle dependency on the aggregate. In aggregation, the component can exist independently of the aggregate, and it can be shared among multiple aggregates. Aggregation is often represented by a \"has-a\" relationship, similar to simple composition.\n",
    "\n",
    "Independence of Component:\n",
    "In aggregation, the component (the aggregated class) has its own lifecycle and can exist independently of the aggregate. It is not tightly bound to the aggregate, and instances of the component can be created and used outside the context of the aggregate.\n",
    "\n",
    "Multiplicity:\n",
    "Aggregation allows for a one-to-many relationship, where a single instance of the component can be shared among multiple instances of the aggregate. This is in contrast to simple composition, where the component typically has a one-to-one relationship with the aggregate.\n",
    "\n",
    "Flexibility:\n",
    "Aggregation provides greater flexibility as components can be reused across different aggregates. This flexibility allows for the creation of complex structures with shared components, promoting code reuse and modularity."
   ]
  },
  {
   "cell_type": "code",
   "execution_count": 30,
   "metadata": {},
   "outputs": [
    {
     "name": "stdout",
     "output_type": "stream",
     "text": [
      "Classroom 1: 101\n",
      "\n",
      "ABC University - Classrooms: ['101', '102']\n",
      "\n",
      "XYZ University - Classrooms: ['102']\n"
     ]
    }
   ],
   "source": [
    "#Example to demonstrate aggregration\n",
    "class Classroom:\n",
    "    def __init__(self, room_number):\n",
    "        self.room_number = room_number\n",
    "\n",
    "class University:\n",
    "    def __init__(self, name, classrooms):\n",
    "        self.name = name\n",
    "        self.classrooms = classrooms  # Aggregation: University has a list of Classrooms\n",
    "\n",
    "# Example Usage:\n",
    "\n",
    "classroom1 = Classroom(room_number=\"101\")\n",
    "classroom2 = Classroom(room_number=\"102\")\n",
    "\n",
    "university1 = University(name=\"ABC University\", classrooms=[classroom1, classroom2])\n",
    "university2 = University(name=\"XYZ University\", classrooms=[classroom2])\n",
    "\n",
    "# Classroom instances can exist independently\n",
    "print(f\"Classroom 1: {classroom1.room_number}\")\n",
    "\n",
    "# University instances have a list of classrooms\n",
    "print(f\"\\n{university1.name} - Classrooms: {[classroom.room_number for classroom in university1.classrooms]}\")\n",
    "\n",
    "print(f\"\\n{university2.name} - Classrooms: {[classroom.room_number for classroom in university2.classrooms]}\")\n"
   ]
  },
  {
   "cell_type": "markdown",
   "metadata": {},
   "source": [
    "18. Create a Python class for a house, using composition to represent rooms, furniture, and appliances."
   ]
  },
  {
   "cell_type": "code",
   "execution_count": 31,
   "metadata": {},
   "outputs": [
    {
     "name": "stdout",
     "output_type": "stream",
     "text": [
      "House: Cozy Home\n",
      "Rooms:\n",
      "Room: Living Room\n",
      "Furniture:\n",
      "Furniture: Sofa\n",
      "Furniture: Coffee Table\n",
      "Appliances:\n",
      "Appliance: TV\n",
      "Appliance: Lamp\n",
      "\n",
      "Room: Kitchen\n",
      "Furniture:\n",
      "Furniture: Dining Table\n",
      "Furniture: Chairs\n",
      "Appliances:\n",
      "Appliance: Refrigerator\n",
      "Appliance: Oven\n",
      "\n",
      "Room: Bedroom\n",
      "Furniture:\n",
      "Furniture: Bed\n",
      "Furniture: Wardrobe\n",
      "Appliances:\n",
      "Appliance: Lamp\n"
     ]
    }
   ],
   "source": [
    "class Furniture:\n",
    "    def __init__(self, name):\n",
    "        self.name = name\n",
    "\n",
    "    def __str__(self):\n",
    "        return f\"Furniture: {self.name}\"\n",
    "\n",
    "class Appliance:\n",
    "    def __init__(self, name):\n",
    "        self.name = name\n",
    "\n",
    "    def __str__(self):\n",
    "        return f\"Appliance: {self.name}\"\n",
    "\n",
    "class Room:\n",
    "    def __init__(self, name, furniture=None, appliances=None):\n",
    "        self.name = name\n",
    "        self.furniture = furniture or []  # Composition: Room has a list of Furniture\n",
    "        self.appliances = appliances or []  # Composition: Room has a list of Appliances\n",
    "\n",
    "    def add_furniture(self, furniture):\n",
    "        self.furniture.append(furniture)\n",
    "\n",
    "    def add_appliance(self, appliance):\n",
    "        self.appliances.append(appliance)\n",
    "\n",
    "    def __str__(self):\n",
    "        furniture_info = \"\\n\".join(str(item) for item in self.furniture)\n",
    "        appliance_info = \"\\n\".join(str(item) for item in self.appliances)\n",
    "        return f\"Room: {self.name}\\nFurniture:\\n{furniture_info}\\nAppliances:\\n{appliance_info}\"\n",
    "\n",
    "class House:\n",
    "    def __init__(self, name, rooms):\n",
    "        self.name = name\n",
    "        self.rooms = rooms  # Composition: House has a list of Rooms\n",
    "\n",
    "    def add_room(self, room):\n",
    "        self.rooms.append(room)\n",
    "\n",
    "    def __str__(self):\n",
    "        room_info = \"\\n\\n\".join(str(room) for room in self.rooms)\n",
    "        return f\"House: {self.name}\\nRooms:\\n{room_info}\"\n",
    "\n",
    "# Example Usage:\n",
    "\n",
    "living_room = Room(name=\"Living Room\", furniture=[Furniture(\"Sofa\"), Furniture(\"Coffee Table\")], appliances=[Appliance(\"TV\"), Appliance(\"Lamp\")])\n",
    "kitchen = Room(name=\"Kitchen\", furniture=[Furniture(\"Dining Table\"), Furniture(\"Chairs\")], appliances=[Appliance(\"Refrigerator\"), Appliance(\"Oven\")])\n",
    "\n",
    "my_house = House(name=\"Cozy Home\", rooms=[living_room, kitchen])\n",
    "\n",
    "# Add a bedroom to the house\n",
    "bedroom = Room(name=\"Bedroom\", furniture=[Furniture(\"Bed\"), Furniture(\"Wardrobe\")], appliances=[Appliance(\"Lamp\")])\n",
    "my_house.add_room(bedroom)\n",
    "\n",
    "# Display information about the house\n",
    "print(my_house)\n"
   ]
  },
  {
   "cell_type": "markdown",
   "metadata": {},
   "source": [
    "19. How can you achieve flexibility in composed objects by allowing them to be replaced or modified\n",
    "dynamically at runtime?"
   ]
  },
  {
   "cell_type": "markdown",
   "metadata": {},
   "source": [
    "Achieving flexibility in composed objects by allowing them to be replaced or modified dynamically at runtime involves leveraging concepts such as interfaces, polymorphism, and dependency injection. Here are some strategies to achieve this flexibility:\n",
    "\n",
    "Interfaces and Abstract Classes:\n",
    "Define interfaces or abstract classes for the components in your composition. This establishes a common set of methods that all components must implement.\n",
    "\n",
    "Polymorphism:\n",
    "Utilize polymorphism to enable objects to be treated as instances of their common interface or base class. \n",
    "\n",
    "Dependency Injection:\n",
    "Implement dependency injection, where the dependencies of an object are provided externally rather than being created within the object. This allows you to inject different implementations of dependencies dynamically at runtime, promoting flexibility\n",
    "\n",
    "Factory Patterns:\n",
    "Use factory patterns to create instances of objects dynamically. Factories can encapsulate the logic for creating specific instances, allowing you to change the object creation process without modifying the client code.\n",
    "\n",
    "Configurability:\n",
    "Design components with configurability in mind. Allow parameters or configurations to be passed to the components during instantiation, making it easier to replace or modify their behavior dynamically.\n"
   ]
  },
  {
   "cell_type": "markdown",
   "metadata": {},
   "source": [
    "20. Create a Python class for a social media application, using composition to represent users, posts, and\n",
    "comments."
   ]
  },
  {
   "cell_type": "code",
   "execution_count": 39,
   "metadata": {},
   "outputs": [
    {
     "name": "stdout",
     "output_type": "stream",
     "text": [
      "User: Alice\n",
      "Posts:\n",
      "Alice\n",
      "Hello, World!\n",
      "Comments:\n",
      "Alice: Nice post!\n",
      "------------------------------\n",
      "Alice\n",
      "Just posted a photo.\n",
      "Comments:\n",
      "\n",
      "User: Bob\n",
      "Posts:\n",
      "Bob\n",
      "Python is amazing!\n",
      "Comments:\n",
      "Bob: I agree.\n"
     ]
    }
   ],
   "source": [
    "class Comment:\n",
    "    def __init__(self, user, text):\n",
    "        self.user = user\n",
    "        self.text = text\n",
    "\n",
    "    def __str__(self):\n",
    "        return \"{}: {}\".format(self.user, self.text)\n",
    "\n",
    "class Post:\n",
    "    def __init__(self, user, content):\n",
    "        self.user = user\n",
    "        self.content = content\n",
    "        self.comments = []\n",
    "\n",
    "    def add_comment(self, user, text):\n",
    "        comment = Comment(user=user, text=text)\n",
    "        self.comments.append(comment)\n",
    "\n",
    "    def display_comments(self):\n",
    "        return \"\\n\".join(str(comment) for comment in self.comments)\n",
    "\n",
    "    def __str__(self):\n",
    "        return \"{}\\n{}\\nComments:\\n{}\".format(self.user, self.content, self.display_comments())\n",
    "\n",
    "class User:\n",
    "    def __init__(self, username):\n",
    "        self.username = username\n",
    "        self.posts = []\n",
    "\n",
    "    def create_post(self, content):\n",
    "        post = Post(user=self.username, content=content)\n",
    "        self.posts.append(post)\n",
    "        return post\n",
    "\n",
    "    def add_comment_to_post(self, post, text):\n",
    "        post.add_comment(user=self.username, text=text)\n",
    "\n",
    "    def __str__(self):\n",
    "        return \"User: {}\\nPosts:\\n{}\".format(self.username, ('\\n' + '-' * 30 + '\\n').join(str(post) for post in self.posts))\n",
    "\n",
    "# Example Usage:\n",
    "\n",
    "# Create users\n",
    "user1 = User(username=\"Alice\")\n",
    "user2 = User(username=\"Bob\")\n",
    "\n",
    "# Users create posts\n",
    "post1 = user1.create_post(content=\"Hello, World!\")\n",
    "post2 = user2.create_post(content=\"Python is amazing!\")\n",
    "post3 = user1.create_post(content=\"Just posted a photo.\")\n",
    "\n",
    "# Users add comments to posts\n",
    "user1.add_comment_to_post(post1, text=\"Nice post!\")\n",
    "user2.add_comment_to_post(post2, text=\"I agree.\")\n",
    "\n",
    "# Display information about users and their posts\n",
    "print(user1)\n",
    "print(user2)\n"
   ]
  },
  {
   "cell_type": "code",
   "execution_count": null,
   "metadata": {},
   "outputs": [],
   "source": []
  }
 ],
 "metadata": {
  "kernelspec": {
   "display_name": "Python 3",
   "language": "python",
   "name": "python3"
  },
  "language_info": {
   "codemirror_mode": {
    "name": "ipython",
    "version": 3
   },
   "file_extension": ".py",
   "mimetype": "text/x-python",
   "name": "python",
   "nbconvert_exporter": "python",
   "pygments_lexer": "ipython3",
   "version": "3.7.6"
  }
 },
 "nbformat": 4,
 "nbformat_minor": 4
}
